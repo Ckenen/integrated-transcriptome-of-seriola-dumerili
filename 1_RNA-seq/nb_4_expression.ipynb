{
 "cells": [
  {
   "cell_type": "code",
   "execution_count": 1,
   "metadata": {
    "ExecuteTime": {
     "end_time": "2022-03-15T05:30:07.747325Z",
     "start_time": "2022-03-15T05:30:05.831211Z"
    }
   },
   "outputs": [],
   "source": [
    "import glob\n",
    "import pandas as pd"
   ]
  },
  {
   "cell_type": "code",
   "execution_count": 14,
   "metadata": {
    "ExecuteTime": {
     "end_time": "2022-03-15T05:38:00.261083Z",
     "start_time": "2022-03-15T05:38:00.217398Z"
    }
   },
   "outputs": [],
   "source": [
    "array = []\n",
    "for path in sorted(glob.glob(\"results/expression/featureCounts/ncbi/*.txt.summary\")):\n",
    "    sample = path.split(\"/\")[-1][:-len(\".txt.summary\")]\n",
    "    names = []\n",
    "    values = []\n",
    "    with open(path) as f:\n",
    "        for line in f:\n",
    "            name, value = line.strip(\"\\n\").split(\"\\t\")\n",
    "            names.append(name)\n",
    "            values.append(value)\n",
    "    s = pd.Series(values, index=names)\n",
    "    s.name = sample\n",
    "    array.append(s)\n",
    "dat = pd.DataFrame(array)\n",
    "dat.index.name = \"Sample\"\n",
    "dat.to_csv(\"results/summary.expression.ncbi.tsv\", sep=\"\\t\")"
   ]
  },
  {
   "cell_type": "code",
   "execution_count": 15,
   "metadata": {
    "ExecuteTime": {
     "end_time": "2022-03-15T05:38:13.250842Z",
     "start_time": "2022-03-15T05:38:12.414906Z"
    }
   },
   "outputs": [],
   "source": [
    "array = []\n",
    "for path in sorted(glob.glob(\"results/expression/featureCounts/ensembl/*.txt.summary\")):\n",
    "    sample = path.split(\"/\")[-1][:-len(\".txt.summary\")]\n",
    "    names = []\n",
    "    values = []\n",
    "    with open(path) as f:\n",
    "        for line in f:\n",
    "            name, value = line.strip(\"\\n\").split(\"\\t\")\n",
    "            names.append(name)\n",
    "            values.append(value)\n",
    "    s = pd.Series(values, index=names)\n",
    "    s.name = sample\n",
    "    array.append(s)\n",
    "dat = pd.DataFrame(array)\n",
    "dat.index.name = \"Sample\"\n",
    "dat.to_csv(\"results/summary.expression.ensembl.tsv\", sep=\"\\t\")"
   ]
  },
  {
   "cell_type": "code",
   "execution_count": 16,
   "metadata": {
    "ExecuteTime": {
     "end_time": "2022-03-15T05:38:39.770212Z",
     "start_time": "2022-03-15T05:38:39.239562Z"
    }
   },
   "outputs": [],
   "source": [
    "array = []\n",
    "for path in sorted(glob.glob(\"results/expression/featureCounts/taco/*.txt.summary\")):\n",
    "    sample = path.split(\"/\")[-1][:-len(\".txt.summary\")]\n",
    "    names = []\n",
    "    values = []\n",
    "    with open(path) as f:\n",
    "        for line in f:\n",
    "            name, value = line.strip(\"\\n\").split(\"\\t\")\n",
    "            names.append(name)\n",
    "            values.append(value)\n",
    "    s = pd.Series(values, index=names)\n",
    "    s.name = sample\n",
    "    array.append(s)\n",
    "dat = pd.DataFrame(array)\n",
    "dat.index.name = \"Sample\"\n",
    "dat.to_csv(\"results/summary.expression.taco.tsv\", sep=\"\\t\")"
   ]
  }
 ],
 "metadata": {
  "kernelspec": {
   "display_name": "Python 3",
   "language": "python",
   "name": "python3"
  },
  "language_info": {
   "codemirror_mode": {
    "name": "ipython",
    "version": 3
   },
   "file_extension": ".py",
   "mimetype": "text/x-python",
   "name": "python",
   "nbconvert_exporter": "python",
   "pygments_lexer": "ipython3",
   "version": "3.6.10"
  }
 },
 "nbformat": 4,
 "nbformat_minor": 4
}
