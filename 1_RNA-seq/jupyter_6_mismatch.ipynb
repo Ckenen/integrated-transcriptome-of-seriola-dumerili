{
 "cells": [
  {
   "cell_type": "code",
   "execution_count": 1,
   "metadata": {
    "ExecuteTime": {
     "end_time": "2022-03-08T06:44:14.033636Z",
     "start_time": "2022-03-08T06:44:10.005179Z"
    }
   },
   "outputs": [],
   "source": [
    "from collections import Counter, defaultdict\n",
    "import numpy as np\n",
    "import yaml\n",
    "import json\n",
    "import pickle\n",
    "from pyBioInfo.Range import GRange\n",
    "from pyBioInfo.IO.File import FamFile, FastaFile\n",
    "from pyBioInfo.Utils import SegmentTools, BundleBuilder, BlockTools, ShiftLoader\n",
    "import gzip\n",
    "from collections import defaultdict\n",
    "import numpy as np\n",
    "import pandas as pd\n",
    "import matplotlib.pyplot as plt\n",
    "from scipy.stats import binom"
   ]
  },
  {
   "cell_type": "code",
   "execution_count": 2,
   "metadata": {
    "ExecuteTime": {
     "end_time": "2022-03-08T06:44:14.068895Z",
     "start_time": "2022-03-08T06:44:14.037252Z"
    }
   },
   "outputs": [
    {
     "name": "stdout",
     "output_type": "stream",
     "text": [
      "66\n"
     ]
    }
   ],
   "source": [
    "with open(\"config.yaml\") as f:\n",
    "    samples = yaml.load(f, Loader=yaml.BaseLoader)[\"samples\"]\n",
    "print(len(samples))"
   ]
  },
  {
   "cell_type": "code",
   "execution_count": 4,
   "metadata": {
    "ExecuteTime": {
     "end_time": "2022-03-08T06:45:26.527924Z",
     "start_time": "2022-03-08T06:44:50.194080Z"
    },
    "code_folding": []
   },
   "outputs": [],
   "source": [
    "chrom0 = \"NW_019174257.1\"\n",
    "\n",
    "# 加载NW_019174257.1中的信息，保存为GRange对象\n",
    "array1 = []\n",
    "with gzip.open(\"results/mismatch/merged/all.tsv.gz\", \"rt\") as f:\n",
    "    for line in f:\n",
    "        row = line.strip(\"\\n\").split(\"\\t\")\n",
    "        # print(chrom)\n",
    "        chrom = row[0]\n",
    "        if chrom < chrom0:\n",
    "            continue\n",
    "        elif chrom > chrom0:\n",
    "            break\n",
    "        else:\n",
    "            position = int(row[1])\n",
    "            strand = row[2]\n",
    "            covs = list(map(int, row[3].split(\":\")))\n",
    "            array = []\n",
    "            for es in row[4].split(\":\"):\n",
    "                events = []\n",
    "                for e in es.split(\";\"):\n",
    "                    if e != \"\":\n",
    "                        ref, alt, qua = e.split(\",\")\n",
    "                        qua = int(qua)\n",
    "                        events.append([ref, alt, qua])\n",
    "                array.append(events)\n",
    "            obj = GRange(chrom=chrom, start=position, end=position + 1, strand=strand)\n",
    "            obj.coverages = covs\n",
    "            obj.all_events = array\n",
    "            array1.append(obj)"
   ]
  },
  {
   "cell_type": "code",
   "execution_count": 5,
   "metadata": {
    "ExecuteTime": {
     "end_time": "2022-03-08T06:45:32.228227Z",
     "start_time": "2022-03-08T06:45:32.216801Z"
    }
   },
   "outputs": [
    {
     "data": {
      "text/plain": [
       "252808"
      ]
     },
     "execution_count": 5,
     "metadata": {},
     "output_type": "execute_result"
    }
   ],
   "source": [
    "len(array1)"
   ]
  },
  {
   "cell_type": "code",
   "execution_count": 6,
   "metadata": {
    "ExecuteTime": {
     "end_time": "2022-03-08T06:48:24.474895Z",
     "start_time": "2022-03-08T06:48:14.570350Z"
    }
   },
   "outputs": [
    {
     "data": {
      "text/plain": [
       "Counter({0: 239326, 1: 13398, 2: 84})"
      ]
     },
     "execution_count": 6,
     "metadata": {},
     "output_type": "execute_result"
    }
   ],
   "source": [
    "for obj1 in array1:\n",
    "    coverages = obj1.coverages\n",
    "    all_events = obj1.all_events\n",
    "    mtypes = []\n",
    "    for cov, es in zip(coverages, all_events):\n",
    "        counter = defaultdict(int) # high-confidence mismatch event in single sample\n",
    "        for ref, alt, qua in es:\n",
    "            if qua >= 20:\n",
    "                counter[(ref ,alt)] += 1\n",
    "        for (ref, alt), num in counter.items():\n",
    "            ratio = num / cov\n",
    "            if cov >= 10 and num >= 3 and ratio >= 0.3:\n",
    "                mtypes.append((ref, alt))\n",
    "    mtypes = list(set(mtypes)) # 潜在的突变类型\n",
    "    obj1.high_confidence = mtypes\n",
    "Counter([len(obj1.high_confidence) for obj1 in array1])"
   ]
  },
  {
   "cell_type": "code",
   "execution_count": 67,
   "metadata": {
    "ExecuteTime": {
     "end_time": "2022-03-08T08:18:45.030737Z",
     "start_time": "2022-03-08T08:18:40.782867Z"
    },
    "scrolled": true
   },
   "outputs": [
    {
     "name": "stderr",
     "output_type": "stream",
     "text": [
      "/home/chenzonggui/anaconda3/lib/python3.6/site-packages/ipykernel_launcher.py:21: RuntimeWarning: invalid value encountered in true_divide\n",
      "/home/chenzonggui/anaconda3/lib/python3.6/site-packages/ipykernel_launcher.py:22: RuntimeWarning: invalid value encountered in greater_equal\n"
     ]
    }
   ],
   "source": [
    "edits = defaultdict(int)\n",
    "for obj in array1[:10000]:\n",
    "    if len(obj.snps) > 0:\n",
    "        continue\n",
    "        \n",
    "    ref_base = None\n",
    "    covs = np.array(obj.coverages)\n",
    "    counters = []\n",
    "    for es in obj.all_events:\n",
    "        counter = defaultdict(int)\n",
    "        for ref, alt, qua in es:\n",
    "            ref_base = ref\n",
    "            if qua >= 0:\n",
    "                counter[alt] += 1\n",
    "        counters.append(counter)\n",
    "    \n",
    "    for alt in \"ACGT\":\n",
    "        if alt == ref_base:\n",
    "            continue\n",
    "        counts = np.array([c[alt] for c in counters])\n",
    "        ratios = counts / covs\n",
    "        flags = (covs >= 10) & (counts >= 5) & (ratios >= 0)\n",
    "        if sum(flags) > 0:\n",
    "            edits[(ref_base, alt)] += 1\n",
    "            # print(obj.start, obj.strand, ref_base, alt, len(obj.snps), sep=\"\\t\")\n",
    "            # print(counts)\n",
    "            # print(ratios)\n",
    "            # print(flags)\n",
    "            # print(covs[flags])\n",
    "            # print(counts[flags])\n",
    "            # print(ratios[flags])\n",
    "    # break"
   ]
  },
  {
   "cell_type": "code",
   "execution_count": 68,
   "metadata": {
    "ExecuteTime": {
     "end_time": "2022-03-08T08:18:45.036755Z",
     "start_time": "2022-03-08T08:18:45.032245Z"
    }
   },
   "outputs": [
    {
     "data": {
      "text/plain": [
       "(defaultdict(int,\n",
       "             {('C', 'T'): 88,\n",
       "              ('A', 'T'): 246,\n",
       "              ('G', 'A'): 88,\n",
       "              ('T', 'G'): 67,\n",
       "              ('T', 'A'): 347,\n",
       "              ('A', 'G'): 182,\n",
       "              ('T', 'C'): 157,\n",
       "              ('C', 'G'): 76,\n",
       "              ('A', 'C'): 79,\n",
       "              ('G', 'C'): 45,\n",
       "              ('G', 'T'): 28,\n",
       "              ('C', 'A'): 39}),\n",
       " 0.1262135922330097)"
      ]
     },
     "execution_count": 68,
     "metadata": {},
     "output_type": "execute_result"
    }
   ],
   "source": [
    "edits, edits[(\"A\", \"G\")] / sum(edits.values())"
   ]
  },
  {
   "cell_type": "code",
   "execution_count": 51,
   "metadata": {
    "ExecuteTime": {
     "end_time": "2022-03-08T08:07:14.998842Z",
     "start_time": "2022-03-08T08:06:56.268675Z"
    },
    "code_folding": [
     2
    ]
   },
   "outputs": [],
   "source": [
    "# Load candidate SNPs\n",
    "array2 = []\n",
    "with gzip.open(\"../8_wgs/results/mismatch/merged/all.tsv.gz\", \"rt\") as f:\n",
    "    for line in f:\n",
    "        row = line.strip(\"\\n\").split(\"\\t\")\n",
    "        chrom = row[0]\n",
    "        if chrom < \"NW_019174257.1\":\n",
    "            continue\n",
    "        elif chrom > \"NW_019174257.1\":\n",
    "            break\n",
    "        else:\n",
    "            position = int(row[1])\n",
    "            covs = list(map(int, row[2].split(\":\")))\n",
    "            array = []\n",
    "            for es in row[3].split(\":\"):\n",
    "                events = []\n",
    "                for e in es.split(\";\"):\n",
    "                    if e != \"\":\n",
    "                        ref, alt, qua = e.split(\",\")\n",
    "                        qua = int(qua)\n",
    "                        events.append([ref, alt, qua])\n",
    "                array.append(events)\n",
    "            obj = GRange(chrom=chrom, start=position, end=position + 1)\n",
    "            obj.coverages = covs\n",
    "            obj.all_events = array\n",
    "            array2.append(obj)"
   ]
  },
  {
   "cell_type": "code",
   "execution_count": 52,
   "metadata": {
    "ExecuteTime": {
     "end_time": "2022-03-08T08:07:18.506192Z",
     "start_time": "2022-03-08T08:07:15.001167Z"
    }
   },
   "outputs": [
    {
     "data": {
      "text/plain": [
       "Counter({0: 51408, 1: 78676, 2: 306})"
      ]
     },
     "execution_count": 52,
     "metadata": {},
     "output_type": "execute_result"
    }
   ],
   "source": [
    "# high confidence SNPs\n",
    "for obj2 in array2:\n",
    "    coverages = obj2.coverages\n",
    "    all_events = obj2.all_events\n",
    "    mtypes = []\n",
    "    for cov, es in zip(coverages, all_events):\n",
    "        counter = defaultdict(int)\n",
    "        for ref, alt, qua in es:\n",
    "            if qua >= 20:\n",
    "                counter[(ref ,alt)] += 1\n",
    "        for (ref, alt), num in counter.items():\n",
    "            ratio = num / cov\n",
    "            if cov >= 10 and num >= 3 and ratio >= 0.3:\n",
    "                mtypes.append((ref, alt))\n",
    "    mtypes = list(set(mtypes))\n",
    "    obj2.high_confidence = mtypes\n",
    "Counter([len(obj2.high_confidence) for obj2 in array2])"
   ]
  },
  {
   "cell_type": "code",
   "execution_count": 55,
   "metadata": {
    "ExecuteTime": {
     "end_time": "2022-03-08T08:09:31.198373Z",
     "start_time": "2022-03-08T08:09:30.484366Z"
    }
   },
   "outputs": [
    {
     "data": {
      "text/plain": [
       "Counter({0: 231916, 1: 20892})"
      ]
     },
     "execution_count": 55,
     "metadata": {},
     "output_type": "execute_result"
    }
   ],
   "source": [
    "loader = ShiftLoader(array2)\n",
    "for obj1 in array1:\n",
    "    obj1.snps = [obj2 for obj2 in loader.fetch(obj=obj1)]\n",
    "Counter([len(obj1.snps) for obj1 in array1])"
   ]
  },
  {
   "cell_type": "code",
   "execution_count": 56,
   "metadata": {
    "ExecuteTime": {
     "end_time": "2022-03-08T08:09:38.154768Z",
     "start_time": "2022-03-08T08:09:38.069036Z"
    }
   },
   "outputs": [
    {
     "data": {
      "text/plain": [
       "Counter({0: 234518, 1: 18179, 2: 111})"
      ]
     },
     "execution_count": 56,
     "metadata": {},
     "output_type": "execute_result"
    }
   ],
   "source": [
    "array = []\n",
    "for obj in array1:\n",
    "    n = 0\n",
    "    for snp in obj.snps:\n",
    "        n += len(snp.high_confidence)\n",
    "    array.append(n)\n",
    "Counter(array)"
   ]
  },
  {
   "cell_type": "code",
   "execution_count": null,
   "metadata": {},
   "outputs": [],
   "source": []
  }
 ],
 "metadata": {
  "kernelspec": {
   "display_name": "Python 3",
   "language": "python",
   "name": "python3"
  },
  "language_info": {
   "codemirror_mode": {
    "name": "ipython",
    "version": 3
   },
   "file_extension": ".py",
   "mimetype": "text/x-python",
   "name": "python",
   "nbconvert_exporter": "python",
   "pygments_lexer": "ipython3",
   "version": "3.6.10"
  }
 },
 "nbformat": 4,
 "nbformat_minor": 4
}
