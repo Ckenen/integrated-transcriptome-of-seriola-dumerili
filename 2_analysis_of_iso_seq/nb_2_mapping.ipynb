{
 "cells": [
  {
   "cell_type": "code",
   "execution_count": 4,
   "metadata": {
    "ExecuteTime": {
     "end_time": "2023-10-14T08:16:47.049225Z",
     "start_time": "2023-10-14T08:16:47.042470Z"
    }
   },
   "outputs": [],
   "source": [
    "import gzip\n",
    "from collections import defaultdict\n",
    "import numpy as np\n",
    "import pandas as pd\n",
    "from Bio import SeqIO\n",
    "import matplotlib.pyplot as plt"
   ]
  },
  {
   "cell_type": "markdown",
   "metadata": {},
   "source": [
    "# Mapping summary"
   ]
  },
  {
   "cell_type": "code",
   "execution_count": 11,
   "metadata": {
    "ExecuteTime": {
     "end_time": "2022-03-22T06:50:44.926321Z",
     "start_time": "2022-03-22T06:50:05.514131Z"
    }
   },
   "outputs": [
    {
     "name": "stdout",
     "output_type": "stream",
     "text": [
      "Ju_Mi\t163218\t166293\t166280\t13\t0.9999203519219694\n",
      "Ad_Fe\t189169\t194724\t194622\t102\t0.9994607996024719\n",
      "Ad_Ma\t149716\t153617\t153588\t29\t0.9998062999278634\n"
     ]
    }
   ],
   "source": [
    "for name in [\"Ju_Mi\", \"Ad_Fe\", \"Ad_Ma\"]:\n",
    "    num1 = 0\n",
    "    with gzip.open(\"results/isoseq/polished/%s.hq.fasta.gz\" % name, \"rt\") as f:\n",
    "        for read in SeqIO.parse(f, \"fasta\"):\n",
    "            num1 += 1\n",
    "    num2 = 0\n",
    "    num3 = 0\n",
    "    with open(\"results/mapping/mapped/%s.stats\" % name) as f:\n",
    "        for line in f:\n",
    "            if \"Total reads:\" in line:\n",
    "                num2 = int(line.strip(\"\\n\").split()[-1])\n",
    "            if \"Mapped reads:\" in line:\n",
    "                num3 = int(line.strip(\"\\n\").split()[-2])\n",
    "    num4 = num2 - num3\n",
    "    ratio = 1 - num4 / num1\n",
    "    print(name, num1, num2, num3, num4, ratio, sep=\"\\t\")"
   ]
  },
  {
   "cell_type": "markdown",
   "metadata": {},
   "source": [
    "# Soft-clip"
   ]
  },
  {
   "cell_type": "code",
   "execution_count": 20,
   "metadata": {
    "ExecuteTime": {
     "end_time": "2023-10-14T08:23:20.902999Z",
     "start_time": "2023-10-14T08:23:20.786441Z"
    },
    "scrolled": true
   },
   "outputs": [
    {
     "data": {
      "image/png": "[encoded data removed]",
      "text/plain": [
       "<Figure size 432x288 with 1 Axes>"
      ]
     },
     "metadata": {
      "needs_background": "light"
     },
     "output_type": "display_data"
    }
   ],
   "source": [
    "def get_ratios(counter, max_clip):\n",
    "    ys = np.array([counter[clip] for clip in np.arange(max_clip)])\n",
    "    ys[-1] = sum(counter.values()) - sum(ys[:-1])\n",
    "    ys = ys * 100 / sum(ys)\n",
    "    return ys\n",
    "\n",
    "dat = pd.read_csv(\"results/mapping/stat_clip/Ad_Ma.mp2.tsv\", sep=\"\\t\")\n",
    "counter1 = defaultdict(int)\n",
    "counter2 = defaultdict(int)\n",
    "for clip1, clip2, count in dat[[\"HeadClip\", \"TailClip\", \"Count\"]].values:\n",
    "    counter1[clip1] += count\n",
    "    counter2[clip2] += count\n",
    "\n",
    "max_clip = 10\n",
    "ys1 = get_ratios(counter1, max_clip)\n",
    "ys2 = get_ratios(counter2, max_clip)\n",
    "xs = np.arange(len(ys1))\n",
    "ticks = list(map(str, xs))\n",
    "ticks[-1] = \">=%s\" % ticks[-1]\n",
    "plt.figure()\n",
    "plt.plot(xs, ys1)\n",
    "plt.plot(xs, ys2)\n",
    "plt.xticks(xs, ticks)\n",
    "plt.ylim(0, 100)\n",
    "plt.tight_layout()\n",
    "plt.show()"
   ]
  },
  {
   "cell_type": "code",
   "execution_count": 23,
   "metadata": {
    "ExecuteTime": {
     "end_time": "2023-10-14T08:41:20.747577Z",
     "start_time": "2023-10-14T08:41:20.739249Z"
    }
   },
   "outputs": [
    {
     "data": {
      "text/plain": [
       "97.32735650920033"
      ]
     },
     "execution_count": 23,
     "metadata": {},
     "output_type": "execute_result"
    }
   ],
   "source": [
    "sum(ys2[:6])"
   ]
  },
  {
   "cell_type": "code",
   "execution_count": null,
   "metadata": {},
   "outputs": [],
   "source": []
  },
  {
   "cell_type": "markdown",
   "metadata": {},
   "source": [
    "# Internal primming"
   ]
  },
  {
   "cell_type": "code",
   "execution_count": null,
   "metadata": {},
   "outputs": [],
   "source": []
  }
 ],
 "metadata": {
  "kernelspec": {
   "display_name": "Python 3",
   "language": "python",
   "name": "python3"
  },
  "language_info": {
   "codemirror_mode": {
    "name": "ipython",
    "version": 3
   },
   "file_extension": ".py",
   "mimetype": "text/x-python",
   "name": "python",
   "nbconvert_exporter": "python",
   "pygments_lexer": "ipython3",
   "version": "3.6.13"
  }
 },
 "nbformat": 4,
 "nbformat_minor": 4
}
