{
 "cells": [
  {
   "cell_type": "code",
   "execution_count": 219,
   "metadata": {
    "ExecuteTime": {
     "end_time": "2021-08-21T15:28:45.258684Z",
     "start_time": "2021-08-21T15:28:45.254769Z"
    }
   },
   "outputs": [],
   "source": [
    "import sys\n",
    "import os\n",
    "import re\n",
    "from collections import Counter\n",
    "import pandas as pd\n",
    "from Bio import SeqIO\n",
    "from pyBioInfo.IO.File import GtfFile, GtfTranscriptBuilder, GtfGeneBuilder, FastaFile"
   ]
  },
  {
   "cell_type": "code",
   "execution_count": 3,
   "metadata": {
    "ExecuteTime": {
     "end_time": "2021-08-20T11:07:14.486970Z",
     "start_time": "2021-08-20T11:07:14.482203Z"
    }
   },
   "outputs": [
    {
     "name": "stdout",
     "output_type": "stream",
     "text": [
      "4316589\n"
     ]
    }
   ],
   "source": [
    "with GtfFile(\"results/assembly/final.gtf.gz\") as f:\n",
    "    records = [x for x in f]\n",
    "print(len(records))"
   ]
  },
  {
   "cell_type": "code",
   "execution_count": 4,
   "metadata": {
    "ExecuteTime": {
     "end_time": "2021-08-20T11:08:15.049551Z",
     "start_time": "2021-08-20T11:07:23.328392Z"
    }
   },
   "outputs": [
    {
     "name": "stdout",
     "output_type": "stream",
     "text": [
      "47413\n"
     ]
    }
   ],
   "source": [
    "genes = list(GtfGeneBuilder(records))\n",
    "print(len(genes))"
   ]
  },
  {
   "cell_type": "code",
   "execution_count": 8,
   "metadata": {
    "ExecuteTime": {
     "end_time": "2021-08-20T11:11:14.944268Z",
     "start_time": "2021-08-20T11:11:14.878204Z"
    }
   },
   "outputs": [
    {
     "name": "stdout",
     "output_type": "stream",
     "text": [
      "47376\n"
     ]
    }
   ],
   "source": [
    "genes = list(filter(lambda item: item.chrom != \"NC_016870.1\", genes))\n",
    "print(len(genes))"
   ]
  },
  {
   "cell_type": "code",
   "execution_count": 10,
   "metadata": {
    "ExecuteTime": {
     "end_time": "2021-08-20T11:12:23.731942Z",
     "start_time": "2021-08-20T11:12:23.604400Z"
    }
   },
   "outputs": [
    {
     "name": "stdout",
     "output_type": "stream",
     "text": [
      "166139\n"
     ]
    }
   ],
   "source": [
    "transcripts = []\n",
    "for gene in genes:\n",
    "    for transcript in gene.transcripts:\n",
    "        transcripts.append(transcript)\n",
    "print(len(transcripts))"
   ]
  },
  {
   "cell_type": "code",
   "execution_count": 80,
   "metadata": {
    "ExecuteTime": {
     "end_time": "2021-08-20T13:12:57.741598Z",
     "start_time": "2021-08-20T13:12:57.739215Z"
    }
   },
   "outputs": [],
   "source": [
    "cpat = pd.read_csv(\"results/function/cpat/predict.ncbi.tsv\", sep=\"\\t\", index_col=0)  \n",
    "print(len(cpat))"
   ]
  },
  {
   "cell_type": "code",
   "execution_count": 20,
   "metadata": {
    "ExecuteTime": {
     "end_time": "2021-08-20T11:24:13.550808Z",
     "start_time": "2021-08-20T11:23:39.766370Z"
    }
   },
   "outputs": [],
   "source": [
    "mapper1 = dict()\n",
    "for tid, group in cpat.groupby(by=\"Transcript\"):\n",
    "    mapper1[tid] = group"
   ]
  },
  {
   "cell_type": "code",
   "execution_count": 36,
   "metadata": {
    "ExecuteTime": {
     "end_time": "2021-08-20T11:31:29.622516Z",
     "start_time": "2021-08-20T11:29:49.002885Z"
    }
   },
   "outputs": [],
   "source": [
    "for gene in genes:\n",
    "    for transcript in gene.transcripts:\n",
    "        transcript.cpat = mapper1.get(transcript.name)\n",
    "    array = [t.cpat for t in gene.transcripts]\n",
    "    array = list(filter(lambda item: item is not None, array))\n",
    "    if len(array) > 0:\n",
    "        gene.cpat = pd.concat(array)\n",
    "    else:\n",
    "        gene.cpat = None"
   ]
  },
  {
   "cell_type": "code",
   "execution_count": 74,
   "metadata": {
    "ExecuteTime": {
     "end_time": "2021-08-20T13:05:59.320897Z",
     "start_time": "2021-08-20T13:05:47.387327Z"
    }
   },
   "outputs": [],
   "source": [
    "diamond = pd.read_csv(\"results/function/diamond/nr.modified.annotated.tsv\", sep=\"\\t\")\n",
    "diamond[\"Transcript\"] = [x.split(\":\")[0] for x in diamond[\"ID\"]]"
   ]
  },
  {
   "cell_type": "code",
   "execution_count": 78,
   "metadata": {
    "ExecuteTime": {
     "end_time": "2021-08-20T13:08:54.059090Z",
     "start_time": "2021-08-20T13:08:30.798111Z"
    }
   },
   "outputs": [],
   "source": [
    "mapper2 = dict()\n",
    "for tid, group in diamond.groupby(by=\"Transcript\"):\n",
    "    mapper2[tid] = group"
   ]
  },
  {
   "cell_type": "code",
   "execution_count": 79,
   "metadata": {
    "ExecuteTime": {
     "end_time": "2021-08-20T13:12:57.737103Z",
     "start_time": "2021-08-20T13:11:11.003887Z"
    }
   },
   "outputs": [],
   "source": [
    "for gene in genes:\n",
    "    for transcript in gene.transcripts:\n",
    "        transcript.diamond = mapper2.get(transcript.name)\n",
    "    array = [t.diamond for t in gene.transcripts]\n",
    "    array = list(filter(lambda item: item is not None, array))\n",
    "    if len(array) > 0:\n",
    "        gene.diamond = pd.concat(array)\n",
    "    else:\n",
    "        gene.diamond = None"
   ]
  },
  {
   "cell_type": "code",
   "execution_count": 161,
   "metadata": {
    "ExecuteTime": {
     "end_time": "2021-08-20T16:52:21.143069Z",
     "start_time": "2021-08-20T16:52:10.090751Z"
    }
   },
   "outputs": [],
   "source": [
    "d1 = pd.read_csv(\"results/function/interpro/pfam.modified.tsv\", sep=\"\\t\")\n",
    "d2 = pd.read_csv(\"results/function/interpro/PANTHER.modified.tsv\", sep=\"\\t\")\n",
    "# interpro = pd.concat([d1, d2])\n",
    "interpro = d1\n",
    "interpro[\"Transcript\"] = [x.split(\":\")[0] for x in interpro[\"Accession\"]]"
   ]
  },
  {
   "cell_type": "code",
   "execution_count": null,
   "metadata": {
    "ExecuteTime": {
     "start_time": "2021-08-20T16:52:10.528Z"
    }
   },
   "outputs": [],
   "source": [
    "mapper3 = dict()\n",
    "for tid, group in interpro.groupby(by=\"Transcript\"):\n",
    "    mapper3[tid] = group"
   ]
  },
  {
   "cell_type": "code",
   "execution_count": null,
   "metadata": {
    "ExecuteTime": {
     "start_time": "2021-08-20T16:52:10.714Z"
    }
   },
   "outputs": [],
   "source": [
    "for gene in genes:\n",
    "    for transcript in gene.transcripts:\n",
    "        transcript.interpro = mapper3.get(transcript.name)\n",
    "    array = [t.interpro for t in gene.transcripts]\n",
    "    array = list(filter(lambda item: item is not None, array))\n",
    "    if len(array) > 0:\n",
    "        gene.interpro = pd.concat(array)\n",
    "    else:\n",
    "        gene.interpro = None"
   ]
  },
  {
   "cell_type": "code",
   "execution_count": 152,
   "metadata": {
    "ExecuteTime": {
     "end_time": "2021-08-20T16:46:40.409799Z",
     "start_time": "2021-08-20T16:46:06.053712Z"
    }
   },
   "outputs": [],
   "source": [
    "rows = []\n",
    "for gene in genes:\n",
    "    if gene.diamond is not None:\n",
    "        tmp = gene.diamond\n",
    "        tmp = tmp[(tmp[\"Evalue\"] < 1e-6) & (tmp[\"PercIdent\"] >= 80)]\n",
    "        tmp = tmp.sort_values(by=\"BitScore\", ascending=False)\n",
    "        if len(tmp) > 0:\n",
    "            row = tmp.iloc[0]\n",
    "            row.name = gene.name\n",
    "            rows.append(row)\n",
    "diamond_result = pd.concat(rows, axis=1).T\n",
    "diamond_result.index.name = \"GeneID\""
   ]
  },
  {
   "cell_type": "code",
   "execution_count": 180,
   "metadata": {
    "ExecuteTime": {
     "end_time": "2021-08-21T12:35:02.888226Z",
     "start_time": "2021-08-21T12:35:02.077157Z"
    }
   },
   "outputs": [],
   "source": [
    "diamond_result.to_csv(\"results/function/analysis/diamond_result.tsv\", sep=\"\\t\")"
   ]
  },
  {
   "cell_type": "code",
   "execution_count": 171,
   "metadata": {
    "ExecuteTime": {
     "end_time": "2021-08-21T12:31:02.292592Z",
     "start_time": "2021-08-21T12:30:20.099910Z"
    }
   },
   "outputs": [],
   "source": [
    "rows = []\n",
    "for gene in genes:\n",
    "    if gene.interpro is not None:\n",
    "        tmp = gene.interpro\n",
    "        tmp = tmp[(tmp[\"Evalue\"] < 1e-6) & (tmp[\"GO\"] != \"-\")]\n",
    "        tmp = tmp.sort_values(by=\"Evalue\", ascending=True)\n",
    "        if len(tmp) > 0:\n",
    "            row = tmp.iloc[0]\n",
    "            row.name = gene.name\n",
    "            rows.append(row)\n",
    "interpro_result = pd.concat(rows, axis=1).T\n",
    "interpro_result.index.name = \"GeneID\""
   ]
  },
  {
   "cell_type": "code",
   "execution_count": 178,
   "metadata": {
    "ExecuteTime": {
     "end_time": "2021-08-21T12:33:04.543650Z",
     "start_time": "2021-08-21T12:33:01.383034Z"
    }
   },
   "outputs": [],
   "source": [
    "interpro_result.to_csv(\"results/function/analysis/interpro_result.tsv\", sep=\"\\t\")"
   ]
  },
  {
   "cell_type": "code",
   "execution_count": 218,
   "metadata": {
    "ExecuteTime": {
     "end_time": "2021-08-21T15:28:45.252371Z",
     "start_time": "2021-08-21T15:26:25.125337Z"
    },
    "code_folding": [],
    "scrolled": true
   },
   "outputs": [],
   "source": [
    "lines = []\n",
    "for gene in genes:\n",
    "    for transcript in gene.transcripts:\n",
    "        exon_list = transcript.blocks\n",
    "        cds_list = None\n",
    "        if transcript.cpat is not None:\n",
    "            tmp = transcript.cpat\n",
    "            tmp = tmp[tmp[\"Coding_Prob\"] >= 0.5]\n",
    "            if len(tmp) > 0:\n",
    "                tmp = transcript.cpat.sort_values(by=\"Coding_Prob\", ascending=False)\n",
    "                row = tmp.iloc[0]\n",
    "                tid, i1, i2 = row.name.split(\":\")\n",
    "                i1, i2 = int(i1), int(i2) - 1\n",
    "                p1, p2 = transcript.position(i1), transcript.position(i2)\n",
    "                p1, p2 = min(p1, p2), max(p1, p2) + 1\n",
    "                obj = transcript.clip(p1, p2)\n",
    "                cds_list = obj.blocks\n",
    "        attri =  \"gene_id \\\"%s\\\"; transcript_id \\\"%s\\\";\" % (gene.name, transcript.name)\n",
    "        # transcript\n",
    "        line = [transcript.chrom, \"Assembly\", \"transcript\", \n",
    "                transcript.start + 1, transcript.end, \n",
    "                \".\", transcript.strand, \".\", attri]\n",
    "        lines.append(line)\n",
    "        # exon\n",
    "        for start, end in exon_list:\n",
    "            line = [transcript.chrom, \"Assembly\", \"exon\", \n",
    "                    start + 1, end, \".\", transcript.strand, \".\", attri]\n",
    "            lines.append(line)\n",
    "        # CDS\n",
    "        if cds_list:\n",
    "            offset = 0\n",
    "            for start, end in cds_list:\n",
    "                frame = 0\n",
    "                if offset % 3 == 1:\n",
    "                    frame = 2\n",
    "                if offset % 3 == 2:\n",
    "                    frame = 1\n",
    "                line = [transcript.chrom, \"Assembly\", \"CDS\", \n",
    "                    start + 1, end, \".\", transcript.strand, frame, attri]\n",
    "                lines.append(line)\n",
    "                offset += (end - start)\n",
    "    # break"
   ]
  },
  {
   "cell_type": "code",
   "execution_count": 220,
   "metadata": {
    "ExecuteTime": {
     "end_time": "2021-08-21T15:29:33.110002Z",
     "start_time": "2021-08-21T15:28:57.115069Z"
    }
   },
   "outputs": [],
   "source": [
    "with open(\"results/function/analysis/final.cds.gtf\", \"w+\") as fw:\n",
    "    for line in lines:\n",
    "        fw.write(\"\\t\".join(map(str, line)) + \"\\n\")\n",
    "cmd = \"bedtools sort -i results/function/analysis/final.cds.gtf | bgzip -f -c > results/function/analysis/final.cds.gtf.gz\"\n",
    "assert os.system(cmd) == 0\n",
    "cmd = \"tabix -f -p gff results/function/analysis/final.cds.gtf.gz\"\n",
    "assert os.system(cmd) == 0"
   ]
  },
  {
   "cell_type": "code",
   "execution_count": null,
   "metadata": {},
   "outputs": [],
   "source": []
  }
 ],
 "metadata": {
  "kernelspec": {
   "display_name": "Python 3",
   "language": "python",
   "name": "python3"
  },
  "language_info": {
   "codemirror_mode": {
    "name": "ipython",
    "version": 3
   },
   "file_extension": ".py",
   "mimetype": "text/x-python",
   "name": "python",
   "nbconvert_exporter": "python",
   "pygments_lexer": "ipython3",
   "version": "3.6.10"
  }
 },
 "nbformat": 4,
 "nbformat_minor": 4
}
