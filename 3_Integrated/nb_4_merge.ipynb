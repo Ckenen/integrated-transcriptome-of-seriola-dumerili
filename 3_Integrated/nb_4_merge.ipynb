{
 "cells": [
  {
   "cell_type": "code",
   "execution_count": 1,
   "metadata": {
    "ExecuteTime": {
     "end_time": "2022-03-23T04:48:13.088924Z",
     "start_time": "2022-03-23T04:48:08.702693Z"
    }
   },
   "outputs": [],
   "source": [
    "import pandas as pd\n",
    "import matplotlib.pyplot as plt\n",
    "from matplotlib_venn import *\n",
    "from pyBioInfo.IO.File import GtfFile, GtfGeneBuilder"
   ]
  },
  {
   "cell_type": "markdown",
   "metadata": {},
   "source": [
    "# Number of isoforms and genes"
   ]
  },
  {
   "cell_type": "code",
   "execution_count": 13,
   "metadata": {
    "ExecuteTime": {
     "end_time": "2022-03-16T08:58:34.197292Z",
     "start_time": "2022-03-16T08:58:34.189612Z"
    }
   },
   "outputs": [
    {
     "name": "stdout",
     "output_type": "stream",
     "text": [
      "45167\t169394\n"
     ]
    }
   ],
   "source": [
    "with GtfFile(\"results/assembly/final.gtf.gz\") as f:\n",
    "    genes = list(GtfGeneBuilder(f))\n",
    "genes = list(filter(lambda g: g.chrom != \"NC_016870.1\", genes))\n",
    "\n",
    "n = 0\n",
    "for g in genes:\n",
    "    isoforms += len(g.transcripts)\n",
    "print(len(genes), n, sep=\"\\t\")"
   ]
  },
  {
   "cell_type": "markdown",
   "metadata": {},
   "source": [
    "# SQANTI3: NGS and TGS"
   ]
  },
  {
   "cell_type": "code",
   "execution_count": 21,
   "metadata": {
    "ExecuteTime": {
     "end_time": "2022-03-16T09:00:38.932135Z",
     "start_time": "2022-03-16T09:00:37.154250Z"
    }
   },
   "outputs": [],
   "source": [
    "dat1 = pd.read_csv(\"results/compare/sqanti3/tgs_vs_ngs/query_classification.txt\", sep=\"\\t\", index_col=0)\n",
    "dat2 = pd.read_csv(\"results/compare/sqanti3/ngs_vs_tgs/query_classification.txt\", sep=\"\\t\", index_col=0)"
   ]
  },
  {
   "cell_type": "code",
   "execution_count": 23,
   "metadata": {
    "ExecuteTime": {
     "end_time": "2022-03-16T09:01:05.146252Z",
     "start_time": "2022-03-16T09:01:05.112327Z"
    }
   },
   "outputs": [],
   "source": [
    "d1 = dat1[dat1[\"structural_category\"] == \"intergenic\"]\n",
    "d2 = dat2[dat2[\"structural_category\"] == \"intergenic\"]"
   ]
  },
  {
   "cell_type": "code",
   "execution_count": 29,
   "metadata": {
    "ExecuteTime": {
     "end_time": "2022-03-16T09:03:27.576890Z",
     "start_time": "2022-03-16T09:03:27.566166Z"
    }
   },
   "outputs": [
    {
     "data": {
      "text/plain": [
       "(37655, 68609, 1484, 122641)"
      ]
     },
     "execution_count": 29,
     "metadata": {},
     "output_type": "execute_result"
    }
   ],
   "source": [
    "v1 = len(d1)\n",
    "v2 = len(dat1) - len(d1)\n",
    "v3 = len(d2)\n",
    "v4 = len(dat2) - len(d2)\n",
    "v1, v2, v3, v4"
   ]
  },
  {
   "cell_type": "code",
   "execution_count": 48,
   "metadata": {
    "ExecuteTime": {
     "end_time": "2022-03-16T09:10:41.159952Z",
     "start_time": "2022-03-16T09:10:41.093081Z"
    }
   },
   "outputs": [
    {
     "data": {
      "image/png": "[encoded data removed]",
      "text/plain": [
       "<Figure size 288x216 with 1 Axes>"
      ]
     },
     "metadata": {},
     "output_type": "display_data"
    }
   ],
   "source": [
    "plt.figure(figsize=(4, 3))\n",
    "v = venn2([1, 1, 1], set_labels=[\"NGS-based isoforms\", \"TGS-based isoforms\"])\n",
    "v.get_label_by_id('10').set_text(format(v1, \",\"))\n",
    "v.get_label_by_id('11').set_text('%s\\n\\n\\n\\n%s' % (format(v2, \",\"), format(v4, \",\")))\n",
    "v.get_label_by_id('01').set_text(format(v3, \",\"))\n",
    "plt.tight_layout()\n",
    "plt.savefig(\"figures/ngs_vs_tgs.venn2.pdf\", dpi=300)"
   ]
  },
  {
   "cell_type": "code",
   "execution_count": 2,
   "metadata": {
    "ExecuteTime": {
     "end_time": "2022-03-23T04:49:38.717960Z",
     "start_time": "2022-03-23T04:48:43.282508Z"
    }
   },
   "outputs": [],
   "source": [
    "with GtfFile(\"results/assembly/ngs_tgs.merged.gtf.gz\") as f:\n",
    "    records = [x for x in f]"
   ]
  },
  {
   "cell_type": "code",
   "execution_count": 3,
   "metadata": {
    "ExecuteTime": {
     "end_time": "2022-03-23T04:49:41.915356Z",
     "start_time": "2022-03-23T04:49:38.722997Z"
    }
   },
   "outputs": [
    {
     "data": {
      "text/plain": [
       "(2353788, 37111)"
      ]
     },
     "execution_count": 3,
     "metadata": {},
     "output_type": "execute_result"
    }
   ],
   "source": [
    "gids = [r.attributes[\"gene_id\"] for r in records]\n",
    "len(gids), len(set(gids))"
   ]
  },
  {
   "cell_type": "code",
   "execution_count": null,
   "metadata": {},
   "outputs": [],
   "source": [
    "with GtfFile(\"results/assembly/final.gtf.gz\") as f:\n",
    "    records = [x for x in f]\n"
   ]
  }
 ],
 "metadata": {
  "kernelspec": {
   "display_name": "Python 3",
   "language": "python",
   "name": "python3"
  },
  "language_info": {
   "codemirror_mode": {
    "name": "ipython",
    "version": 3
   },
   "file_extension": ".py",
   "mimetype": "text/x-python",
   "name": "python",
   "nbconvert_exporter": "python",
   "pygments_lexer": "ipython3",
   "version": "3.6.10"
  }
 },
 "nbformat": 4,
 "nbformat_minor": 4
}
