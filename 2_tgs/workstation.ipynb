{
 "cells": [
  {
   "cell_type": "markdown",
   "metadata": {
    "heading_collapsed": true
   },
   "source": [
    "# Common import"
   ]
  },
  {
   "cell_type": "code",
   "execution_count": 5,
   "metadata": {
    "hidden": true
   },
   "outputs": [],
   "source": [
    "import os\n",
    "import json\n",
    "import gzip\n",
    "from pyBioInfo.IO.File import BedFile, GtfFile, GtfGeneBuilder, GtfTranscriptBuilder\n",
    "from pyBioInfo.Utils import ShiftLoader\n",
    "import numpy as np\n",
    "import pandas as pd\n",
    "from collections import defaultdict, Counter\n",
    "import matplotlib.pyplot as plt\n",
    "import matplotlib.colors as colors\n",
    "from matplotlib import rcParams\n",
    "rcParams[\"font.family\"] = \"arial\"\n",
    "samples = [\"Adult_Female\", \"Adult_Male\", \"Juvenile\"]"
   ]
  },
  {
   "cell_type": "markdown",
   "metadata": {
    "heading_collapsed": true
   },
   "source": [
    "# 2021-03-24 Summary"
   ]
  },
  {
   "cell_type": "code",
   "execution_count": 358,
   "metadata": {
    "code_folding": [
     0,
     7,
     14,
     16,
     21,
     28
    ],
    "hidden": true
   },
   "outputs": [
    {
     "data": {
      "text/html": [
       "<div>\n",
       "<style scoped>\n",
       "    .dataframe tbody tr th:only-of-type {\n",
       "        vertical-align: middle;\n",
       "    }\n",
       "\n",
       "    .dataframe tbody tr th {\n",
       "        vertical-align: top;\n",
       "    }\n",
       "\n",
       "    .dataframe thead th {\n",
       "        text-align: right;\n",
       "    }\n",
       "</style>\n",
       "<table border=\"1\" class=\"dataframe\">\n",
       "  <thead>\n",
       "    <tr style=\"text-align: right;\">\n",
       "      <th></th>\n",
       "      <th>RawRead</th>\n",
       "      <th>CCS</th>\n",
       "      <th>Lima</th>\n",
       "      <th>FLNC</th>\n",
       "      <th>FLNC_polyA</th>\n",
       "      <th>Cluster</th>\n",
       "      <th>Aligned</th>\n",
       "    </tr>\n",
       "    <tr>\n",
       "      <th>Sample</th>\n",
       "      <th></th>\n",
       "      <th></th>\n",
       "      <th></th>\n",
       "      <th></th>\n",
       "      <th></th>\n",
       "      <th></th>\n",
       "      <th></th>\n",
       "    </tr>\n",
       "  </thead>\n",
       "  <tbody>\n",
       "    <tr>\n",
       "      <th>Adult_Female</th>\n",
       "      <td>5759266</td>\n",
       "      <td>3971860</td>\n",
       "      <td>2767549</td>\n",
       "      <td>2725947</td>\n",
       "      <td>2706469</td>\n",
       "      <td>213849</td>\n",
       "      <td>219085</td>\n",
       "    </tr>\n",
       "    <tr>\n",
       "      <th>Adult_Male</th>\n",
       "      <td>5215426</td>\n",
       "      <td>3509670</td>\n",
       "      <td>2364704</td>\n",
       "      <td>2160279</td>\n",
       "      <td>2142476</td>\n",
       "      <td>170298</td>\n",
       "      <td>173656</td>\n",
       "    </tr>\n",
       "    <tr>\n",
       "      <th>Juvenile</th>\n",
       "      <td>6432352</td>\n",
       "      <td>4133860</td>\n",
       "      <td>2821785</td>\n",
       "      <td>2691254</td>\n",
       "      <td>2666770</td>\n",
       "      <td>188165</td>\n",
       "      <td>190721</td>\n",
       "    </tr>\n",
       "  </tbody>\n",
       "</table>\n",
       "</div>"
      ],
      "text/plain": [
       "              RawRead      CCS     Lima     FLNC  FLNC_polyA  Cluster  Aligned\n",
       "Sample                                                                        \n",
       "Adult_Female  5759266  3971860  2767549  2725947     2706469   213849   219085\n",
       "Adult_Male    5215426  3509670  2364704  2160279     2142476   170298   173656\n",
       "Juvenile      6432352  4133860  2821785  2691254     2666770   188165   190721"
      ]
     },
     "execution_count": 358,
     "metadata": {},
     "output_type": "execute_result"
    }
   ],
   "source": [
    "def get_raw_read(sample):\n",
    "    path = \"results/isoseq/ccs/%s.ccs_report.txt\" % sample\n",
    "    with open(path) as f:\n",
    "        for line in f:\n",
    "            if \"ZMWs input\" in line:\n",
    "                return int(line.strip(\"\\n\").split()[-1])\n",
    "            \n",
    "def get_ccs_read(sample):\n",
    "    path = \"results/isoseq/ccs/%s.ccs_report.txt\" % sample\n",
    "    with open(path) as f:\n",
    "        for line in f:\n",
    "            if \"ZMWs pass filters\" in line:\n",
    "                return int(line.strip(\"\\n\").split()[-2])\n",
    "\n",
    "def get_lima_read(sample):\n",
    "    path = \"results/isoseq/demux/%s.lima.summary\" % sample\n",
    "    with open(path) as f:\n",
    "        for line in f:\n",
    "            if \"ZMWs above all thresholds\" in line:\n",
    "                return int(line.strip(\"\\n\").split()[-2])\n",
    "    \n",
    "def get_flnc_read(sample):\n",
    "    path = \"results/isoseq/flnc/%s.filter_summary.json\" % sample\n",
    "    with open(path) as f:\n",
    "        for line in f:\n",
    "            js = json.loads(line)\n",
    "            return js[\"num_reads_flnc\"]\n",
    "        \n",
    "def get_flnc_polya_read(sample):\n",
    "    path = \"results/isoseq/flnc/%s.filter_summary.json\" % sample\n",
    "    with open(path) as f:\n",
    "        for line in f:\n",
    "            js = json.loads(line)\n",
    "            return js[\"num_reads_flnc_polya\"]\n",
    "        \n",
    "def get_cluster(sample):\n",
    "    path = \"results/isoseq/clustered/%s.cluster_report.csv\" % sample\n",
    "    # return 0\n",
    "    array = []\n",
    "    with open(path) as f:\n",
    "        for i, line in enumerate(f):\n",
    "            if i == 0:\n",
    "                continue\n",
    "            array.append(line.strip(\"\\n\").split(\",\")[0])\n",
    "    return len(set(array))\n",
    "\n",
    "def get_aligned(sample):\n",
    "    path = \"results/isoseq/aligned/%s.stats\" % sample\n",
    "    with open(path) as f:\n",
    "        for line in f:\n",
    "            if \"Total reads:\" in line:\n",
    "                return int(line.strip(\"\\n\").split()[-1])\n",
    "    \n",
    "dat = pd.DataFrame(index=pd.Index(samples, name=\"Sample\"))\n",
    "dat[\"RawRead\"] = list(map(get_raw_read, samples))\n",
    "dat[\"CCS\"] = list(map(get_ccs_read, samples))\n",
    "dat[\"Lima\"] = list(map(get_lima_read, samples))\n",
    "dat[\"FLNC\"] = list(map(get_flnc_read, samples))\n",
    "dat[\"FLNC_polyA\"] = list(map(get_flnc_polya_read, samples))\n",
    "dat[\"Cluster\"] = list(map(get_cluster, samples))\n",
    "dat[\"Aligned\"] = list(map(get_aligned, samples))\n",
    "dat"
   ]
  },
  {
   "cell_type": "code",
   "execution_count": 359,
   "metadata": {
    "hidden": true
   },
   "outputs": [],
   "source": [
    "dat.to_csv(\"summary.tsv\", sep=\"\\t\")"
   ]
  },
  {
   "cell_type": "markdown",
   "metadata": {
    "heading_collapsed": true
   },
   "source": [
    "# 2021-03-24 Cluster profile"
   ]
  },
  {
   "cell_type": "code",
   "execution_count": 354,
   "metadata": {
    "hidden": true
   },
   "outputs": [],
   "source": [
    "for sample in samples:\n",
    "    counter = defaultdict(int)\n",
    "    with open(\"results/isoseq/clustered/%s.cluster_report.csv\" % sample) as f:\n",
    "        for i, line in enumerate(f):\n",
    "            if i == 0:\n",
    "                continue\n",
    "            name = line.strip(\"\\n\").split(\",\")[0]\n",
    "            counter[name] += 1\n",
    "    counter = Counter(counter.values())\n",
    "    \n",
    "    xs = np.arange(0, 20)\n",
    "    ys = [counter[x] for x in xs]\n",
    "    ys = np.array(ys) / 1000\n",
    "    \n",
    "    plt.figure(figsize=(3, 3))\n",
    "    plt.bar(xs, ys, width=0.8, color=\"dodgerblue\")\n",
    "    plt.xlim(0, 20)\n",
    "    plt.xlabel(\"FLNC per cluster\")\n",
    "    plt.ylim(0, 120)\n",
    "    plt.ylabel(\"Number (x10$^3$)\")\n",
    "    plt.gca().spines[\"top\"].set_visible(False)\n",
    "    plt.gca().spines[\"right\"].set_visible(False)\n",
    "    plt.tight_layout()\n",
    "    # plt.show()\n",
    "    plt.savefig(\"figures/cluster.profile.%s.png\" % sample, dpi=300)\n",
    "    plt.close()"
   ]
  },
  {
   "cell_type": "markdown",
   "metadata": {
    "heading_collapsed": true
   },
   "source": [
    "# 2021-03-24 Plot length distribution"
   ]
  },
  {
   "cell_type": "code",
   "execution_count": 4,
   "metadata": {
    "code_folding": [
     0
    ],
    "hidden": true
   },
   "outputs": [],
   "source": [
    "def run(path1, path2, prefix):\n",
    "    polymerase_lengths = dict()\n",
    "    with open(path1) as f:\n",
    "        for i, line in enumerate(f):\n",
    "            if i == 0:\n",
    "                continue\n",
    "            name, length = line.strip(\"\\n\").split(\"\\t\")\n",
    "            polymerase_lengths[name] = int(length)\n",
    "\n",
    "    rows = []\n",
    "    with open(path2) as f:\n",
    "        for line in f:\n",
    "            v1, v2, v3 = line.strip(\"\\n\").split(\"\\t\")\n",
    "            v2 = int(v2)\n",
    "            rows.append([v1, v2])\n",
    "\n",
    "    container = defaultdict(list)\n",
    "    for v1, v2 in rows:\n",
    "        name = v1.split(\"/\")[1]\n",
    "        container[name].append(v2)\n",
    "\n",
    "    matrix = []\n",
    "    for zmw, values in container.items():\n",
    "        pl = polymerase_lengths[zmw]\n",
    "        sl = np.median(values)\n",
    "        n = len(values)\n",
    "        matrix.append([pl, sl, n])\n",
    "\n",
    "    temp = matrix\n",
    "    vs1 = np.log10([vs[0] for vs in temp]) # polymerase\n",
    "    vs2 = np.log10([vs[1] for vs in temp]) # subreads\n",
    "    vs3 = np.log2([vs[2]for vs in temp])   # subread count\n",
    "    \n",
    "    m = np.zeros((600, 600))\n",
    "    for x, y in zip(vs1, vs2):\n",
    "        i = int(x * 100)\n",
    "        j = int(y * 100)\n",
    "        if i < 600 and j < 600:\n",
    "            m[i][j] += 1\n",
    "    plt.figure(figsize=(3, 3))\n",
    "    plt.hist2d(vs1, vs2, bins=(600, 600), cmap=\"Reds\", norm=colors.LogNorm(1, m.max()))\n",
    "    plt.xlim(0, 6)\n",
    "    plt.xlabel(\"Polymerase length\")\n",
    "    xs = [0, 1, 2, 3, 4, 5, 6]\n",
    "    plt.xticks(xs, [\"10$^{%d}$\" % x for x in xs])\n",
    "    plt.ylim(0, 6)\n",
    "    ys = [0, 1, 2, 3, 4, 5, 6]\n",
    "    plt.yticks(ys, [\"10$^{%d}$\" % y for y in ys])\n",
    "    plt.ylabel(\"Subread length\")\n",
    "    plt.tight_layout()\n",
    "    # plt.show()\n",
    "    plt.savefig(prefix + \".1.png\", dpi=300)\n",
    "    plt.close()\n",
    "    \n",
    "    m = np.zeros((600, 1000))\n",
    "    for x, y in zip(vs1, vs3):\n",
    "        i = int(x * 100)\n",
    "        j = int(y * 100)\n",
    "        if i < 600 and j < 1000:\n",
    "            m[i][j] += 1\n",
    "    plt.figure(figsize=(3, 3))\n",
    "    plt.hist2d(vs1, vs3, bins=(600, 1000), cmap=\"Reds\", norm=colors.LogNorm(1, m.max()))\n",
    "    plt.xlim(0, 6)\n",
    "    plt.xlabel(\"Polymerase length\")\n",
    "    xs = [0, 1, 2, 3, 4, 5, 6]\n",
    "    plt.xticks(xs, [\"10$^{%d}$\" % x for x in xs])\n",
    "    plt.ylim(-1, 10)\n",
    "    ys = np.arange(0, 11, 2)\n",
    "    plt.yticks(ys, [2 ** y for y in ys])\n",
    "    plt.ylabel(\"Subread count\")\n",
    "    # plt.yticks([0, 2, 4, 6])\n",
    "    plt.tight_layout()\n",
    "    # plt.show()\n",
    "    plt.savefig(prefix + \".2.png\", dpi=300)\n",
    "    plt.close()\n",
    "    \n",
    "    m = np.zeros((600, 1000))\n",
    "    for x, y in zip(vs2, vs3):\n",
    "        i = int(x * 100)\n",
    "        j = int(y * 100)\n",
    "        if i < 600 and j < 1000:\n",
    "            m[i][j] += 1\n",
    "    plt.figure(figsize=(3, 3))\n",
    "    plt.hist2d(vs2, vs3, bins=(600, 1000), cmap=\"Reds\", norm=colors.LogNorm(1, m.max()))\n",
    "    plt.xlim(0, 6)\n",
    "    plt.xlabel(\"Subread length\")\n",
    "    xs = [0, 1, 2, 3, 4, 5, 6]\n",
    "    plt.xticks(xs, [\"10$^{%d}$\" % x for x in xs])\n",
    "    plt.ylim(-1, 10)\n",
    "    ys = np.arange(0, 11, 2)\n",
    "    plt.yticks(ys, [2 ** y for y in ys])\n",
    "    plt.ylabel(\"Subread count (median)\")\n",
    "    # plt.yticks([0, 2, 4, 6])\n",
    "    plt.tight_layout()\n",
    "    # plt.show()\n",
    "    plt.savefig(prefix + \".3.png\", dpi=300)\n",
    "    plt.close()\n",
    "\n",
    "    xs = np.arange(100)\n",
    "    ys = np.zeros(100)\n",
    "    for row in matrix:\n",
    "        i = int(row[0] / 1000)\n",
    "        if i < 100:\n",
    "            ys[i] += 1\n",
    "    m1 = np.mean([vs[0] for vs in matrix])\n",
    "    m2 = np.median([vs[0] for vs in matrix])\n",
    "    ys = ys / 1000\n",
    "    plt.figure(figsize=(3, 3))\n",
    "    plt.bar(xs + 0.5, ys, width=1, color=\"dodgerblue\")\n",
    "    plt.text(20, 180, \"width = 1000bp\")\n",
    "    plt.text(20, 160, \"mean = %.2fkb\" % (m1 / 1000))\n",
    "    plt.text(20, 140, \"median = %.2fkb\" % (m2 / 1000))\n",
    "    plt.xlim(0, 100)\n",
    "    vs = [0, 20, 40, 60, 80, 100]\n",
    "    plt.xticks(vs)\n",
    "    plt.xlabel(\"Polymerase length (kb)\")\n",
    "    plt.ylim(0, 200)\n",
    "    plt.yticks([0, 50, 100, 150, 200])\n",
    "    plt.ylabel(\"Number (x10$^3$)\")\n",
    "    plt.gca().spines[\"top\"].set_visible(False)\n",
    "    plt.gca().spines[\"right\"].set_visible(False)\n",
    "    plt.tight_layout()\n",
    "    # plt.show()\n",
    "    plt.savefig(prefix + \".4.png\", dpi=300)\n",
    "    plt.close()\n",
    "\n",
    "    xs = np.arange(100)\n",
    "    ys = np.zeros(100)\n",
    "    for row in matrix:\n",
    "        i = int(row[1] / 100)\n",
    "        if i < 100:\n",
    "            ys[i] += 1\n",
    "    ys = ys / 1000\n",
    "    m1 = np.mean([vs[1] for vs in matrix])\n",
    "    m2 = np.median([vs[1] for vs in matrix])\n",
    "    plt.figure(figsize=(3, 3))\n",
    "    plt.bar(xs + 0.5, ys, width=1, color=\"dodgerblue\")\n",
    "    plt.text(10, 380, \"width = 100bp\")\n",
    "    plt.text(10, 345, \"mean = %.2fkb\" % (m1 / 1000))\n",
    "    plt.text(10, 310, \"median = %.2fkb\" % (m2 / 1000))\n",
    "    plt.xlim(0, 100)\n",
    "    vs = [0, 20, 40, 60, 80, 100]\n",
    "    plt.xticks(vs, [int(v / 10) for v in vs])\n",
    "    plt.xlabel(\"Subread length (kb)\")\n",
    "    plt.ylim(0, 400)\n",
    "    plt.yticks([0, 100, 200, 300, 400])\n",
    "    plt.ylabel(\"Number (x10$^3$)\")\n",
    "    plt.gca().spines[\"top\"].set_visible(False)\n",
    "    plt.gca().spines[\"right\"].set_visible(False)\n",
    "    plt.tight_layout()\n",
    "    # plt.show()\n",
    "    plt.savefig(prefix + \".5.png\", dpi=300)\n",
    "    plt.close()\n",
    "\n",
    "    xs = np.arange(20)\n",
    "    ys = np.zeros(20)\n",
    "    for row in matrix:\n",
    "        i = row[2]\n",
    "        if i < 20:\n",
    "            ys[i] += 1\n",
    "    ys = ys / 1000000\n",
    "    plt.figure(figsize=(3, 3))\n",
    "    plt.bar(xs, ys, width=0.8, color=\"dodgerblue\")\n",
    "    # plt.text(10, 380, \"width = 100bp\")\n",
    "    # plt.text(10, 345, \"mean = %.2fkb\" % (m1 / 1000))\n",
    "    # plt.text(10, 310, \"median = %.2fkb\" % (m2 / 1000))\n",
    "    plt.xlim(0, 20)\n",
    "    # vs = [0, 20, 40, 60, 80, 100]\n",
    "    # plt.xticks(vs, [int(v / 10) for v in vs])\n",
    "    plt.xlabel(\"Subread number\")\n",
    "    plt.ylim(0, 1.6)\n",
    "    plt.yticks([0, 0.4, 0.8, 1.2, 1.6])\n",
    "    plt.ylabel(\"Number (x10$^6$)\")\n",
    "    plt.gca().spines[\"top\"].set_visible(False)\n",
    "    plt.gca().spines[\"right\"].set_visible(False)\n",
    "    plt.tight_layout()\n",
    "    # plt.show()\n",
    "    plt.savefig(prefix + \".6.png\", dpi=300)\n",
    "    plt.close()"
   ]
  },
  {
   "cell_type": "code",
   "execution_count": 5,
   "metadata": {
    "hidden": true
   },
   "outputs": [],
   "source": [
    "path1 = \"data/datasets/F20FTSCCKF1558_CIYgikE/GTS-E-14-1A/GTS-E-14-1A.polymerreads_dis.xls\"\n",
    "path2 = \"data/datasets/F20FTSCCKF1558_CIYgikE/GTS-E-14-1A/GTS-E-14-1A_subreads_dis.xls\"\n",
    "prefix = \"figures/length.dis.adult.female\"\n",
    "run(path1, path2, prefix)"
   ]
  },
  {
   "cell_type": "code",
   "execution_count": 7,
   "metadata": {
    "hidden": true
   },
   "outputs": [],
   "source": [
    "path1 = \"data/datasets/F20FTSCCKF0616_SERmjgE_SERsukE/WHPBCDNAPEP00000149/WHPBCDNAPEP00000149.polymerreads_dis.xls\"\n",
    "path2 = \"data/datasets/F20FTSCCKF0616_SERmjgE_SERsukE/WHPBCDNAPEP00000149/WHPBCDNAPEP00000149_subreads_dis.xls\"\n",
    "prefix = \"figures/length.dis.adult.male\"\n",
    "run(path1, path2, prefix)"
   ]
  },
  {
   "cell_type": "code",
   "execution_count": 8,
   "metadata": {
    "hidden": true
   },
   "outputs": [],
   "source": [
    "path1 = \"data/datasets/F20FTSCCKF0616_SERdweE_SERvxlE/WHPBCDNAPEP00000150/WHPBCDNAPEP00000150.polymerreads_dis.xls\"\n",
    "path2 = \"data/datasets/F20FTSCCKF0616_SERdweE_SERvxlE/WHPBCDNAPEP00000150/WHPBCDNAPEP00000150_subreads_dis.xls\"\n",
    "prefix = \"figures/length.dis.juvenile\"\n",
    "run(path1, path2, prefix)"
   ]
  },
  {
   "cell_type": "code",
   "execution_count": 11,
   "metadata": {
    "hidden": true
   },
   "outputs": [],
   "source": [
    "# 2021-03-24 "
   ]
  },
  {
   "cell_type": "code",
   "execution_count": 16,
   "metadata": {
    "hidden": true
   },
   "outputs": [],
   "source": [
    "from pyBioInfo.IO.File import GtfFile, GtfTranscriptBuilder, GtfGeneBuilder"
   ]
  },
  {
   "cell_type": "code",
   "execution_count": 36,
   "metadata": {
    "hidden": true,
    "scrolled": true
   },
   "outputs": [
    {
     "name": "stdout",
     "output_type": "stream",
     "text": [
      "1.458123399686132\n"
     ]
    }
   ],
   "source": [
    "path = \"data/genome/annotation.gtf\"\n",
    "with GtfFile(path) as f:\n",
    "    records = [x for x in f] \n",
    "genes = list(GtfGeneBuilder(records))\n",
    "counter = Counter([len(gene.transcripts) for gene in genes])\n",
    "# for i in range(0, 50):\n",
    "#     print(i, counter[i])\n",
    "print(np.mean([len(gene.transcripts) for gene in genes]))"
   ]
  },
  {
   "cell_type": "code",
   "execution_count": 34,
   "metadata": {
    "hidden": true,
    "scrolled": true
   },
   "outputs": [
    {
     "name": "stdout",
     "output_type": "stream",
     "text": [
      "0 0\n",
      "1 12789\n",
      "2 5582\n",
      "3 3440\n",
      "4 2372\n",
      "5 1747\n",
      "6 1427\n",
      "7 1158\n",
      "8 953\n",
      "9 762\n",
      "10 652\n",
      "11 557\n",
      "12 540\n",
      "13 429\n",
      "14 371\n",
      "15 319\n",
      "16 297\n",
      "17 264\n",
      "18 210\n",
      "19 209\n",
      "20 187\n",
      "21 160\n",
      "22 149\n",
      "23 145\n",
      "24 121\n",
      "25 108\n",
      "26 82\n",
      "27 99\n",
      "28 85\n",
      "29 79\n",
      "30 83\n",
      "31 64\n",
      "32 59\n",
      "33 57\n",
      "34 41\n",
      "35 54\n",
      "36 51\n",
      "37 34\n",
      "38 37\n",
      "39 45\n",
      "40 43\n",
      "41 29\n",
      "42 25\n",
      "43 24\n",
      "44 32\n",
      "45 34\n",
      "46 26\n",
      "47 14\n",
      "48 28\n",
      "49 15\n"
     ]
    }
   ],
   "source": [
    "path = \"results/cupcake/chain/all_samples.chained.gtf.gz\"\n",
    "with GtfFile(path) as f:\n",
    "    records = [x for x in f] \n",
    "genes = list(GtfGeneBuilder(records))\n",
    "counter = Counter([len(gene.transcripts) for gene in genes])\n",
    "for i in range(0, 50):\n",
    "    print(i, counter[i])"
   ]
  },
  {
   "cell_type": "code",
   "execution_count": 35,
   "metadata": {
    "hidden": true
   },
   "outputs": [
    {
     "name": "stdout",
     "output_type": "stream",
     "text": [
      "5.948429815644147\n"
     ]
    }
   ],
   "source": [
    "print(np.mean([len(gene.transcripts) for gene in genes]))"
   ]
  },
  {
   "cell_type": "code",
   "execution_count": null,
   "metadata": {
    "hidden": true
   },
   "outputs": [],
   "source": []
  },
  {
   "cell_type": "code",
   "execution_count": null,
   "metadata": {
    "hidden": true
   },
   "outputs": [],
   "source": []
  },
  {
   "cell_type": "markdown",
   "metadata": {
    "heading_collapsed": true
   },
   "source": [
    "# 2021-03-24 CCS and lima report"
   ]
  },
  {
   "cell_type": "code",
   "execution_count": 315,
   "metadata": {
    "collapsed": true,
    "hidden": true
   },
   "outputs": [
    {
     "name": "stdout",
     "output_type": "stream",
     "text": [
      "results/isoseq/ccs/Adult_Female.ccs_report.txt\n",
      "5759266\n",
      "3971860 (68.96%)\n",
      "1787406 (31.04%)\n",
      "0 (0.00%)\n",
      "10137 (0.18%)\n",
      "107556 (6.02%)\n",
      "0 (0.00%)\n",
      "1426910 (79.83%)\n",
      "16073 (0.90%)\n",
      "1382 (0.08%)\n",
      "184282 (10.31%)\n",
      "1 (0.00%)\n",
      "51179 (2.86%)\n",
      "926 (0.05%)\n",
      "23 (0.00%)\n",
      "0 (0.00%)\n",
      "0 (0.00%)\n",
      "0 (0.00%)\n",
      "0 (0.00%)\n",
      "0 (0.00%)\n",
      "results/isoseq/ccs/Adult_Male.ccs_report.txt\n",
      "5215426\n",
      "3509670 (67.29%)\n",
      "1705756 (32.71%)\n",
      "0 (0.00%)\n",
      "11358 (0.22%)\n",
      "184132 (10.79%)\n",
      "0 (0.00%)\n",
      "1310618 (76.84%)\n",
      "14550 (0.85%)\n",
      "1115 (0.07%)\n",
      "156561 (9.18%)\n",
      "0 (0.00%)\n",
      "38760 (2.27%)\n",
      "512 (0.03%)\n",
      "20 (0.00%)\n",
      "0 (0.00%)\n",
      "0 (0.00%)\n",
      "0 (0.00%)\n",
      "0 (0.00%)\n",
      "0 (0.00%)\n",
      "results/isoseq/ccs/Juvenile.ccs_report.txt\n",
      "6432352\n",
      "4133860 (64.27%)\n",
      "2298492 (35.73%)\n",
      "0 (0.00%)\n",
      "11022 (0.17%)\n",
      "191504 (8.33%)\n",
      "0 (0.00%)\n",
      "1772906 (77.13%)\n",
      "22851 (0.99%)\n",
      "1758 (0.08%)\n",
      "237562 (10.34%)\n",
      "2 (0.00%)\n",
      "71812 (3.12%)\n",
      "937 (0.04%)\n",
      "97 (0.00%)\n",
      "0 (0.00%)\n",
      "0 (0.00%)\n",
      "0 (0.00%)\n",
      "0 (0.00%)\n",
      "0 (0.00%)\n"
     ]
    }
   ],
   "source": [
    "for sample in [\"Adult_Female\", \"Adult_Male\", \"Juvenile\"]:\n",
    "    path = \"results/isoseq/ccs/%s.ccs_report.txt\" % sample\n",
    "    print(path)\n",
    "    with open(path) as f:\n",
    "        for line in f:\n",
    "            if \":\" not in line:\n",
    "                continue\n",
    "            v1, v2 = line.strip(\"\\n\").split(\":\")\n",
    "            v1 = v1.strip()\n",
    "            v2 = v2.strip()\n",
    "            if v2 == \"\":\n",
    "                continue\n",
    "            print(v2)"
   ]
  },
  {
   "cell_type": "code",
   "execution_count": 318,
   "metadata": {
    "collapsed": true,
    "hidden": true
   },
   "outputs": [
    {
     "name": "stdout",
     "output_type": "stream",
     "text": [
      "results/isoseq/demux/Adult_Female.lima.summary\n",
      "3971860\n",
      "2767549 (70%)\n",
      "1204311 (30%)\n",
      "68 (0%)\n",
      "0 (0%)\n",
      "219872 (18%)\n",
      "61 (0%)\n",
      "0 (0%)\n",
      "259986 (22%)\n",
      "61 (0%)\n",
      "382455 (32%)\n",
      "662511 (55%)\n",
      "61 (0%)\n",
      "2767549 (100%)\n",
      "0%\n",
      "3971799 (100%)\n",
      "3971799 (100%)\n",
      "2767549 (100%)\n",
      "0 (0%)\n",
      "results/isoseq/demux/Adult_Male.lima.summary\n",
      "3509670\n",
      "2364704 (67%)\n",
      "1144966 (33%)\n",
      "155 (0%)\n",
      "0 (0%)\n",
      "202707 (18%)\n",
      "120 (0%)\n",
      "0 (0%)\n",
      "226676 (20%)\n",
      "120 (0%)\n",
      "395688 (35%)\n",
      "609201 (53%)\n",
      "120 (0%)\n",
      "2364704 (100%)\n",
      "0%\n",
      "3509550 (100%)\n",
      "3509550 (100%)\n",
      "2364704 (100%)\n",
      "0 (0%)\n",
      "results/isoseq/demux/Juvenile.lima.summary\n",
      "4133860\n",
      "2821785 (68%)\n",
      "1312075 (32%)\n",
      "143 (0%)\n",
      "0 (0%)\n",
      "300944 (23%)\n",
      "128 (0%)\n",
      "0 (0%)\n",
      "324391 (25%)\n",
      "128 (0%)\n",
      "460864 (35%)\n",
      "641491 (49%)\n",
      "128 (0%)\n",
      "2821785 (100%)\n",
      "0%\n",
      "4133732 (100%)\n",
      "4133732 (100%)\n",
      "2821785 (100%)\n",
      "0 (0%)\n"
     ]
    }
   ],
   "source": [
    "for sample in [\"Adult_Female\", \"Adult_Male\", \"Juvenile\"]:\n",
    "    path = \"results/isoseq/demux/%s.lima.summary\" % sample\n",
    "    print(path)\n",
    "    with open(path) as f:\n",
    "        for line in f:\n",
    "            if \":\" not in line:\n",
    "                continue\n",
    "            v1, v2 = line.strip(\"\\n\").split(\":\")\n",
    "            v1 = v1.strip()\n",
    "            v2 = v2.strip()\n",
    "            if v2 == \"\":\n",
    "                continue\n",
    "            print(v2)"
   ]
  },
  {
   "cell_type": "markdown",
   "metadata": {
    "heading_collapsed": true
   },
   "source": [
    "# A"
   ]
  },
  {
   "cell_type": "code",
   "execution_count": 2,
   "metadata": {
    "hidden": true
   },
   "outputs": [],
   "source": [
    "path1 = \"data/genome/transcript.bed\"\n",
    "path2 = \"results/isoseq/collapsed/Adult_Male.bed.gz\""
   ]
  },
  {
   "cell_type": "code",
   "execution_count": 3,
   "metadata": {
    "hidden": true
   },
   "outputs": [],
   "source": [
    "records1 = []\n",
    "with BedFile(path1) as bed:\n",
    "    for record in bed:\n",
    "        records1.append(record)"
   ]
  },
  {
   "cell_type": "code",
   "execution_count": 4,
   "metadata": {
    "hidden": true
   },
   "outputs": [],
   "source": [
    "records2 = []\n",
    "with BedFile(path2) as bed:\n",
    "    for record in bed:\n",
    "        records2.append(record)"
   ]
  },
  {
   "cell_type": "code",
   "execution_count": 6,
   "metadata": {
    "hidden": true
   },
   "outputs": [
    {
     "data": {
      "text/plain": [
       "35307"
      ]
     },
     "execution_count": 6,
     "metadata": {},
     "output_type": "execute_result"
    }
   ],
   "source": [
    "len(records1)"
   ]
  },
  {
   "cell_type": "code",
   "execution_count": 7,
   "metadata": {
    "hidden": true
   },
   "outputs": [
    {
     "data": {
      "text/plain": [
       "116445"
      ]
     },
     "execution_count": 7,
     "metadata": {},
     "output_type": "execute_result"
    }
   ],
   "source": [
    "len(records2)"
   ]
  },
  {
   "cell_type": "code",
   "execution_count": 10,
   "metadata": {
    "hidden": true
   },
   "outputs": [
    {
     "name": "stdout",
     "output_type": "stream",
     "text": [
      "23372 11935\n"
     ]
    }
   ],
   "source": [
    "loader = ShiftLoader(records2)\n",
    "m, n = 0, 0\n",
    "for record1 in records1:\n",
    "    flag = False\n",
    "    for record2 in loader.fetch(obj=record1):\n",
    "        if record2.strand == record1.strand:\n",
    "            flag = True\n",
    "            break\n",
    "    if flag:\n",
    "        m += 1\n",
    "    else:\n",
    "        n += 1\n",
    "print(m, n)"
   ]
  },
  {
   "cell_type": "code",
   "execution_count": 11,
   "metadata": {
    "hidden": true
   },
   "outputs": [
    {
     "name": "stdout",
     "output_type": "stream",
     "text": [
      "112799 3646\n"
     ]
    }
   ],
   "source": [
    "loader = ShiftLoader(records1)\n",
    "m, n = 0, 0\n",
    "for record2 in records2:\n",
    "    flag = False\n",
    "    for record1 in loader.fetch(obj=record2):\n",
    "        if record2.strand == record1.strand:\n",
    "            flag = True\n",
    "            break\n",
    "    if flag:\n",
    "        m += 1\n",
    "    else:\n",
    "        n += 1\n",
    "print(m, n)"
   ]
  },
  {
   "cell_type": "code",
   "execution_count": 12,
   "metadata": {
    "hidden": true
   },
   "outputs": [
    {
     "name": "stderr",
     "output_type": "stream",
     "text": [
      "/home/chenzonggui/anaconda3/lib/python3.6/importlib/_bootstrap.py:219: RuntimeWarning: numpy.ufunc size changed, may indicate binary incompatibility. Expected 192 from C header, got 216 from PyObject\n",
      "  return f(*args, **kwds)\n",
      "/home/chenzonggui/anaconda3/lib/python3.6/importlib/_bootstrap.py:219: RuntimeWarning: numpy.ufunc size changed, may indicate binary incompatibility. Expected 192 from C header, got 216 from PyObject\n",
      "  return f(*args, **kwds)\n",
      "/home/chenzonggui/anaconda3/lib/python3.6/importlib/_bootstrap.py:219: RuntimeWarning: numpy.ufunc size changed, may indicate binary incompatibility. Expected 192 from C header, got 216 from PyObject\n",
      "  return f(*args, **kwds)\n"
     ]
    }
   ],
   "source": [
    "import matplotlib.pyplot as plt\n",
    "from matplotlib_venn import *\n",
    "from matplotlib import rcParams\n",
    "rcParams[\"font.family\"] = \"arial\""
   ]
  },
  {
   "cell_type": "code",
   "execution_count": 17,
   "metadata": {
    "hidden": true
   },
   "outputs": [],
   "source": [
    "plt.figure(figsize=(3, 3))\n",
    "venn2([1, 1, 1], set_labels=[\"NCBI\", \"ISO-seq\"])\n",
    "plt.tight_layout()\n",
    "# plt.show()\n",
    "plt.savefig(\"venn2.pdf\", dpi=300)\n",
    "plt.close()"
   ]
  },
  {
   "cell_type": "code",
   "execution_count": null,
   "metadata": {
    "hidden": true
   },
   "outputs": [],
   "source": []
  },
  {
   "cell_type": "code",
   "execution_count": null,
   "metadata": {
    "hidden": true
   },
   "outputs": [],
   "source": []
  },
  {
   "cell_type": "code",
   "execution_count": 19,
   "metadata": {
    "hidden": true
   },
   "outputs": [],
   "source": [
    "with gzip.open(\"results/prepare/fastq/Juvenile.fastq.gz\", \"rt\") as f:\n",
    "    for n, line in enumerate(f):\n",
    "        line = line.strip(\"\\n\")\n",
    "        if n == 5:\n",
    "            s1 = line\n",
    "            break"
   ]
  },
  {
   "cell_type": "code",
   "execution_count": 21,
   "metadata": {
    "hidden": true
   },
   "outputs": [],
   "source": [
    "with open(\"Juvenile/read-long/Juvenile.fq\") as f:\n",
    "    for n, line in enumerate(f):\n",
    "        line = line.strip(\"\\n\")\n",
    "        if n == 5:\n",
    "            s2 = line\n",
    "            break"
   ]
  },
  {
   "cell_type": "markdown",
   "metadata": {
    "heading_collapsed": true
   },
   "source": [
    "# 2021-03-25 Cupcake report"
   ]
  },
  {
   "cell_type": "code",
   "execution_count": 15,
   "metadata": {
    "hidden": true
   },
   "outputs": [],
   "source": [
    "data = dict()\n",
    "for sample in samples:\n",
    "    data[sample] = dict()\n",
    "    # raw\n",
    "    path = \"results/cupcake/collapsed/%s/out.collapsed.sorted.gtf.gz\" % sample\n",
    "    with GtfFile(path) as f:\n",
    "        records = [x for x in f]\n",
    "    genes = list(GtfGeneBuilder(records))\n",
    "    data[sample][\"raw\"] = genes\n",
    "    # filtered\n",
    "    path = \"results/cupcake/collapsed/%s/out.collapsed.filtered.sorted.gtf.gz\" % sample\n",
    "    with GtfFile(path) as f:\n",
    "        records = [x for x in f]\n",
    "    genes = list(GtfGeneBuilder(records))\n",
    "    data[sample][\"filtered\"] = genes"
   ]
  },
  {
   "cell_type": "code",
   "execution_count": 18,
   "metadata": {
    "hidden": true
   },
   "outputs": [],
   "source": [
    "rows = []\n",
    "for sample in samples:\n",
    "    values = []\n",
    "    genes = data[sample][\"raw\"]\n",
    "    values.append(len(genes))\n",
    "    values.append(sum([len(g.transcripts) for g in genes]))\n",
    "    exon_count = 0\n",
    "    for g in genes:\n",
    "        for t in g.transcripts:\n",
    "            exon_count += len(t.blocks)\n",
    "    values.append(exon_count)\n",
    "    counts = [len(g.transcripts) for g in genes]\n",
    "    values.append(np.mean(counts))\n",
    "    values.append(np.median(counts))\n",
    "    \n",
    "    genes = data[sample][\"filtered\"]\n",
    "    values.append(len(genes))\n",
    "    values.append(sum([len(g.transcripts) for g in genes]))\n",
    "    exon_count = 0\n",
    "    for g in genes:\n",
    "        for t in g.transcripts:\n",
    "            exon_count += len(t.blocks)\n",
    "    values.append(exon_count)\n",
    "    counts = [len(g.transcripts) for g in genes]\n",
    "    values.append(np.mean(counts))\n",
    "    values.append(np.median(counts))\n",
    " \n",
    "    rows.append(values)"
   ]
  },
  {
   "cell_type": "code",
   "execution_count": 22,
   "metadata": {
    "hidden": true
   },
   "outputs": [],
   "source": [
    "columns = [\n",
    "    \"Gene_Raw\", \"Transcript_Raw\", \"Exon_Raw\", \"TranNum_Mean_Raw\", \"TranNum_Median_Raw\",\n",
    "    \"Gene_Filtered\", \"Transcript_Filtered\", \"Exon_Filtered\", \"TranNum_Mean_Filtered\", \"TranNum_Median_Filtered\"\n",
    "]\n",
    "dat = pd.DataFrame(rows, index=pd.Index(samples, name=\"Sample\"), columns=columns)\n",
    "dat.to_csv(\"cupcake.report.tsv\", sep=\"\\t\")"
   ]
  },
  {
   "cell_type": "code",
   "execution_count": 26,
   "metadata": {
    "hidden": true
   },
   "outputs": [
    {
     "data": {
      "text/plain": [
       "Sample\n",
       "Adult_Female    74.833222\n",
       "Adult_Male      75.626835\n",
       "Juvenile        69.308592\n",
       "dtype: float64"
      ]
     },
     "execution_count": 26,
     "metadata": {},
     "output_type": "execute_result"
    }
   ],
   "source": [
    "dat[\"Transcript_Filtered\"] / dat[\"Transcript_Raw\"] * 100"
   ]
  },
  {
   "cell_type": "code",
   "execution_count": 47,
   "metadata": {
    "hidden": true
   },
   "outputs": [],
   "source": [
    "plt.figure(figsize=(6, 3))\n",
    "for i, sample in enumerate(samples):\n",
    "    counts = [len(g.transcripts) for g in data[sample][\"filtered\"]]\n",
    "    counter = Counter(counts)\n",
    "    xs = np.arange(10)\n",
    "    ys = [counter[x] for x in xs]\n",
    "    ys.append(len(counts) - sum(ys))\n",
    "    xs = np.arange(len(xs) + 1)\n",
    "    ys = np.array(ys) / len(counts) * 100\n",
    "    plt.bar(xs + (i - 1) * 0.2, ys, width=0.2, label=sample + \" (%.2f)\" % np.mean(counts))\n",
    "plt.xlim(0.5, 10.5)\n",
    "plt.xticks(np.arange(1, 11))\n",
    "plt.xlabel(\"transcripts per gene\")\n",
    "plt.ylim(0, 50)\n",
    "plt.ylabel(\"Percentage (%)\")\n",
    "plt.legend()\n",
    "plt.tight_layout()\n",
    "if False:\n",
    "    plt.show()\n",
    "else:\n",
    "    plt.savefig(\"figures/cupcake.summary.png\", dpi=300)\n",
    "plt.close()"
   ]
  }
 ],
 "metadata": {
  "kernelspec": {
   "display_name": "Python 3",
   "language": "python",
   "name": "python3"
  },
  "language_info": {
   "codemirror_mode": {
    "name": "ipython",
    "version": 3
   },
   "file_extension": ".py",
   "mimetype": "text/x-python",
   "name": "python",
   "nbconvert_exporter": "python",
   "pygments_lexer": "ipython3",
   "version": "3.6.10"
  }
 },
 "nbformat": 4,
 "nbformat_minor": 4
}
