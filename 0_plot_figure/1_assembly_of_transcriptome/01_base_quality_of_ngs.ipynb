{
 "cells": [
  {
   "cell_type": "code",
   "execution_count": 1,
   "metadata": {
    "ExecuteTime": {
     "end_time": "2023-10-17T12:17:50.999059Z",
     "start_time": "2023-10-17T12:17:50.500972Z"
    }
   },
   "outputs": [],
   "source": [
    "import gzip\n",
    "from collections import Counter, defaultdict\n",
    "from Bio import SeqIO\n",
    "import numpy as np\n",
    "import pandas as pd\n",
    "import matplotlib.pyplot as plt\n",
    "\n",
    "infos = pd.read_excel(\"../../1_analysis_of_rna_seq/RNAseq.xls\")\n",
    "infos = infos[~infos[\"Replicate\"].isna()]\n",
    "samples = list(infos[\"Sample\"])"
   ]
  },
  {
   "cell_type": "markdown",
   "metadata": {
    "heading_collapsed": true
   },
   "source": [
    "# Distribution of phred quality score"
   ]
  },
  {
   "cell_type": "code",
   "execution_count": 170,
   "metadata": {
    "ExecuteTime": {
     "end_time": "2023-10-17T09:46:05.013296Z",
     "start_time": "2023-10-17T09:45:24.747590Z"
    },
    "hidden": true
   },
   "outputs": [],
   "source": [
    "data = dict()\n",
    "for sample in samples:\n",
    "    counter = defaultdict(int)\n",
    "    for r in [\"R1\", \"R2\"]:\n",
    "        path = \"../../1_analysis_of_rna_seq/data/datasets/%s_%s.fastq.gz\" % (sample, r)\n",
    "        with gzip.open(path, \"rt\") as f:\n",
    "            for i, read in enumerate(SeqIO.parse(f, \"fastq\")):\n",
    "                if i >= 10000:\n",
    "                    break\n",
    "                for quality in read._per_letter_annotations[\"phred_quality\"]:\n",
    "                    counter[quality] += 1\n",
    "    data[sample] = counter"
   ]
  },
  {
   "cell_type": "code",
   "execution_count": 171,
   "metadata": {
    "ExecuteTime": {
     "end_time": "2023-10-17T09:46:05.029190Z",
     "start_time": "2023-10-17T09:46:05.015622Z"
    },
    "hidden": true
   },
   "outputs": [],
   "source": [
    "rows = []\n",
    "for sample in samples:\n",
    "    counter = data[sample]\n",
    "    rows.append([counter[q] for q in np.arange(50)])\n",
    "m = pd.DataFrame(rows)\n",
    "\n",
    "q20_list = []\n",
    "q30_list = []\n",
    "for sample in samples:\n",
    "    counter = data[sample]\n",
    "    total = 0\n",
    "    q20 = 0\n",
    "    q30 = 0\n",
    "    for k, v in counter.items():\n",
    "        total += v\n",
    "        if k >= 20:\n",
    "            q20 += v\n",
    "        if k >= 30:\n",
    "            q30 += v\n",
    "    q20_list.append(q20 * 100 / total)\n",
    "    q30_list.append(q30 * 100 / total)\n",
    "    \n",
    "m1 = m.divide(m.sum(axis=1), axis=0) * 100"
   ]
  },
  {
   "cell_type": "code",
   "execution_count": 173,
   "metadata": {
    "ExecuteTime": {
     "end_time": "2023-10-17T09:46:31.540930Z",
     "start_time": "2023-10-17T09:46:31.279990Z"
    },
    "hidden": true
   },
   "outputs": [
    {
     "data": {
      "image/png": "[encoded data removed]",
      "text/plain": [
       "<Figure size 252x216 with 1 Axes>"
      ]
     },
     "metadata": {
      "needs_background": "light"
     },
     "output_type": "display_data"
    }
   ],
   "source": [
    "means = m1.mean()\n",
    "stds = m1.std()\n",
    "xs = np.array(means.index)\n",
    "\n",
    "plt.figure(figsize=(3.5, 3))\n",
    "plt.bar(xs, means, yerr=stds, width=1, edgecolor=\"black\", color=\"C9\", error_kw={\"lw\": 1, \"capsize\": 2})\n",
    "plt.text(21, 55, \"N = %d\" % len(samples))\n",
    "plt.text(21, 50, \"Q20 = %.2f ± %.2f%%\" % (np.mean(q20_list), np.std(q20_list)))\n",
    "plt.text(21, 45, \"Q30 = %.2f ± %.2f%%\" % (np.mean(q30_list), np.std(q30_list)))\n",
    "plt.xlim(20, 40)\n",
    "plt.ylim(0, 60)\n",
    "plt.xlabel(\"Phred quality score\")\n",
    "plt.ylabel(\"Percentage of base (%)\")\n",
    "plt.xticks(np.arange(20, 41, 5))\n",
    "plt.tight_layout()\n",
    "plt.savefig(\"figures/distribution_of_phred_quality_score.pdf\", dpi=300)"
   ]
  },
  {
   "cell_type": "markdown",
   "metadata": {},
   "source": [
    "# Phred quality score distribution at reads"
   ]
  },
  {
   "cell_type": "code",
   "execution_count": 2,
   "metadata": {
    "ExecuteTime": {
     "end_time": "2023-10-17T12:18:29.221916Z",
     "start_time": "2023-10-17T12:17:53.961914Z"
    }
   },
   "outputs": [],
   "source": [
    "data = dict()\n",
    "for sample in samples:\n",
    "    for r in [\"R1\", \"R2\"]:\n",
    "        if r not in data:\n",
    "            data[r] = []\n",
    "        rows = data[r]\n",
    "        path = \"../../1_analysis_of_rna_seq/data/datasets/%s_%s.fastq.gz\" % (sample, r)\n",
    "        with gzip.open(path, \"rt\") as f:\n",
    "            for i, read in enumerate(SeqIO.parse(f, \"fastq\")):\n",
    "                if i >= 10000:\n",
    "                    break\n",
    "                qualities = np.array(read._per_letter_annotations[\"phred_quality\"])\n",
    "                rows.append(qualities)        "
   ]
  },
  {
   "cell_type": "code",
   "execution_count": 3,
   "metadata": {
    "ExecuteTime": {
     "end_time": "2023-10-17T12:20:01.579575Z",
     "start_time": "2023-10-17T12:18:29.224002Z"
    }
   },
   "outputs": [],
   "source": [
    "m1 = pd.DataFrame(data[\"R1\"])\n",
    "m2 = pd.DataFrame(data[\"R2\"])"
   ]
  },
  {
   "cell_type": "code",
   "execution_count": 4,
   "metadata": {
    "ExecuteTime": {
     "end_time": "2023-10-17T12:20:33.347711Z",
     "start_time": "2023-10-17T12:20:01.582163Z"
    }
   },
   "outputs": [],
   "source": [
    "def get_quartile(values):\n",
    "    vs = list(sorted(values))\n",
    "    return vs[0], vs[int(len(vs) * 0.1)], vs[int(len(vs) * 0.5)], vs[int(len(vs) * 0.9)], vs[-1]\n",
    "\n",
    "array = []\n",
    "for m in [m1, m2]:\n",
    "    ys = m.mean()\n",
    "    xs = np.arange(len(ys))\n",
    "    ys1 = []\n",
    "    ys2 = []\n",
    "    for c in m.columns:\n",
    "        v1, v2, v3, v4, v5 = get_quartile(m[c])\n",
    "        ys1.append(v2)\n",
    "        ys2.append(v4)\n",
    "    array.append([xs, ys, ys1, ys2])"
   ]
  },
  {
   "cell_type": "code",
   "execution_count": 6,
   "metadata": {
    "ExecuteTime": {
     "end_time": "2023-10-17T12:21:59.890533Z",
     "start_time": "2023-10-17T12:21:59.594024Z"
    }
   },
   "outputs": [
    {
     "data": {
      "image/png": "[encoded data removed]",
      "text/plain": [
       "<Figure size 504x216 with 2 Axes>"
      ]
     },
     "metadata": {
      "needs_background": "light"
     },
     "output_type": "display_data"
    }
   ],
   "source": [
    "fig, axs = plt.subplots(1, 2, figsize=(7, 3), sharex=True, sharey=True)\n",
    "\n",
    "for i in range(2):\n",
    "    xs, ys, ys1, ys2 = array[i]\n",
    "    \n",
    "    ax = axs[i]\n",
    "    plt.sca(ax)\n",
    "    # plt.title(\"R%d\" % (i + 1))\n",
    "    plt.plot(xs, ys, lw=2, color=\"C0\")\n",
    "    plt.fill_between(xs, ys1, ys2, color=\"lightgrey\")\n",
    "    plt.text(5, 5, \"Paired-end: R%d reads\" % (i + 1))  \n",
    "    plt.xlabel(\"Position of read\")\n",
    "    if i == 0:\n",
    "        plt.ylabel(\"Phred quality score\")\n",
    "        \n",
    "    plt.xlim(0, 150)\n",
    "    plt.ylim(0, 42)\n",
    "\n",
    "plt.tight_layout()\n",
    "plt.savefig(\"figures/distribution_of_phred_quality_score_at_read.pdf\", dpi=300)"
   ]
  },
  {
   "cell_type": "code",
   "execution_count": null,
   "metadata": {},
   "outputs": [],
   "source": []
  }
 ],
 "metadata": {
  "kernelspec": {
   "display_name": "Python 3",
   "language": "python",
   "name": "python3"
  },
  "language_info": {
   "codemirror_mode": {
    "name": "ipython",
    "version": 3
   },
   "file_extension": ".py",
   "mimetype": "text/x-python",
   "name": "python",
   "nbconvert_exporter": "python",
   "pygments_lexer": "ipython3",
   "version": "3.6.13"
  }
 },
 "nbformat": 4,
 "nbformat_minor": 4
}
