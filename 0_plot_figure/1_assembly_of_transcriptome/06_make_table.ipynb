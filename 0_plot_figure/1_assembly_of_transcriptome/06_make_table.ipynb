{
 "cells": [
  {
   "cell_type": "code",
   "execution_count": 28,
   "metadata": {
    "ExecuteTime": {
     "end_time": "2023-10-29T05:12:52.789875Z",
     "start_time": "2023-10-29T05:12:52.768780Z"
    }
   },
   "outputs": [],
   "source": [
    "from collections import defaultdict\n",
    "import numpy as np\n",
    "import pandas as pd\n",
    "from pyBioInfo.IO.File import GtfFile, GtfTranscriptBuilder\n",
    "\n",
    "info = pd.read_excel(\"../../1_analysis_of_rna_seq/RNAseq.xls\")\n",
    "info = info.sort_values(by=\"Tissue\")\n",
    "info = info[~info[\"Replicate\"].isna()]"
   ]
  },
  {
   "cell_type": "markdown",
   "metadata": {
    "heading_collapsed": true
   },
   "source": [
    "# Summary of RNA-seq"
   ]
  },
  {
   "cell_type": "code",
   "execution_count": 23,
   "metadata": {
    "ExecuteTime": {
     "end_time": "2023-10-29T04:59:22.690700Z",
     "start_time": "2023-10-29T04:59:22.420611Z"
    },
    "hidden": true,
    "scrolled": true
   },
   "outputs": [],
   "source": [
    "tissues = list(sorted(set(info[\"Tissue\"])))\n",
    "rows = []\n",
    "for t in tissues:\n",
    "    row = []\n",
    "    for sex in [\"Mixture\", \"Male\", \"Female\"]:\n",
    "        for rep in [1, 2]:\n",
    "            tmp = info[(info[\"Tissue\"] == t) & (info[\"Sex\"] == sex) & (info[\"Replicate\"] == rep)]\n",
    "            reads = 0\n",
    "            mapped = 0\n",
    "            if len(tmp) == 1:\n",
    "                sample = tmp[\"Sample\"].values[0]\n",
    "                path = \"../../1_analysis_of_rna_seq/results/denovo_mapping/star/mapped.2nd/%s/Log.final.out\" % sample\n",
    "                with open(path) as f:\n",
    "                    for line in f:\n",
    "                        if \"Number of input reads\" in line:\n",
    "                            reads = line.strip(\"\\n\").split()[-1]\n",
    "                        if \"Uniquely mapped reads %\" in line:\n",
    "                            mapped = line.strip(\"\\n\").split()[-1]\n",
    "            row.append(reads)\n",
    "            row.append(mapped)\n",
    "    rows.append(row)"
   ]
  },
  {
   "cell_type": "code",
   "execution_count": 24,
   "metadata": {
    "ExecuteTime": {
     "end_time": "2023-10-29T04:59:23.295454Z",
     "start_time": "2023-10-29T04:59:23.256883Z"
    },
    "hidden": true
   },
   "outputs": [],
   "source": [
    "dat = pd.DataFrame(rows, index=tissues)\n",
    "dat.index.name = \"Tissue\"\n",
    "dat.columns = [\n",
    "    \"Ju_Rep1_Reads\", \"Ju_Rep1_Mapped\",\n",
    "    \"Ju_Rep2_Reads\", \"Ju_Rep2_Mapped\",\n",
    "    \"Ma_Rep1_Reads\", \"Ma_Rep1_Mapped\",\n",
    "    \"Ma_Rep2_Reads\", \"Ma_Rep2_Mapped\",\n",
    "    \"Fe_Rep1_Reads\", \"Fe_Rep1_Mapped\",\n",
    "    \"Fe_Rep2_Reads\", \"Fe_Rep2_Mapped\",\n",
    "]\n",
    "dat.to_excel(\"results/summary_of_rna_seq.xlsx\")"
   ]
  },
  {
   "cell_type": "markdown",
   "metadata": {},
   "source": [
    "# Summary of Iso-seq (TODO)"
   ]
  },
  {
   "cell_type": "markdown",
   "metadata": {},
   "source": [
    "# Summary of annotations"
   ]
  },
  {
   "cell_type": "code",
   "execution_count": 25,
   "metadata": {
    "ExecuteTime": {
     "end_time": "2023-10-29T05:11:42.865884Z",
     "start_time": "2023-10-29T05:11:42.859948Z"
    }
   },
   "outputs": [],
   "source": [
    "f_gtf_ncbi = \"../../common/ncbi_Sdu_1.0/GCF_002260705.1_Sdu_1.0_genomic.clean.sorted.gtf.gz\"\n",
    "f_gtf_ensembl = \"../../common/ensembl_Sdu_1.0/Seriola_dumerili.Sdu_1.0.103.converted.clean.sorted.gtf.gz\"\n",
    "f_gtf_ngs = \"../../1_analysis_of_rna_seq/results/assembly/stringtie/merged_all_samples.sorted.gtf.gz\"\n",
    "f_gtf_tgs = \"../../2_analysis_of_iso_seq/results/assembly/tama/filtered_internal_primer/all_samples.mp4.sorted.gtf.gz\"\n",
    "f_gtf_asm = \"../../3_integrate_isoforms/results/assembly/asm.sorted.gtf.gz\""
   ]
  },
  {
   "cell_type": "code",
   "execution_count": null,
   "metadata": {
    "ExecuteTime": {
     "end_time": "2023-10-29T05:15:06.139810Z",
     "start_time": "2023-10-29T05:12:56.961128Z"
    }
   },
   "outputs": [],
   "source": [
    "def load_gtf_summary(infile, name):\n",
    "    with GtfFile(infile) as f:\n",
    "        records = [x for x in f]  \n",
    "    transcripts = list(GtfTranscriptBuilder(records))\n",
    "    s = pd.Series(dtype=np.float)\n",
    "\n",
    "    s.name = name\n",
    "    s[\"isoforms\"] = len(transcripts)\n",
    "\n",
    "    counter = defaultdict(int)\n",
    "    for t in transcripts:\n",
    "        for k, v in t.records.items():\n",
    "            gid = v[0].attributes[\"gene_id\"]\n",
    "            break\n",
    "        counter[gid] += 1\n",
    "    s[\"genes\"] = len(counter)\n",
    "    s[\"isoform_per_gene\"] = s[\"isoforms\"] / s[\"genes\"]\n",
    "    s[\"gene_with_multi_isoform\"] = sum([v > 1 for v in counter.values()])\n",
    "    s[\"gene_with_multi_isoform_perc\"] = s[\"gene_with_multi_isoform\"] / s[\"genes\"]\n",
    "\n",
    "    vs = []\n",
    "    for t in transcripts:\n",
    "        vs.append(len(t.blocks))\n",
    "    s[\"exon_per_isoform\"] = np.mean(vs)\n",
    "    s[\"isoform_with_multi_exon\"] = sum([v > 1 for v in vs])\n",
    "    s[\"isoform_with_multi_exon_perc\"] = s[\"isoform_with_multi_exon\"] / s[\"isoforms\"]\n",
    "\n",
    "    lengths = list(sorted([len(t) for t in transcripts]))\n",
    "    s[\"mean_length\"] = np.mean(lengths)\n",
    "    s[\"median_length\"] = np.median(lengths)\n",
    "\n",
    "    tmp1 = sum(lengths) / 2\n",
    "    tmp2 = 0\n",
    "    for length in lengths:\n",
    "        tmp2 += length\n",
    "        if tmp2 >= tmp1:\n",
    "            n50 = length\n",
    "            break\n",
    "    s[\"n50\"] = n50\n",
    "    return s\n",
    "\n",
    "s1 = load_gtf_summary(f_gtf_ncbi, \"NCBI\")\n",
    "s2 = load_gtf_summary(f_gtf_ensembl, \"ENSEMBL\")\n",
    "s3 = load_gtf_summary(f_gtf_ngs, \"NGS\")\n",
    "s4 = load_gtf_summary(f_gtf_tgs, \"TGS\")\n",
    "s5 = load_gtf_summary(f_gtf_asm, \"Assembly\")"
   ]
  },
  {
   "cell_type": "code",
   "execution_count": 31,
   "metadata": {
    "ExecuteTime": {
     "end_time": "2023-10-29T05:16:26.746250Z",
     "start_time": "2023-10-29T05:16:26.721467Z"
    }
   },
   "outputs": [
    {
     "data": {
      "text/html": [
       "<div>\n",
       "<style scoped>\n",
       "    .dataframe tbody tr th:only-of-type {\n",
       "        vertical-align: middle;\n",
       "    }\n",
       "\n",
       "    .dataframe tbody tr th {\n",
       "        vertical-align: top;\n",
       "    }\n",
       "\n",
       "    .dataframe thead th {\n",
       "        text-align: right;\n",
       "    }\n",
       "</style>\n",
       "<table border=\"1\" class=\"dataframe\">\n",
       "  <thead>\n",
       "    <tr style=\"text-align: right;\">\n",
       "      <th></th>\n",
       "      <th>isoforms</th>\n",
       "      <th>genes</th>\n",
       "      <th>isoform_per_gene</th>\n",
       "      <th>gene_with_multi_isoform</th>\n",
       "      <th>gene_with_multi_isoform_perc</th>\n",
       "      <th>exon_per_isoform</th>\n",
       "      <th>isoform_with_multi_exon</th>\n",
       "      <th>isoform_with_multi_exon_perc</th>\n",
       "      <th>mean_length</th>\n",
       "      <th>median_length</th>\n",
       "      <th>n50</th>\n",
       "    </tr>\n",
       "    <tr>\n",
       "      <th>Build</th>\n",
       "      <th></th>\n",
       "      <th></th>\n",
       "      <th></th>\n",
       "      <th></th>\n",
       "      <th></th>\n",
       "      <th></th>\n",
       "      <th></th>\n",
       "      <th></th>\n",
       "      <th></th>\n",
       "      <th></th>\n",
       "      <th></th>\n",
       "    </tr>\n",
       "  </thead>\n",
       "  <tbody>\n",
       "    <tr>\n",
       "      <th>NCBI</th>\n",
       "      <td>34971.0</td>\n",
       "      <td>23878.0</td>\n",
       "      <td>1.464570</td>\n",
       "      <td>6121.0</td>\n",
       "      <td>0.256345</td>\n",
       "      <td>11.574705</td>\n",
       "      <td>33051.0</td>\n",
       "      <td>0.945097</td>\n",
       "      <td>2748.624946</td>\n",
       "      <td>2333.0</td>\n",
       "      <td>3537.0</td>\n",
       "    </tr>\n",
       "    <tr>\n",
       "      <th>ENSEMBL</th>\n",
       "      <td>33717.0</td>\n",
       "      <td>23808.0</td>\n",
       "      <td>1.416205</td>\n",
       "      <td>6504.0</td>\n",
       "      <td>0.273185</td>\n",
       "      <td>10.531572</td>\n",
       "      <td>32323.0</td>\n",
       "      <td>0.958656</td>\n",
       "      <td>2553.637305</td>\n",
       "      <td>2004.0</td>\n",
       "      <td>3700.0</td>\n",
       "    </tr>\n",
       "    <tr>\n",
       "      <th>NGS</th>\n",
       "      <td>91901.0</td>\n",
       "      <td>30549.0</td>\n",
       "      <td>3.008315</td>\n",
       "      <td>14983.0</td>\n",
       "      <td>0.490458</td>\n",
       "      <td>13.111990</td>\n",
       "      <td>88629.0</td>\n",
       "      <td>0.964396</td>\n",
       "      <td>4542.420550</td>\n",
       "      <td>3945.0</td>\n",
       "      <td>6415.0</td>\n",
       "    </tr>\n",
       "    <tr>\n",
       "      <th>TGS</th>\n",
       "      <td>130734.0</td>\n",
       "      <td>17527.0</td>\n",
       "      <td>7.459006</td>\n",
       "      <td>11597.0</td>\n",
       "      <td>0.661665</td>\n",
       "      <td>16.861949</td>\n",
       "      <td>126052.0</td>\n",
       "      <td>0.964187</td>\n",
       "      <td>5300.739685</td>\n",
       "      <td>5458.0</td>\n",
       "      <td>5588.0</td>\n",
       "    </tr>\n",
       "    <tr>\n",
       "      <th>Assembly</th>\n",
       "      <td>147218.0</td>\n",
       "      <td>27087.0</td>\n",
       "      <td>5.435006</td>\n",
       "      <td>14353.0</td>\n",
       "      <td>0.529885</td>\n",
       "      <td>15.567397</td>\n",
       "      <td>139832.0</td>\n",
       "      <td>0.949830</td>\n",
       "      <td>4971.839395</td>\n",
       "      <td>5381.0</td>\n",
       "      <td>5563.0</td>\n",
       "    </tr>\n",
       "  </tbody>\n",
       "</table>\n",
       "</div>"
      ],
      "text/plain": [
       "          isoforms    genes  isoform_per_gene  gene_with_multi_isoform  \\\n",
       "Build                                                                    \n",
       "NCBI       34971.0  23878.0          1.464570                   6121.0   \n",
       "ENSEMBL    33717.0  23808.0          1.416205                   6504.0   \n",
       "NGS        91901.0  30549.0          3.008315                  14983.0   \n",
       "TGS       130734.0  17527.0          7.459006                  11597.0   \n",
       "Assembly  147218.0  27087.0          5.435006                  14353.0   \n",
       "\n",
       "          gene_with_multi_isoform_perc  exon_per_isoform  \\\n",
       "Build                                                      \n",
       "NCBI                          0.256345         11.574705   \n",
       "ENSEMBL                       0.273185         10.531572   \n",
       "NGS                           0.490458         13.111990   \n",
       "TGS                           0.661665         16.861949   \n",
       "Assembly                      0.529885         15.567397   \n",
       "\n",
       "          isoform_with_multi_exon  isoform_with_multi_exon_perc  mean_length  \\\n",
       "Build                                                                          \n",
       "NCBI                      33051.0                      0.945097  2748.624946   \n",
       "ENSEMBL                   32323.0                      0.958656  2553.637305   \n",
       "NGS                       88629.0                      0.964396  4542.420550   \n",
       "TGS                      126052.0                      0.964187  5300.739685   \n",
       "Assembly                 139832.0                      0.949830  4971.839395   \n",
       "\n",
       "          median_length     n50  \n",
       "Build                            \n",
       "NCBI             2333.0  3537.0  \n",
       "ENSEMBL          2004.0  3700.0  \n",
       "NGS              3945.0  6415.0  \n",
       "TGS              5458.0  5588.0  \n",
       "Assembly         5381.0  5563.0  "
      ]
     },
     "execution_count": 31,
     "metadata": {},
     "output_type": "execute_result"
    }
   ],
   "source": [
    "dat = pd.DataFrame([s1, s2, s3, s4, s5])\n",
    "dat.index.name = \"Build\"\n",
    "dat"
   ]
  },
  {
   "cell_type": "code",
   "execution_count": 33,
   "metadata": {
    "ExecuteTime": {
     "end_time": "2023-10-29T05:16:54.318911Z",
     "start_time": "2023-10-29T05:16:54.279447Z"
    }
   },
   "outputs": [],
   "source": [
    "dat.to_excel(\"results/summary_of_builds.xlsx\")"
   ]
  }
 ],
 "metadata": {
  "kernelspec": {
   "display_name": "Python 3",
   "language": "python",
   "name": "python3"
  },
  "language_info": {
   "codemirror_mode": {
    "name": "ipython",
    "version": 3
   },
   "file_extension": ".py",
   "mimetype": "text/x-python",
   "name": "python",
   "nbconvert_exporter": "python",
   "pygments_lexer": "ipython3",
   "version": "3.6.13"
  }
 },
 "nbformat": 4,
 "nbformat_minor": 4
}
