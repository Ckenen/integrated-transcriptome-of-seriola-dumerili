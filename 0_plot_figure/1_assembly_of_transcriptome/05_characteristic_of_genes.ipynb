{
 "cells": [
  {
   "cell_type": "code",
   "execution_count": 1,
   "metadata": {
    "ExecuteTime": {
     "end_time": "2023-10-20T01:48:54.040813Z",
     "start_time": "2023-10-20T01:48:51.097316Z"
    }
   },
   "outputs": [],
   "source": [
    "from collections import defaultdict\n",
    "import numpy as np\n",
    "import pandas as pd\n",
    "import matplotlib.pyplot as plt\n",
    "from matplotlib.gridspec import GridSpec\n",
    "from matplotlib_venn import *\n",
    "from pyBioInfo.IO.File import GtfFile, GtfGeneBuilder, GtfTranscriptBuilder\n",
    "from pyBioInfo.Utils import ShiftLoader"
   ]
  },
  {
   "cell_type": "markdown",
   "metadata": {},
   "source": [
    "# Gene overlap"
   ]
  },
  {
   "cell_type": "code",
   "execution_count": 178,
   "metadata": {
    "ExecuteTime": {
     "end_time": "2023-10-19T12:25:43.095227Z",
     "start_time": "2023-10-19T12:25:19.429805Z"
    }
   },
   "outputs": [],
   "source": [
    "genes_ncbi= []\n",
    "with GtfFile(\"../../common/ncbi_Sdu_1.0/GCF_002260705.1_Sdu_1.0_genomic.clean.sorted.gtf.gz\") as f:\n",
    "    records = [x for x in f]\n",
    "for record in records:\n",
    "    genes_ncbi.append(record.attributes[\"gene_id\"])\n",
    "genes_ncbi = set(genes_ncbi)"
   ]
  },
  {
   "cell_type": "code",
   "execution_count": 179,
   "metadata": {
    "ExecuteTime": {
     "end_time": "2023-10-19T12:25:46.606600Z",
     "start_time": "2023-10-19T12:25:43.098487Z"
    }
   },
   "outputs": [],
   "source": [
    "dat = pd.read_csv(\"../../3_integrate_isoforms/results/assembly/sqanti3/ncbi_vs_asm/query_classification.txt\", sep=\"\\t\")\n",
    "genes_assembly = set(dat[\"associated_gene\"])"
   ]
  },
  {
   "cell_type": "code",
   "execution_count": 180,
   "metadata": {
    "ExecuteTime": {
     "end_time": "2023-10-19T12:25:46.867665Z",
     "start_time": "2023-10-19T12:25:46.609257Z"
    }
   },
   "outputs": [],
   "source": [
    "genes_common = genes_ncbi & genes_assembly\n",
    "genes_ncbi_only = genes_ncbi - genes_common\n",
    "genes_assembly_only = genes_assembly - genes_common"
   ]
  },
  {
   "cell_type": "code",
   "execution_count": 181,
   "metadata": {
    "ExecuteTime": {
     "end_time": "2023-10-19T12:25:47.085070Z",
     "start_time": "2023-10-19T12:25:46.870381Z"
    }
   },
   "outputs": [
    {
     "data": {
      "image/png": "[encoded data removed]",
      "text/plain": [
       "<Figure size 216x180 with 1 Axes>"
      ]
     },
     "metadata": {},
     "output_type": "display_data"
    }
   ],
   "source": [
    "a = len(genes_ncbi_only)\n",
    "b = len(genes_common)\n",
    "c = len(genes_assembly_only)\n",
    "plt.figure(figsize=(3, 2.5))\n",
    "v = venn2(subsets=(a, b, c), set_labels=[\"NCBI genes\", \"ASM genes\"], set_colors=[\"C0\", \"C1\"])\n",
    "v.get_label_by_id('10').set_text(format(a, \",\") + \"\\n(%.2f%%)\" % (a * 100 / len(genes_ncbi)))\n",
    "v.get_label_by_id('11').set_text(format(b, \",\"))\n",
    "v.get_label_by_id('01').set_text(format(c, \",\") + \"\\n(%.2f%%)\" % (c * 100 / len(genes_assembly)))\n",
    "plt.tight_layout()\n",
    "plt.savefig(\"figures/genes_overlap.pdf\", dpi=300)"
   ]
  },
  {
   "cell_type": "markdown",
   "metadata": {},
   "source": [
    "# Gene feature"
   ]
  },
  {
   "cell_type": "code",
   "execution_count": 2,
   "metadata": {
    "ExecuteTime": {
     "end_time": "2023-10-20T01:49:59.418629Z",
     "start_time": "2023-10-20T01:49:44.789306Z"
    }
   },
   "outputs": [
    {
     "name": "stdout",
     "output_type": "stream",
     "text": [
      "23878\n"
     ]
    }
   ],
   "source": [
    "with GtfFile(\"../../common/ncbi_Sdu_1.0/GCF_002260705.1_Sdu_1.0_genomic.clean.sorted.gtf.gz\") as f:\n",
    "    records = [x for x in f]\n",
    "ncbi_genes = list(sorted(GtfGeneBuilder(records)))\n",
    "for g in ncbi_genes:\n",
    "    g.length = max([len(t) for t in g.transcripts])\n",
    "print(len(ncbi_genes))"
   ]
  },
  {
   "cell_type": "code",
   "execution_count": 8,
   "metadata": {
    "ExecuteTime": {
     "end_time": "2023-10-20T01:54:45.889687Z",
     "start_time": "2023-10-20T01:53:55.067142Z"
    }
   },
   "outputs": [
    {
     "name": "stdout",
     "output_type": "stream",
     "text": [
      "33363\n"
     ]
    }
   ],
   "source": [
    "with GtfFile(\"../../3_integrate_isoforms/results/assembly/asm.final.sorted.gtf.gz\") as f:\n",
    "    records = [x for x in f]\n",
    "asm_genes = list(sorted(GtfGeneBuilder(records)))\n",
    "for g in asm_genes:\n",
    "    g.length = max([len(t) for t in g.transcripts])\n",
    "    counter = defaultdict(int)\n",
    "    for t in g.transcripts:\n",
    "        tid = t.records[\"transcript\"][0].attributes[\"transcript_id\"]\n",
    "        if tid.startswith(\"G\"):\n",
    "            counter[\"TGS\"] += 1\n",
    "        elif tid.startswith(\"MSTRG\"):\n",
    "            counter[\"NGS\"] += 1\n",
    "        else:\n",
    "            assert False\n",
    "    g.sources = counter\n",
    "print(len(asm_genes))"
   ]
  },
  {
   "cell_type": "code",
   "execution_count": 9,
   "metadata": {
    "ExecuteTime": {
     "end_time": "2023-10-20T01:54:46.862575Z",
     "start_time": "2023-10-20T01:54:45.891235Z"
    }
   },
   "outputs": [],
   "source": [
    "ncbi_fpkms = dict(pd.read_csv(\"../../3_integrate_isoforms/results/expression/stringtie/ncbi.gene_abund.tsv\", sep=\"\\t\", index_col=0).max(axis=1))\n",
    "asm_fpkms = dict(pd.read_csv(\"../../3_integrate_isoforms/results/expression/stringtie/asm.gene_abund.tsv\", sep=\"\\t\", index_col=0).max(axis=1))"
   ]
  },
  {
   "cell_type": "code",
   "execution_count": 10,
   "metadata": {
    "ExecuteTime": {
     "end_time": "2023-10-20T01:54:47.087757Z",
     "start_time": "2023-10-20T01:54:46.864383Z"
    }
   },
   "outputs": [],
   "source": [
    "def seperate_hit_genes(genes1, genes2):\n",
    "    loader = ShiftLoader(genes2)\n",
    "    array1 = []\n",
    "    array2 = []\n",
    "    for gene1 in genes1:\n",
    "        hit = False\n",
    "        for gene2 in loader.fetch(obj=gene1):\n",
    "            if gene2.strand == gene1.strand:\n",
    "                hit = True\n",
    "                break\n",
    "        if hit:\n",
    "            array1.append(gene1)\n",
    "        else:\n",
    "            array2.append(gene1)\n",
    "    return array1, array2\n",
    "\n",
    "ncbi_hit_genes, ncbi_not_hit_genes = seperate_hit_genes(ncbi_genes, asm_genes)\n",
    "asm_hit_genes, asm_not_hit_genes = seperate_hit_genes(asm_genes, ncbi_genes)"
   ]
  },
  {
   "cell_type": "code",
   "execution_count": 11,
   "metadata": {
    "ExecuteTime": {
     "end_time": "2023-10-20T01:54:47.113744Z",
     "start_time": "2023-10-20T01:54:47.089295Z"
    }
   },
   "outputs": [
    {
     "name": "stdout",
     "output_type": "stream",
     "text": [
      "3978 18046\n",
      "7914 3425\n"
     ]
    }
   ],
   "source": [
    "asm_hit_ngs_genes = []\n",
    "asm_hit_tgs_genes = []\n",
    "for g in asm_hit_genes:\n",
    "    if g.sources[\"TGS\"] > 0:\n",
    "        asm_hit_tgs_genes.append(g)\n",
    "    else:\n",
    "        asm_hit_ngs_genes.append(g)\n",
    "print(len(asm_hit_ngs_genes), len(asm_hit_tgs_genes))\n",
    "\n",
    "asm_not_hit_ngs_genes = []\n",
    "asm_not_hit_tgs_genes = []\n",
    "for g in asm_not_hit_genes:\n",
    "    if g.sources[\"TGS\"] > 0:\n",
    "        asm_not_hit_tgs_genes.append(g)\n",
    "    else:\n",
    "        asm_not_hit_ngs_genes.append(g)\n",
    "print(len(asm_not_hit_ngs_genes), len(asm_not_hit_tgs_genes))"
   ]
  },
  {
   "cell_type": "code",
   "execution_count": 24,
   "metadata": {
    "ExecuteTime": {
     "end_time": "2023-10-20T02:01:03.735769Z",
     "start_time": "2023-10-20T02:01:03.152153Z"
    }
   },
   "outputs": [
    {
     "data": {
      "image/png": "[encoded data removed]",
      "text/plain": [
       "<Figure size 252x554.4 with 4 Axes>"
      ]
     },
     "metadata": {
      "needs_background": "light"
     },
     "output_type": "display_data"
    }
   ],
   "source": [
    "array = [ncbi_not_hit_genes, asm_hit_ngs_genes, asm_hit_tgs_genes, asm_not_hit_ngs_genes, asm_not_hit_tgs_genes]\n",
    "\n",
    "w = 0.4\n",
    "colors = ['pink', 'lightblue', 'skyblue', 'lightgreen', 'limegreen']\n",
    "\n",
    "fig = plt.figure(figsize=(3.5, 7.7))\n",
    "gs = GridSpec(10, 1, figure=fig, hspace=0.3, left=0.28, right=0.95, bottom=0.01, top=0.99)\n",
    "\n",
    "ax1 = fig.add_subplot(gs[:3, 0])\n",
    "plt.sca(ax1)\n",
    "for i, genes in enumerate(array):\n",
    "    lengths = [g.length/1e3 for g in genes]\n",
    "    bplot = plt.boxplot([lengths], positions=[i], widths=w, showfliers=False, patch_artist=True)\n",
    "    for j, patch in enumerate(bplot[\"boxes\"]):\n",
    "        patch.set_facecolor(colors[i])\n",
    "plt.xticks([])\n",
    "plt.ylim(-0.5, 12.5)\n",
    "plt.yticks([0, 3, 6, 9, 12])\n",
    "plt.ylabel(\"Gene length (x10$^3$)\")\n",
    "\n",
    "ax2 = fig.add_subplot(gs[3:6, 0])\n",
    "plt.sca(ax2)\n",
    "low_fpkm_gene_counts = []\n",
    "for i, genes in enumerate(array):\n",
    "    fpkms = np.array([ncbi_fpkms[g.name] if g.name in ncbi_fpkms else asm_fpkms[g.name] for g in genes])\n",
    "    low_fpkm_gene_counts.append(sum(fpkms < 0.05))\n",
    "    fpkms = np.log10(1 + fpkms)\n",
    "    bplot = plt.boxplot([fpkms], positions=[i], widths=w, showfliers=False, patch_artist=True)\n",
    "    for j, patch in enumerate(bplot[\"boxes\"]):\n",
    "        patch.set_facecolor(colors[i])\n",
    "plt.xticks([])\n",
    "plt.ylim(-0.1, 3.2)\n",
    "plt.yticks([0, 1, 2, 3])\n",
    "plt.ylabel(\"log$_{10}$(FPKM + 1)\")\n",
    "    \n",
    "ax3 = fig.add_subplot(gs[6:9, 0])\n",
    "plt.sca(ax3)\n",
    "ys = low_fpkm_gene_counts\n",
    "xs = np.arange(len(ys))\n",
    "plt.bar(xs, ys, width=w, edgecolor=\"black\", color=colors)\n",
    "for x, y in zip(xs, ys):\n",
    "    plt.text(x, y + max(ys) * 0.05, str(y), ha=\"center\")\n",
    "plt.xticks([])\n",
    "plt.ylim(0, 900)\n",
    "plt.ylabel(\"Gene number with\\nFPKM < 0.05\")\n",
    "\n",
    "ax4 = fig.add_subplot(gs[-1:, 0])\n",
    "plt.sca(ax4)\n",
    "\n",
    "mtx = [\n",
    "    [1, 1, 1, 0, 0],\n",
    "    [0, 1, 0, 1, 0],\n",
    "    [0, 0, 1, 0, 1]\n",
    "]\n",
    "\n",
    "for x in range(len(mtx[0])):\n",
    "    plt.plot([x, x], [0, 2], lw=1, color=\"black\")\n",
    "    for y in range(len(mtx)):\n",
    "        color = \"white\" if mtx[y][x] == 0 else \"black\"\n",
    "        plt.scatter(x, y, marker=\"o\", s=60, edgecolor=\"black\", color=color, zorder=10)\n",
    "plt.yticks([0, 1, 2], [\"NCBI\", \"ASM (NGS)\", \"ASM (TGS)\"])\n",
    "plt.ylim(2.4, -0.4)\n",
    "for k, v in plt.gca().spines.items():\n",
    "    v.set_visible(False)\n",
    "plt.xticks([])\n",
    "\n",
    "for ax in [ax1, ax2, ax3, ax4]:\n",
    "    ax.set_xlim(-0.5, 4.5)\n",
    "\n",
    "# plt.tight_layout(rect=(0, 0, 1, 1))\n",
    "plt.savefig(\"figures/gene_feature.pdf\", dpi=300)"
   ]
  },
  {
   "cell_type": "code",
   "execution_count": null,
   "metadata": {},
   "outputs": [],
   "source": []
  }
 ],
 "metadata": {
  "kernelspec": {
   "display_name": "Python 3",
   "language": "python",
   "name": "python3"
  },
  "language_info": {
   "codemirror_mode": {
    "name": "ipython",
    "version": 3
   },
   "file_extension": ".py",
   "mimetype": "text/x-python",
   "name": "python",
   "nbconvert_exporter": "python",
   "pygments_lexer": "ipython3",
   "version": "3.6.13"
  }
 },
 "nbformat": 4,
 "nbformat_minor": 4
}
