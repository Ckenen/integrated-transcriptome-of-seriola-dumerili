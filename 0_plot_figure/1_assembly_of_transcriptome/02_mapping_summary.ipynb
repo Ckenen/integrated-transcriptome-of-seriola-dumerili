{
 "cells": [
  {
   "cell_type": "code",
   "execution_count": 4,
   "metadata": {
    "ExecuteTime": {
     "end_time": "2023-10-17T12:23:55.621788Z",
     "start_time": "2023-10-17T12:23:55.601060Z"
    }
   },
   "outputs": [],
   "source": [
    "import numpy as np\n",
    "import pandas as pd\n",
    "import matplotlib.pyplot as plt\n",
    "\n",
    "infos = pd.read_excel(\"../../1_analysis_of_rna_seq/RNAseq.xls\")\n",
    "infos = infos[~infos[\"Replicate\"].isna()]\n",
    "samples = list(infos[\"Sample\"])"
   ]
  },
  {
   "cell_type": "code",
   "execution_count": 9,
   "metadata": {
    "ExecuteTime": {
     "end_time": "2023-10-17T12:26:35.219375Z",
     "start_time": "2023-10-17T12:26:35.196758Z"
    }
   },
   "outputs": [],
   "source": [
    "array = []\n",
    "for sample in samples:\n",
    "    path = \"../../1_analysis_of_rna_seq/results/denovo_mapping/star/mapped.2nd/%s/Log.final.out\" % sample\n",
    "    d = dict()\n",
    "    with open(path) as f:\n",
    "        for line in f:\n",
    "            if \"|\" in line:\n",
    "                k, v = line.strip(\"\\n\").split(\"|\")\n",
    "                d[k.strip()] = v.strip()\n",
    "    array.append(d)\n",
    "dat = pd.DataFrame(array)"
   ]
  },
  {
   "cell_type": "code",
   "execution_count": 16,
   "metadata": {
    "ExecuteTime": {
     "end_time": "2023-10-17T12:30:48.794126Z",
     "start_time": "2023-10-17T12:30:48.771874Z"
    }
   },
   "outputs": [
    {
     "data": {
      "text/html": [
       "<div>\n",
       "<style scoped>\n",
       "    .dataframe tbody tr th:only-of-type {\n",
       "        vertical-align: middle;\n",
       "    }\n",
       "\n",
       "    .dataframe tbody tr th {\n",
       "        vertical-align: top;\n",
       "    }\n",
       "\n",
       "    .dataframe thead th {\n",
       "        text-align: right;\n",
       "    }\n",
       "</style>\n",
       "<table border=\"1\" class=\"dataframe\">\n",
       "  <thead>\n",
       "    <tr style=\"text-align: right;\">\n",
       "      <th></th>\n",
       "      <th>UniqueMapped</th>\n",
       "      <th>MultipleMapped</th>\n",
       "      <th>TooShort</th>\n",
       "      <th>Other</th>\n",
       "    </tr>\n",
       "  </thead>\n",
       "  <tbody>\n",
       "    <tr>\n",
       "      <th>0</th>\n",
       "      <td>88.17</td>\n",
       "      <td>8.10</td>\n",
       "      <td>3.67</td>\n",
       "      <td>0.07</td>\n",
       "    </tr>\n",
       "    <tr>\n",
       "      <th>1</th>\n",
       "      <td>90.52</td>\n",
       "      <td>7.81</td>\n",
       "      <td>1.61</td>\n",
       "      <td>0.07</td>\n",
       "    </tr>\n",
       "    <tr>\n",
       "      <th>2</th>\n",
       "      <td>92.13</td>\n",
       "      <td>6.68</td>\n",
       "      <td>1.12</td>\n",
       "      <td>0.07</td>\n",
       "    </tr>\n",
       "    <tr>\n",
       "      <th>3</th>\n",
       "      <td>87.40</td>\n",
       "      <td>9.97</td>\n",
       "      <td>2.54</td>\n",
       "      <td>0.08</td>\n",
       "    </tr>\n",
       "    <tr>\n",
       "      <th>4</th>\n",
       "      <td>81.93</td>\n",
       "      <td>15.77</td>\n",
       "      <td>2.24</td>\n",
       "      <td>0.07</td>\n",
       "    </tr>\n",
       "  </tbody>\n",
       "</table>\n",
       "</div>"
      ],
      "text/plain": [
       "   UniqueMapped  MultipleMapped  TooShort  Other\n",
       "0         88.17            8.10      3.67   0.07\n",
       "1         90.52            7.81      1.61   0.07\n",
       "2         92.13            6.68      1.12   0.07\n",
       "3         87.40            9.97      2.54   0.08\n",
       "4         81.93           15.77      2.24   0.07"
      ]
     },
     "execution_count": 16,
     "metadata": {},
     "output_type": "execute_result"
    }
   ],
   "source": [
    "d = dat[[\n",
    "    \"Uniquely mapped reads %\", \n",
    "    \"% of reads mapped to multiple loci\", \n",
    "    \"% of reads mapped to too many loci\", \n",
    "    \"% of reads unmapped: too short\", \n",
    "    \"% of reads unmapped: other\"]]\n",
    "rows = []\n",
    "for row in d.values:\n",
    "    row = [float(x[:-1]) for x in row]\n",
    "    v1, v2, v3, v4, v5 = row\n",
    "    rows.append([v1, v2 + v3, v4, v5])\n",
    "m = pd.DataFrame(rows, columns=[\"UniqueMapped\", \"MultipleMapped\", \"TooShort\", \"Other\"])\n",
    "m.head()"
   ]
  },
  {
   "cell_type": "code",
   "execution_count": 52,
   "metadata": {
    "ExecuteTime": {
     "end_time": "2023-10-17T12:40:10.475485Z",
     "start_time": "2023-10-17T12:40:10.291589Z"
    }
   },
   "outputs": [
    {
     "data": {
      "image/png": "[encoded data removed]",
      "text/plain": [
       "<Figure size 252x216 with 1 Axes>"
      ]
     },
     "metadata": {
      "needs_background": "light"
     },
     "output_type": "display_data"
    }
   ],
   "source": [
    "xs = np.arange(4)\n",
    "ticks = [\"Uniquely\\nmapped\", \"Multiple\\nmapped\", \"Unmapped:\\ntoo short\", \"Unmapped:\\nother\"]\n",
    "ys = m.mean()\n",
    "yerr = m.std()\n",
    "colors = [\"C0\", \"C2\", \"C3\", \"C7\"]\n",
    "\n",
    "plt.figure(figsize=(3.5, 3))\n",
    "plt.bar(xs, ys, yerr=yerr, width=0.4, edgecolor=\"black\", color=colors, error_kw={\"lw\": 1, \"capsize\": 4})\n",
    "plt.text(0.5, 90, \"N = %d\" % len(samples))\n",
    "for i in range(4):\n",
    "    plt.text(0.5, 80 - i * 10, \"Mean: %.2f%%, std: %.2f%%\" % (ys[i], yerr[i]), color=colors[i])\n",
    "plt.xticks(xs, ticks, rotation=30)\n",
    "plt.ylim(0, 100)\n",
    "plt.ylabel(\"Percentage of reads (%)\")\n",
    "plt.tight_layout()\n",
    "plt.savefig(\"figures/summary_of_star_mapping.pdf\", dpi=300)"
   ]
  }
 ],
 "metadata": {
  "kernelspec": {
   "display_name": "Python 3",
   "language": "python",
   "name": "python3"
  },
  "language_info": {
   "codemirror_mode": {
    "name": "ipython",
    "version": 3
   },
   "file_extension": ".py",
   "mimetype": "text/x-python",
   "name": "python",
   "nbconvert_exporter": "python",
   "pygments_lexer": "ipython3",
   "version": "3.6.13"
  }
 },
 "nbformat": 4,
 "nbformat_minor": 4
}
