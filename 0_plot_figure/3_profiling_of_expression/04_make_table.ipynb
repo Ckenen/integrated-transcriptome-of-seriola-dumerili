{
 "cells": [
  {
   "cell_type": "code",
   "execution_count": 1,
   "metadata": {
    "ExecuteTime": {
     "end_time": "2023-10-29T05:25:34.314558Z",
     "start_time": "2023-10-29T05:25:33.979603Z"
    }
   },
   "outputs": [],
   "source": [
    "import glob\n",
    "import pandas as pd"
   ]
  },
  {
   "cell_type": "code",
   "execution_count": 8,
   "metadata": {
    "ExecuteTime": {
     "end_time": "2023-10-29T05:27:36.956452Z",
     "start_time": "2023-10-29T05:27:36.878077Z"
    }
   },
   "outputs": [],
   "source": [
    "array = []\n",
    "for path in glob.glob(\"results/tissue_specific_genes_goterm.*.enriched_terms.csv\"):\n",
    "    tissue = path.split(\".\")[-3]\n",
    "    d = pd.read_csv(path, index_col=0)\n",
    "    d[\"Tissue\"] = tissue\n",
    "    array.append(d)"
   ]
  },
  {
   "cell_type": "code",
   "execution_count": 14,
   "metadata": {
    "ExecuteTime": {
     "end_time": "2023-10-29T05:29:57.632870Z",
     "start_time": "2023-10-29T05:29:57.324757Z"
    }
   },
   "outputs": [],
   "source": [
    "dat = pd.concat(array)\n",
    "dat = dat[['Tissue', 'ID', 'Description', 'GeneRatio', 'BgRatio', 'pvalue', 'p.adjust', 'qvalue', 'Count', 'geneID']]\n",
    "dat.to_excel(\"results/merged_all_goterms.xlsx\", index=False)"
   ]
  }
 ],
 "metadata": {
  "kernelspec": {
   "display_name": "Python 3",
   "language": "python",
   "name": "python3"
  },
  "language_info": {
   "codemirror_mode": {
    "name": "ipython",
    "version": 3
   },
   "file_extension": ".py",
   "mimetype": "text/x-python",
   "name": "python",
   "nbconvert_exporter": "python",
   "pygments_lexer": "ipython3",
   "version": "3.6.13"
  }
 },
 "nbformat": 4,
 "nbformat_minor": 4
}
