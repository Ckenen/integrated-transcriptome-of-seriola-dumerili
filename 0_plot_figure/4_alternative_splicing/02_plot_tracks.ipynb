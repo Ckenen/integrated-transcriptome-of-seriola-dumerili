{
 "cells": [
  {
   "cell_type": "code",
   "execution_count": 1,
   "metadata": {
    "ExecuteTime": {
     "end_time": "2023-10-30T15:28:31.797986Z",
     "start_time": "2023-10-30T15:28:31.443137Z"
    }
   },
   "outputs": [],
   "source": [
    "import numpy as np\n",
    "import matplotlib.pyplot as plt\n",
    "import pyBigWig\n",
    "from pyBioInfo.IO.File import GtfFile, GtfGeneBuilder"
   ]
  },
  {
   "cell_type": "code",
   "execution_count": 2,
   "metadata": {
    "ExecuteTime": {
     "end_time": "2023-10-30T15:28:31.802419Z",
     "start_time": "2023-10-30T15:28:31.799811Z"
    }
   },
   "outputs": [],
   "source": [
    "f_gtf_ncbi = \"../../common/ncbi_Sdu_1.0/GCF_002260705.1_Sdu_1.0_genomic.clean.sorted.gtf.gz\"\n",
    "f_gtf_ensembl = \"../../common/ensembl_Sdu_1.0/Seriola_dumerili.Sdu_1.0.103.converted.clean.sorted.gtf.gz\"\n",
    "f_gtf_ngs = \"../../1_analysis_of_rna_seq/results/assembly/stringtie/merged_all_samples.sorted.gtf.gz\"\n",
    "f_gtf_tgs = \"../../2_analysis_of_iso_seq/results/assembly/tama/filtered_internal_primer/all_samples.mp4.sorted.gtf.gz\"\n",
    "f_gtf_asm = \"../../3_integrate_isoforms/results/assembly/asm.final.sorted.gtf.gz\"\n",
    "\n",
    "f_fasta = \"../../common/ncbi_Sdu_1.0/GCF_002260705.1_Sdu_1.0_genomic.fa\""
   ]
  },
  {
   "cell_type": "code",
   "execution_count": 3,
   "metadata": {
    "ExecuteTime": {
     "end_time": "2023-10-30T15:29:38.179704Z",
     "start_time": "2023-10-30T15:28:33.199968Z"
    }
   },
   "outputs": [],
   "source": [
    "def load_transcripts(path):\n",
    "    data = dict()\n",
    "    with GtfFile(path) as f:\n",
    "        for gene in GtfGeneBuilder(f):\n",
    "            for transcript in gene.transcripts:\n",
    "                data[transcript.name] = transcript\n",
    "    return data\n",
    "# transcripts_ncbi = load_transcripts(f_gtf_ncbi)\n",
    "# transcripts_ensembl = load_transcripts(f_gtf_ensembl)\n",
    "transcripts_asm = load_transcripts(f_gtf_asm)"
   ]
  },
  {
   "cell_type": "markdown",
   "metadata": {},
   "source": [
    "## 4 tracks"
   ]
  },
  {
   "cell_type": "code",
   "execution_count": 4,
   "metadata": {
    "ExecuteTime": {
     "end_time": "2023-10-30T15:29:38.198871Z",
     "start_time": "2023-10-30T15:29:38.182820Z"
    }
   },
   "outputs": [],
   "source": [
    "gene = \"slc25a12\"\n",
    "\n",
    "if gene == \"fam126a\":\n",
    "    # fam126a\n",
    "    tids = [\"G8624.1\", \"G8624.5\", \"G8624.13\", \"G8624.17\"]\n",
    "    chrom = \"NW_019174365.1\"\n",
    "    start = 4167000\n",
    "    end = 4173000\n",
    "    strand = \"-\"\n",
    "elif gene == \"slc25a12\":\n",
    "    # slc25a12\n",
    "    tids = [\"G4519.1\", \"G4519.5\", \"G4519.7\", \"G4519.14\"]\n",
    "    chrom = \"NW_019174307.1\"\n",
    "    start = 11665000\n",
    "    end = 11671000\n",
    "    strand = \"-\"\n",
    "elif gene == \"ect2\":\n",
    "    tids = [\"G16386.1\", \"G16386.4\", \"G16386.5\", \"G16386.9\"]\n",
    "    chrom = \"NW_019174576.1\"\n",
    "    start = 2074000\n",
    "    end = 2085000\n",
    "    strand = \"+\"\n",
    "elif gene == \"marf1\":\n",
    "    tids = [\"G14042.13\", \"G14042.15\", \"G14042.16\", \"G14042.20\"]\n",
    "    chrom = \"NW_019174485.1\"\n",
    "    start = 538000\n",
    "    end = 542000\n",
    "    strand = \"-\"\n",
    "else:\n",
    "    assert False\n",
    "    \n",
    "transcripts = [transcripts_asm[tid] for tid in tids]\n",
    "\n",
    "f_bw_list = [\n",
    "    \"../../1_analysis_of_rna_seq/results/tracks/bw/Ad_Go_Fe_1.norm.%s.bw\" % strand,\n",
    "    \"../../1_analysis_of_rna_seq/results/tracks/bw/Ad_Go_Fe_2.norm.%s.bw\" % strand,\n",
    "    \"../../1_analysis_of_rna_seq/results/tracks/bw/Ad_Go_Ma_2.norm.%s.bw\" % strand,\n",
    "    \"../../1_analysis_of_rna_seq/results/tracks/bw/Ad_Go_Ma_3.norm.%s.bw\" % strand,\n",
    "]\n",
    "    \n",
    "array = []\n",
    "for path in f_bw_list:\n",
    "    with pyBigWig.open(path) as bw:\n",
    "        values = bw.values(chrom, start, end)\n",
    "        values = np.nan_to_num(values, 0)\n",
    "        array.append(values)  "
   ]
  },
  {
   "cell_type": "code",
   "execution_count": 5,
   "metadata": {
    "ExecuteTime": {
     "end_time": "2023-10-30T15:29:38.956941Z",
     "start_time": "2023-10-30T15:29:38.201138Z"
    }
   },
   "outputs": [
    {
     "data": {
      "image/png": "[encoded data removed]",
      "text/plain": [
       "<Figure size 504x216 with 5 Axes>"
      ]
     },
     "metadata": {},
     "output_type": "display_data"
    }
   ],
   "source": [
    "xs = np.arange(start, end)\n",
    "\n",
    "fig, axs = plt.subplots(5, 1, figsize=(7, 3), sharex=True, gridspec_kw={\"hspace\": 0})\n",
    "\n",
    "for i in range(5):\n",
    "    ax = axs[i]\n",
    "    ax.spines[\"left\"].set_visible(False)\n",
    "    ax.spines[\"top\"].set_visible(False)\n",
    "    ax.spines[\"right\"].set_visible(False)\n",
    "    if i == 4:\n",
    "        ax.spines[\"bottom\"].set_visible(False)\n",
    "    ax.set_xticks([])\n",
    "    ax.set_yticks([])\n",
    "    \n",
    "labels = [\"Ad_Fe_Go_1\", \"Ad_Fe_Go_2\", \"Ad_Ma_Go_1\", \"Ad_Ma_Go_2\"]\n",
    "for i in range(len(array)):\n",
    "    ax = axs[i]\n",
    "    plt.sca(ax)\n",
    "    ys = array[i]\n",
    "    color = \"C3\" if i < 2 else \"C0\"\n",
    "    plt.fill_between(xs, ys, color=color)\n",
    "    h = int(max(ys) * 1.5) + 1\n",
    "    plt.ylim(0, h)\n",
    "    # plt.text(start, 0, \"0\", va=\"bottom\")\n",
    "    plt.text(start, h * 0.95, \"%s\" % format(h, \",\"), va=\"top\", color=color)\n",
    "    plt.ylabel(labels[i], rotation=0, ha=\"right\")\n",
    "    plt.tight_layout()\n",
    "    \n",
    "plt.sca(axs[4])\n",
    "plt.xlabel(\"$\\it{%s}$ (%s: %s-%s, strand: %s)\" % (gene, chrom, format(start, \",\"), format(end, \",\"), strand))\n",
    "labels = tids\n",
    "for i in range(len(transcripts)):\n",
    "    transcript = transcripts[i]\n",
    "    blocks = transcript.blocks\n",
    "    if len(blocks) > 1:\n",
    "        plt.plot([blocks[0][1], blocks[-1][0]], [i + 0.5, i + 0.5], ls=\"-\", lw=0.5, color=\"black\")\n",
    "    for block_start, block_end in transcript.blocks:\n",
    "        position = (block_start + block_end) / 2\n",
    "        width = block_end - block_start\n",
    "        plt.bar(position, 0.3, width=width, bottom=i + 0.35, color=\"black\")\n",
    "    if transcript.thick:\n",
    "        thick_start, thick_end = transcript.thick\n",
    "        for block_start, block_end in transcript.blocks:\n",
    "            block_start = max(block_start, thick_start)\n",
    "            block_end = min(block_end, thick_end)\n",
    "            if block_start >= block_end:\n",
    "                continue\n",
    "            position = (block_start + block_end) / 2\n",
    "            width = block_end - block_start\n",
    "            plt.bar(position, 0.6, width=width, bottom=i + 0.2, color=\"black\")\n",
    "    plt.xlim(start, end)\n",
    "    plt.text(start, i + 0.5, labels[i], ha=\"right\", va=\"center\")\n",
    "plt.ylim(len(transcripts), 0)\n",
    "\n",
    "plt.tight_layout()\n",
    "plt.savefig(\"figures/track.%s.pdf\" % gene, dpi=300)"
   ]
  },
  {
   "cell_type": "markdown",
   "metadata": {},
   "source": [
    "## 6 tracks"
   ]
  },
  {
   "cell_type": "code",
   "execution_count": 8,
   "metadata": {
    "ExecuteTime": {
     "end_time": "2023-10-30T15:30:08.110744Z",
     "start_time": "2023-10-30T15:30:08.084127Z"
    }
   },
   "outputs": [],
   "source": [
    "gene = \"marf1\"\n",
    "\n",
    "if gene == \"fam126a\":\n",
    "    # fam126a\n",
    "    tids = [\"G8624.1\", \"G8624.5\", \"G8624.13\", \"G8624.17\"]\n",
    "    chrom = \"NW_019174365.1\"\n",
    "    start = 4167000\n",
    "    end = 4173000\n",
    "    strand = \"-\"\n",
    "elif gene == \"slc25a12\":\n",
    "    # slc25a12\n",
    "    tids = [\"G4519.1\", \"G4519.5\", \"G4519.7\", \"G4519.14\"]\n",
    "    chrom = \"NW_019174307.1\"\n",
    "    start = 11665000\n",
    "    end = 11671000\n",
    "    strand = \"-\"\n",
    "elif gene == \"ect2\":\n",
    "    tids = [\"G16386.1\", \"G16386.4\", \"G16386.5\", \"G16386.9\"]\n",
    "    chrom = \"NW_019174576.1\"\n",
    "    start = 2074000\n",
    "    end = 2085000\n",
    "    strand = \"+\"\n",
    "elif gene == \"marf1\":\n",
    "    tids = [\"G14042.13\", \"G14042.15\", \"G14042.16\", \"G14042.20\"]\n",
    "    chrom = \"NW_019174485.1\"\n",
    "    start = 538000\n",
    "    end = 542000\n",
    "    strand = \"-\"\n",
    "else:\n",
    "    assert False\n",
    "    \n",
    "transcripts = [transcripts_asm[tid] for tid in tids]\n",
    "\n",
    "f_bw_list = [\n",
    "    \"../../1_analysis_of_rna_seq/results/tracks/bw/Ju_Go_Mi_1.norm.%s.bw\" % strand,\n",
    "    \"../../1_analysis_of_rna_seq/results/tracks/bw/Ju_Go_Mi_2.norm.%s.bw\" % strand,\n",
    "    \"../../1_analysis_of_rna_seq/results/tracks/bw/Ad_Go_Fe_1.norm.%s.bw\" % strand,\n",
    "    \"../../1_analysis_of_rna_seq/results/tracks/bw/Ad_Go_Fe_2.norm.%s.bw\" % strand,\n",
    "    \"../../1_analysis_of_rna_seq/results/tracks/bw/Ad_Go_Ma_2.norm.%s.bw\" % strand,\n",
    "    \"../../1_analysis_of_rna_seq/results/tracks/bw/Ad_Go_Ma_3.norm.%s.bw\" % strand,\n",
    "]\n",
    "    \n",
    "array = []\n",
    "for path in f_bw_list:\n",
    "    with pyBigWig.open(path) as bw:\n",
    "        values = bw.values(chrom, start, end)\n",
    "        values = np.nan_to_num(values, 0)\n",
    "        array.append(values)  "
   ]
  },
  {
   "cell_type": "code",
   "execution_count": 9,
   "metadata": {
    "ExecuteTime": {
     "end_time": "2023-10-30T15:30:09.691305Z",
     "start_time": "2023-10-30T15:30:08.669685Z"
    }
   },
   "outputs": [
    {
     "data": {
      "image/png": "[encoded data removed]",
      "text/plain": [
       "<Figure size 504x288 with 7 Axes>"
      ]
     },
     "metadata": {},
     "output_type": "display_data"
    }
   ],
   "source": [
    "xs = np.arange(start, end)\n",
    "\n",
    "fig, axs = plt.subplots(7, 1, figsize=(7, 4), sharex=True, gridspec_kw={\"hspace\": 0})\n",
    "\n",
    "plt.suptitle(\"$\\it{%s}$ (%s: %s-%s, strand: %s)\" % (gene, chrom, format(start, \",\"), format(end, \",\"), strand))\n",
    "\n",
    "for i in range(7):\n",
    "    ax = axs[i]\n",
    "    ax.spines[\"left\"].set_visible(False)\n",
    "    ax.spines[\"top\"].set_visible(False)\n",
    "    ax.spines[\"right\"].set_visible(False)\n",
    "    if i == 6:\n",
    "        ax.spines[\"bottom\"].set_visible(False)\n",
    "    ax.set_xticks([])\n",
    "    ax.set_yticks([])\n",
    "    \n",
    "labels = [\"Ju_Mi_Go_1\", \"Ju_Mi_Go_2\", \"Ad_Fe_Go_1\", \"Ad_Fe_Go_2\", \"Ad_Ma_Go_1\", \"Ad_Ma_Go_2\"]\n",
    "for i in range(len(array)):\n",
    "    ax = axs[i]\n",
    "    plt.sca(ax)\n",
    "    ys = array[i]\n",
    "    if 0 <= i < 2:\n",
    "        color = \"C2\"\n",
    "    elif 2 <= i < 4:\n",
    "        color = \"C3\"\n",
    "    else:\n",
    "        color = \"C0\"\n",
    "    plt.fill_between(xs, ys, color=color)\n",
    "    h = int(max(ys) * 1.5) + 1\n",
    "    plt.ylim(0, h)\n",
    "    # plt.text(start, 0, \"0\", va=\"bottom\")\n",
    "    plt.text(start, h * 0.95, \"%s\" % format(h, \",\"), va=\"top\", color=color)\n",
    "    plt.ylabel(labels[i], rotation=0, ha=\"right\")\n",
    "    plt.tight_layout()\n",
    "    \n",
    "plt.sca(axs[6])\n",
    "# plt.xlabel(\"$\\it{%s}$ (%s: %s-%s, strand: %s)\" % (gene, chrom, format(start, \",\"), format(end, \",\"), strand))\n",
    "labels = tids\n",
    "for i in range(len(transcripts)):\n",
    "    transcript = transcripts[i]\n",
    "    blocks = transcript.blocks\n",
    "    if len(blocks) > 1:\n",
    "        plt.plot([blocks[0][1], blocks[-1][0]], [i + 0.5, i + 0.5], ls=\"-\", lw=0.5, color=\"black\")\n",
    "    for block_start, block_end in transcript.blocks:\n",
    "        position = (block_start + block_end) / 2\n",
    "        width = block_end - block_start\n",
    "        plt.bar(position, 0.3, width=width, bottom=i + 0.35, color=\"black\")\n",
    "    if transcript.thick:\n",
    "        thick_start, thick_end = transcript.thick\n",
    "        for block_start, block_end in transcript.blocks:\n",
    "            block_start = max(block_start, thick_start)\n",
    "            block_end = min(block_end, thick_end)\n",
    "            if block_start >= block_end:\n",
    "                continue\n",
    "            position = (block_start + block_end) / 2\n",
    "            width = block_end - block_start\n",
    "            plt.bar(position, 0.6, width=width, bottom=i + 0.2, color=\"black\")\n",
    "    plt.xlim(start, end)\n",
    "    plt.text(start, i + 0.5, labels[i], ha=\"right\", va=\"center\")\n",
    "plt.ylim(len(transcripts), 0)\n",
    "\n",
    "plt.tight_layout()\n",
    "plt.savefig(\"figures/track.%s.pdf\" % gene, dpi=300)"
   ]
  },
  {
   "cell_type": "code",
   "execution_count": null,
   "metadata": {},
   "outputs": [],
   "source": []
  }
 ],
 "metadata": {
  "kernelspec": {
   "display_name": "Python 3",
   "language": "python",
   "name": "python3"
  },
  "language_info": {
   "codemirror_mode": {
    "name": "ipython",
    "version": 3
   },
   "file_extension": ".py",
   "mimetype": "text/x-python",
   "name": "python",
   "nbconvert_exporter": "python",
   "pygments_lexer": "ipython3",
   "version": "3.6.13"
  }
 },
 "nbformat": 4,
 "nbformat_minor": 4
}
