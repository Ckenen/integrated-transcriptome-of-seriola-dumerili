{
 "cells": [
  {
   "cell_type": "code",
   "execution_count": 9,
   "metadata": {
    "ExecuteTime": {
     "end_time": "2023-11-04T03:28:57.831434Z",
     "start_time": "2023-11-04T03:28:57.826468Z"
    }
   },
   "outputs": [],
   "source": [
    "import os\n",
    "import pandas as pd"
   ]
  },
  {
   "cell_type": "code",
   "execution_count": null,
   "metadata": {
    "ExecuteTime": {
     "end_time": "2023-11-04T03:33:49.944406Z",
     "start_time": "2023-11-04T03:33:49.400193Z"
    }
   },
   "outputs": [],
   "source": [
    "dat = pd.read_excel(\"../../1_analysis_of_rna_seq/RNAseq.xls\")\n",
    "dat = dat[~dat[\"Replicate\"].isna()]"
   ]
  },
  {
   "cell_type": "code",
   "execution_count": 20,
   "metadata": {
    "ExecuteTime": {
     "end_time": "2023-11-04T03:33:49.944406Z",
     "start_time": "2023-11-04T03:33:49.400193Z"
    }
   },
   "outputs": [],
   "source": [
    "for sample, tissue, rep, stage, sex in dat.values:\n",
    "    for r in [\"R1\", \"R2\"]:\n",
    "        path1 = \"../../1_analysis_of_rna_seq/data/datasets/%s_%s.fastq.gz\" % (sample, r)\n",
    "        path2 = \"fastqs/%s_%s_%s_Rep%d_%s.fastq.gz\" % (stage, sex, tissue, rep, r)\n",
    "        path1 = os.path.abspath(path1)\n",
    "        path2 = os.path.abspath(path2)\n",
    "        cmd = \"ln -s -f %s %s\" % (path1, path2)\n",
    "        # print(cmd)\n",
    "        assert os.system(cmd) == 0"
   ]
  },
  {
   "cell_type": "code",
   "execution_count": 22,
   "metadata": {
    "ExecuteTime": {
     "end_time": "2023-11-04T03:37:04.635468Z",
     "start_time": "2023-11-04T03:37:04.262418Z"
    }
   },
   "outputs": [],
   "source": [
    "! ln -s -f /data2/chenzonggui/iso_seq_results/smrt/min_passes_4/polished/Ju_Mi.hq.fastq.gz fastqs/Juvenile_Mixture_polished_hq.fastq.gz\n",
    "! ln -s -f /data2/chenzonggui/iso_seq_results/smrt/min_passes_4/polished/Ad_Fe.hq.fastq.gz fastqs/Adult_Female_polished_hq.fastq.gz\n",
    "! ln -s -f /data2/chenzonggui/iso_seq_results/smrt/min_passes_4/polished/Ad_Ma.hq.fastq.gz fastqs/Adult_Male_polished_hq.fastq.gz"
   ]
  },
  {
   "cell_type": "code",
   "execution_count": 23,
   "metadata": {
    "ExecuteTime": {
     "end_time": "2023-11-04T04:03:08.929575Z",
     "start_time": "2023-11-04T03:37:42.807548Z"
    }
   },
   "outputs": [],
   "source": [
    "! md5sum fastqs/*.gz > md5sum.txt"
   ]
  },
  {
   "cell_type": "code",
   "execution_count": 24,
   "metadata": {
    "ExecuteTime": {
     "end_time": "2023-11-04T14:22:22.528917Z",
     "start_time": "2023-11-04T14:22:22.504337Z"
    }
   },
   "outputs": [
    {
     "name": "stdout",
     "output_type": "stream",
     "text": [
      "Juvenile_Mixture_Brain_Rep1\n",
      "Juvenile_Mixture_Brain_Rep2\n",
      "Adult_Male_Brain_Rep1\n",
      "Adult_Male_Brain_Rep2\n",
      "Adult_Female_Brain_Rep1\n",
      "Adult_Female_Brain_Rep2\n",
      "Juvenile_Mixture_Eye_Rep1\n",
      "Juvenile_Mixture_Eye_Rep2\n",
      "Adult_Male_Eye_Rep1\n",
      "Adult_Male_Eye_Rep2\n",
      "Adult_Female_Eye_Rep1\n",
      "Adult_Female_Eye_Rep2\n",
      "Juvenile_Mixture_Gill_Rep1\n",
      "Juvenile_Mixture_Gill_Rep2\n",
      "Adult_Male_Gill_Rep1\n",
      "Adult_Male_Gill_Rep2\n",
      "Adult_Female_Gill_Rep1\n",
      "Adult_Female_Gill_Rep2\n",
      "Juvenile_Mixture_Gonad_Rep1\n",
      "Juvenile_Mixture_Gonad_Rep2\n",
      "Adult_Male_Gonad_Rep1\n",
      "Adult_Male_Gonad_Rep2\n",
      "Adult_Female_Gonad_Rep1\n",
      "Adult_Female_Gonad_Rep2\n",
      "Juvenile_Mixture_Heart_Rep1\n",
      "Juvenile_Mixture_Heart_Rep2\n",
      "Adult_Male_Heart_Rep1\n",
      "Adult_Male_Heart_Rep2\n",
      "Adult_Female_Heart_Rep1\n",
      "Adult_Female_Heart_Rep2\n",
      "Juvenile_Mixture_Kidney_Rep1\n",
      "Juvenile_Mixture_Kidney_Rep2\n",
      "Adult_Male_Kidney_Rep1\n",
      "Adult_Male_Kidney_Rep2\n",
      "Adult_Female_Kidney_Rep1\n",
      "Adult_Female_Kidney_Rep2\n",
      "Juvenile_Mixture_Liver_Rep1\n",
      "Juvenile_Mixture_Liver_Rep2\n",
      "Adult_Male_Liver_Rep1\n",
      "Adult_Male_Liver_Rep2\n",
      "Adult_Female_Liver_Rep1\n",
      "Adult_Female_Liver_Rep2\n",
      "Juvenile_Mixture_Muscle_Rep1\n",
      "Juvenile_Mixture_Muscle_Rep2\n",
      "Adult_Male_Muscle_Rep1\n",
      "Adult_Male_Muscle_Rep2\n",
      "Adult_Female_Muscle_Rep1\n",
      "Adult_Female_Muscle_Rep2\n",
      "Juvenile_Mixture_Intestine_Rep1\n",
      "Juvenile_Mixture_Intestine_Rep2\n",
      "Adult_Male_Intestine_Rep1\n",
      "Adult_Male_Intestine_Rep2\n",
      "Adult_Female_Intestine_Rep1\n",
      "Adult_Female_Intestine_Rep2\n",
      "Adult_Male_Pituitary_Rep1\n",
      "Adult_Male_Pituitary_Rep2\n",
      "Adult_Female_Pituitary_Rep1\n",
      "Adult_Female_Pituitary_Rep2\n",
      "Adult_Male_Spleen_Rep1\n",
      "Adult_Male_Spleen_Rep2\n",
      "Adult_Female_Spleen_Rep1\n",
      "Adult_Female_Spleen_Rep2\n",
      "Adult_Male_Stomach_Rep1\n",
      "Adult_Male_Stomach_Rep2\n",
      "Adult_Female_Stomach_Rep1\n",
      "Adult_Female_Stomach_Rep2\n"
     ]
    }
   ],
   "source": [
    "for sample, tissue, rep, stage, sex in dat.values:\n",
    "    name = \"%s_%s_%s_Rep%d\" % (stage, sex, tissue, rep)\n",
    "    print(name)"
   ]
  },
  {
   "cell_type": "code",
   "execution_count": 36,
   "metadata": {
    "ExecuteTime": {
     "end_time": "2023-11-04T14:46:48.531785Z",
     "start_time": "2023-11-04T14:46:48.512115Z"
    }
   },
   "outputs": [
    {
     "name": "stdout",
     "output_type": "stream",
     "text": [
      "RNA-seq of juvenile mixture brain (rep1)\n",
      "RNA-seq of juvenile mixture brain (rep2)\n",
      "RNA-seq of adult male brain (rep1)\n",
      "RNA-seq of adult male brain (rep2)\n",
      "RNA-seq of adult female brain (rep1)\n",
      "RNA-seq of adult female brain (rep2)\n",
      "RNA-seq of juvenile mixture eye (rep1)\n",
      "RNA-seq of juvenile mixture eye (rep2)\n",
      "RNA-seq of adult male eye (rep1)\n",
      "RNA-seq of adult male eye (rep2)\n",
      "RNA-seq of adult female eye (rep1)\n",
      "RNA-seq of adult female eye (rep2)\n",
      "RNA-seq of juvenile mixture gill (rep1)\n",
      "RNA-seq of juvenile mixture gill (rep2)\n",
      "RNA-seq of adult male gill (rep1)\n",
      "RNA-seq of adult male gill (rep2)\n",
      "RNA-seq of adult female gill (rep1)\n",
      "RNA-seq of adult female gill (rep2)\n",
      "RNA-seq of juvenile mixture gonad (rep1)\n",
      "RNA-seq of juvenile mixture gonad (rep2)\n",
      "RNA-seq of adult male gonad (rep1)\n",
      "RNA-seq of adult male gonad (rep2)\n",
      "RNA-seq of adult female gonad (rep1)\n",
      "RNA-seq of adult female gonad (rep2)\n",
      "RNA-seq of juvenile mixture heart (rep1)\n",
      "RNA-seq of juvenile mixture heart (rep2)\n",
      "RNA-seq of adult male heart (rep1)\n",
      "RNA-seq of adult male heart (rep2)\n",
      "RNA-seq of adult female heart (rep1)\n",
      "RNA-seq of adult female heart (rep2)\n",
      "RNA-seq of juvenile mixture kidney (rep1)\n",
      "RNA-seq of juvenile mixture kidney (rep2)\n",
      "RNA-seq of adult male kidney (rep1)\n",
      "RNA-seq of adult male kidney (rep2)\n",
      "RNA-seq of adult female kidney (rep1)\n",
      "RNA-seq of adult female kidney (rep2)\n",
      "RNA-seq of juvenile mixture liver (rep1)\n",
      "RNA-seq of juvenile mixture liver (rep2)\n",
      "RNA-seq of adult male liver (rep1)\n",
      "RNA-seq of adult male liver (rep2)\n",
      "RNA-seq of adult female liver (rep1)\n",
      "RNA-seq of adult female liver (rep2)\n",
      "RNA-seq of juvenile mixture muscle (rep1)\n",
      "RNA-seq of juvenile mixture muscle (rep2)\n",
      "RNA-seq of adult male muscle (rep1)\n",
      "RNA-seq of adult male muscle (rep2)\n",
      "RNA-seq of adult female muscle (rep1)\n",
      "RNA-seq of adult female muscle (rep2)\n",
      "RNA-seq of juvenile mixture intestine (rep1)\n",
      "RNA-seq of juvenile mixture intestine (rep2)\n",
      "RNA-seq of adult male intestine (rep1)\n",
      "RNA-seq of adult male intestine (rep2)\n",
      "RNA-seq of adult female intestine (rep1)\n",
      "RNA-seq of adult female intestine (rep2)\n",
      "RNA-seq of adult male pituitary (rep1)\n",
      "RNA-seq of adult male pituitary (rep2)\n",
      "RNA-seq of adult female pituitary (rep1)\n",
      "RNA-seq of adult female pituitary (rep2)\n",
      "RNA-seq of adult male spleen (rep1)\n",
      "RNA-seq of adult male spleen (rep2)\n",
      "RNA-seq of adult female spleen (rep1)\n",
      "RNA-seq of adult female spleen (rep2)\n",
      "RNA-seq of adult male stomach (rep1)\n",
      "RNA-seq of adult male stomach (rep2)\n",
      "RNA-seq of adult female stomach (rep1)\n",
      "RNA-seq of adult female stomach (rep2)\n"
     ]
    }
   ],
   "source": [
    "for sample, tissue, rep, stage, sex in dat.values:\n",
    "    name = \"RNA-seq of %s %s %s (rep%d)\" % (stage.lower(), sex.lower(), tissue.lower(), rep)\n",
    "    print(name)"
   ]
  },
  {
   "cell_type": "code",
   "execution_count": 25,
   "metadata": {
    "ExecuteTime": {
     "end_time": "2023-11-04T14:28:23.974883Z",
     "start_time": "2023-11-04T14:28:23.956511Z"
    }
   },
   "outputs": [
    {
     "name": "stdout",
     "output_type": "stream",
     "text": [
      "Juvenile\n",
      "Juvenile\n",
      "Adult\n",
      "Adult\n",
      "Adult\n",
      "Adult\n",
      "Juvenile\n",
      "Juvenile\n",
      "Adult\n",
      "Adult\n",
      "Adult\n",
      "Adult\n",
      "Juvenile\n",
      "Juvenile\n",
      "Adult\n",
      "Adult\n",
      "Adult\n",
      "Adult\n",
      "Juvenile\n",
      "Juvenile\n",
      "Adult\n",
      "Adult\n",
      "Adult\n",
      "Adult\n",
      "Juvenile\n",
      "Juvenile\n",
      "Adult\n",
      "Adult\n",
      "Adult\n",
      "Adult\n",
      "Juvenile\n",
      "Juvenile\n",
      "Adult\n",
      "Adult\n",
      "Adult\n",
      "Adult\n",
      "Juvenile\n",
      "Juvenile\n",
      "Adult\n",
      "Adult\n",
      "Adult\n",
      "Adult\n",
      "Juvenile\n",
      "Juvenile\n",
      "Adult\n",
      "Adult\n",
      "Adult\n",
      "Adult\n",
      "Juvenile\n",
      "Juvenile\n",
      "Adult\n",
      "Adult\n",
      "Adult\n",
      "Adult\n",
      "Adult\n",
      "Adult\n",
      "Adult\n",
      "Adult\n",
      "Adult\n",
      "Adult\n",
      "Adult\n",
      "Adult\n",
      "Adult\n",
      "Adult\n",
      "Adult\n",
      "Adult\n"
     ]
    }
   ],
   "source": [
    "for sample, tissue, rep, stage, sex in dat.values:\n",
    "    print(stage)"
   ]
  },
  {
   "cell_type": "code",
   "execution_count": 28,
   "metadata": {
    "ExecuteTime": {
     "end_time": "2023-11-04T14:31:20.636272Z",
     "start_time": "2023-11-04T14:31:20.613922Z"
    }
   },
   "outputs": [
    {
     "name": "stdout",
     "output_type": "stream",
     "text": [
      "not determined\n",
      "not determined\n",
      "male\n",
      "male\n",
      "female\n",
      "female\n",
      "not determined\n",
      "not determined\n",
      "male\n",
      "male\n",
      "female\n",
      "female\n",
      "not determined\n",
      "not determined\n",
      "male\n",
      "male\n",
      "female\n",
      "female\n",
      "not determined\n",
      "not determined\n",
      "male\n",
      "male\n",
      "female\n",
      "female\n",
      "not determined\n",
      "not determined\n",
      "male\n",
      "male\n",
      "female\n",
      "female\n",
      "not determined\n",
      "not determined\n",
      "male\n",
      "male\n",
      "female\n",
      "female\n",
      "not determined\n",
      "not determined\n",
      "male\n",
      "male\n",
      "female\n",
      "female\n",
      "not determined\n",
      "not determined\n",
      "male\n",
      "male\n",
      "female\n",
      "female\n",
      "not determined\n",
      "not determined\n",
      "male\n",
      "male\n",
      "female\n",
      "female\n",
      "male\n",
      "male\n",
      "female\n",
      "female\n",
      "male\n",
      "male\n",
      "female\n",
      "female\n",
      "male\n",
      "male\n",
      "female\n",
      "female\n"
     ]
    }
   ],
   "source": [
    "for sample, tissue, rep, stage, sex in dat.values:\n",
    "    if sex == \"Male\":\n",
    "        print(\"male\")\n",
    "    elif sex == \"Female\":\n",
    "        print(\"female\")\n",
    "    elif sex == \"Mixture\":\n",
    "        print(\"not determined\")"
   ]
  },
  {
   "cell_type": "code",
   "execution_count": 29,
   "metadata": {
    "ExecuteTime": {
     "end_time": "2023-11-04T14:31:50.036160Z",
     "start_time": "2023-11-04T14:31:50.017177Z"
    }
   },
   "outputs": [
    {
     "name": "stdout",
     "output_type": "stream",
     "text": [
      "Brain\n",
      "Brain\n",
      "Brain\n",
      "Brain\n",
      "Brain\n",
      "Brain\n",
      "Eye\n",
      "Eye\n",
      "Eye\n",
      "Eye\n",
      "Eye\n",
      "Eye\n",
      "Gill\n",
      "Gill\n",
      "Gill\n",
      "Gill\n",
      "Gill\n",
      "Gill\n",
      "Gonad\n",
      "Gonad\n",
      "Gonad\n",
      "Gonad\n",
      "Gonad\n",
      "Gonad\n",
      "Heart\n",
      "Heart\n",
      "Heart\n",
      "Heart\n",
      "Heart\n",
      "Heart\n",
      "Kidney\n",
      "Kidney\n",
      "Kidney\n",
      "Kidney\n",
      "Kidney\n",
      "Kidney\n",
      "Liver\n",
      "Liver\n",
      "Liver\n",
      "Liver\n",
      "Liver\n",
      "Liver\n",
      "Muscle\n",
      "Muscle\n",
      "Muscle\n",
      "Muscle\n",
      "Muscle\n",
      "Muscle\n",
      "Intestine\n",
      "Intestine\n",
      "Intestine\n",
      "Intestine\n",
      "Intestine\n",
      "Intestine\n",
      "Pituitary\n",
      "Pituitary\n",
      "Pituitary\n",
      "Pituitary\n",
      "Spleen\n",
      "Spleen\n",
      "Spleen\n",
      "Spleen\n",
      "Stomach\n",
      "Stomach\n",
      "Stomach\n",
      "Stomach\n"
     ]
    }
   ],
   "source": [
    "for sample, tissue, rep, stage, sex in dat.values:\n",
    "    print(tissue)"
   ]
  },
  {
   "cell_type": "code",
   "execution_count": 33,
   "metadata": {
    "ExecuteTime": {
     "end_time": "2023-11-04T14:43:21.484949Z",
     "start_time": "2023-11-04T14:43:21.467085Z"
    },
    "scrolled": false
   },
   "outputs": [
    {
     "name": "stdout",
     "output_type": "stream",
     "text": [
      "Rep 1\n",
      "Rep 2\n",
      "Rep 1\n",
      "Rep 2\n",
      "Rep 1\n",
      "Rep 2\n",
      "Rep 1\n",
      "Rep 2\n",
      "Rep 1\n",
      "Rep 2\n",
      "Rep 1\n",
      "Rep 2\n",
      "Rep 1\n",
      "Rep 2\n",
      "Rep 1\n",
      "Rep 2\n",
      "Rep 1\n",
      "Rep 2\n",
      "Rep 1\n",
      "Rep 2\n",
      "Rep 1\n",
      "Rep 2\n",
      "Rep 1\n",
      "Rep 2\n",
      "Rep 1\n",
      "Rep 2\n",
      "Rep 1\n",
      "Rep 2\n",
      "Rep 1\n",
      "Rep 2\n",
      "Rep 1\n",
      "Rep 2\n",
      "Rep 1\n",
      "Rep 2\n",
      "Rep 1\n",
      "Rep 2\n",
      "Rep 1\n",
      "Rep 2\n",
      "Rep 1\n",
      "Rep 2\n",
      "Rep 1\n",
      "Rep 2\n",
      "Rep 1\n",
      "Rep 2\n",
      "Rep 1\n",
      "Rep 2\n",
      "Rep 1\n",
      "Rep 2\n",
      "Rep 1\n",
      "Rep 2\n",
      "Rep 1\n",
      "Rep 2\n",
      "Rep 1\n",
      "Rep 2\n",
      "Rep 1\n",
      "Rep 2\n",
      "Rep 1\n",
      "Rep 2\n",
      "Rep 1\n",
      "Rep 2\n",
      "Rep 1\n",
      "Rep 2\n",
      "Rep 1\n",
      "Rep 2\n",
      "Rep 1\n",
      "Rep 2\n"
     ]
    }
   ],
   "source": [
    "for sample, tissue, rep, stage, sex in dat.values:\n",
    "    print(\"Rep %d\" % rep)"
   ]
  },
  {
   "cell_type": "code",
   "execution_count": 39,
   "metadata": {
    "ExecuteTime": {
     "end_time": "2023-11-04T14:56:49.745054Z",
     "start_time": "2023-11-04T14:56:49.723676Z"
    }
   },
   "outputs": [
    {
     "name": "stdout",
     "output_type": "stream",
     "text": [
      "Juvenile_Mixture_Brain_Rep1_R1.fastq.gz\n",
      "Juvenile_Mixture_Brain_Rep2_R1.fastq.gz\n",
      "Adult_Male_Brain_Rep1_R1.fastq.gz\n",
      "Adult_Male_Brain_Rep2_R1.fastq.gz\n",
      "Adult_Female_Brain_Rep1_R1.fastq.gz\n",
      "Adult_Female_Brain_Rep2_R1.fastq.gz\n",
      "Juvenile_Mixture_Eye_Rep1_R1.fastq.gz\n",
      "Juvenile_Mixture_Eye_Rep2_R1.fastq.gz\n",
      "Adult_Male_Eye_Rep1_R1.fastq.gz\n",
      "Adult_Male_Eye_Rep2_R1.fastq.gz\n",
      "Adult_Female_Eye_Rep1_R1.fastq.gz\n",
      "Adult_Female_Eye_Rep2_R1.fastq.gz\n",
      "Juvenile_Mixture_Gill_Rep1_R1.fastq.gz\n",
      "Juvenile_Mixture_Gill_Rep2_R1.fastq.gz\n",
      "Adult_Male_Gill_Rep1_R1.fastq.gz\n",
      "Adult_Male_Gill_Rep2_R1.fastq.gz\n",
      "Adult_Female_Gill_Rep1_R1.fastq.gz\n",
      "Adult_Female_Gill_Rep2_R1.fastq.gz\n",
      "Juvenile_Mixture_Gonad_Rep1_R1.fastq.gz\n",
      "Juvenile_Mixture_Gonad_Rep2_R1.fastq.gz\n",
      "Adult_Male_Gonad_Rep1_R1.fastq.gz\n",
      "Adult_Male_Gonad_Rep2_R1.fastq.gz\n",
      "Adult_Female_Gonad_Rep1_R1.fastq.gz\n",
      "Adult_Female_Gonad_Rep2_R1.fastq.gz\n",
      "Juvenile_Mixture_Heart_Rep1_R1.fastq.gz\n",
      "Juvenile_Mixture_Heart_Rep2_R1.fastq.gz\n",
      "Adult_Male_Heart_Rep1_R1.fastq.gz\n",
      "Adult_Male_Heart_Rep2_R1.fastq.gz\n",
      "Adult_Female_Heart_Rep1_R1.fastq.gz\n",
      "Adult_Female_Heart_Rep2_R1.fastq.gz\n",
      "Juvenile_Mixture_Kidney_Rep1_R1.fastq.gz\n",
      "Juvenile_Mixture_Kidney_Rep2_R1.fastq.gz\n",
      "Adult_Male_Kidney_Rep1_R1.fastq.gz\n",
      "Adult_Male_Kidney_Rep2_R1.fastq.gz\n",
      "Adult_Female_Kidney_Rep1_R1.fastq.gz\n",
      "Adult_Female_Kidney_Rep2_R1.fastq.gz\n",
      "Juvenile_Mixture_Liver_Rep1_R1.fastq.gz\n",
      "Juvenile_Mixture_Liver_Rep2_R1.fastq.gz\n",
      "Adult_Male_Liver_Rep1_R1.fastq.gz\n",
      "Adult_Male_Liver_Rep2_R1.fastq.gz\n",
      "Adult_Female_Liver_Rep1_R1.fastq.gz\n",
      "Adult_Female_Liver_Rep2_R1.fastq.gz\n",
      "Juvenile_Mixture_Muscle_Rep1_R1.fastq.gz\n",
      "Juvenile_Mixture_Muscle_Rep2_R1.fastq.gz\n",
      "Adult_Male_Muscle_Rep1_R1.fastq.gz\n",
      "Adult_Male_Muscle_Rep2_R1.fastq.gz\n",
      "Adult_Female_Muscle_Rep1_R1.fastq.gz\n",
      "Adult_Female_Muscle_Rep2_R1.fastq.gz\n",
      "Juvenile_Mixture_Intestine_Rep1_R1.fastq.gz\n",
      "Juvenile_Mixture_Intestine_Rep2_R1.fastq.gz\n",
      "Adult_Male_Intestine_Rep1_R1.fastq.gz\n",
      "Adult_Male_Intestine_Rep2_R1.fastq.gz\n",
      "Adult_Female_Intestine_Rep1_R1.fastq.gz\n",
      "Adult_Female_Intestine_Rep2_R1.fastq.gz\n",
      "Adult_Male_Pituitary_Rep1_R1.fastq.gz\n",
      "Adult_Male_Pituitary_Rep2_R1.fastq.gz\n",
      "Adult_Female_Pituitary_Rep1_R1.fastq.gz\n",
      "Adult_Female_Pituitary_Rep2_R1.fastq.gz\n",
      "Adult_Male_Spleen_Rep1_R1.fastq.gz\n",
      "Adult_Male_Spleen_Rep2_R1.fastq.gz\n",
      "Adult_Female_Spleen_Rep1_R1.fastq.gz\n",
      "Adult_Female_Spleen_Rep2_R1.fastq.gz\n",
      "Adult_Male_Stomach_Rep1_R1.fastq.gz\n",
      "Adult_Male_Stomach_Rep2_R1.fastq.gz\n",
      "Adult_Female_Stomach_Rep1_R1.fastq.gz\n",
      "Adult_Female_Stomach_Rep2_R1.fastq.gz\n"
     ]
    }
   ],
   "source": [
    "r = \"R1\"\n",
    "for sample, tissue, rep, stage, sex in dat.values:    \n",
    "    filename = \"%s_%s_%s_Rep%d_%s.fastq.gz\" % (stage, sex, tissue, rep, r)\n",
    "    print(filename)"
   ]
  },
  {
   "cell_type": "code",
   "execution_count": 40,
   "metadata": {
    "ExecuteTime": {
     "end_time": "2023-11-04T14:56:55.301319Z",
     "start_time": "2023-11-04T14:56:55.279695Z"
    }
   },
   "outputs": [
    {
     "name": "stdout",
     "output_type": "stream",
     "text": [
      "Juvenile_Mixture_Brain_Rep1_R2.fastq.gz\n",
      "Juvenile_Mixture_Brain_Rep2_R2.fastq.gz\n",
      "Adult_Male_Brain_Rep1_R2.fastq.gz\n",
      "Adult_Male_Brain_Rep2_R2.fastq.gz\n",
      "Adult_Female_Brain_Rep1_R2.fastq.gz\n",
      "Adult_Female_Brain_Rep2_R2.fastq.gz\n",
      "Juvenile_Mixture_Eye_Rep1_R2.fastq.gz\n",
      "Juvenile_Mixture_Eye_Rep2_R2.fastq.gz\n",
      "Adult_Male_Eye_Rep1_R2.fastq.gz\n",
      "Adult_Male_Eye_Rep2_R2.fastq.gz\n",
      "Adult_Female_Eye_Rep1_R2.fastq.gz\n",
      "Adult_Female_Eye_Rep2_R2.fastq.gz\n",
      "Juvenile_Mixture_Gill_Rep1_R2.fastq.gz\n",
      "Juvenile_Mixture_Gill_Rep2_R2.fastq.gz\n",
      "Adult_Male_Gill_Rep1_R2.fastq.gz\n",
      "Adult_Male_Gill_Rep2_R2.fastq.gz\n",
      "Adult_Female_Gill_Rep1_R2.fastq.gz\n",
      "Adult_Female_Gill_Rep2_R2.fastq.gz\n",
      "Juvenile_Mixture_Gonad_Rep1_R2.fastq.gz\n",
      "Juvenile_Mixture_Gonad_Rep2_R2.fastq.gz\n",
      "Adult_Male_Gonad_Rep1_R2.fastq.gz\n",
      "Adult_Male_Gonad_Rep2_R2.fastq.gz\n",
      "Adult_Female_Gonad_Rep1_R2.fastq.gz\n",
      "Adult_Female_Gonad_Rep2_R2.fastq.gz\n",
      "Juvenile_Mixture_Heart_Rep1_R2.fastq.gz\n",
      "Juvenile_Mixture_Heart_Rep2_R2.fastq.gz\n",
      "Adult_Male_Heart_Rep1_R2.fastq.gz\n",
      "Adult_Male_Heart_Rep2_R2.fastq.gz\n",
      "Adult_Female_Heart_Rep1_R2.fastq.gz\n",
      "Adult_Female_Heart_Rep2_R2.fastq.gz\n",
      "Juvenile_Mixture_Kidney_Rep1_R2.fastq.gz\n",
      "Juvenile_Mixture_Kidney_Rep2_R2.fastq.gz\n",
      "Adult_Male_Kidney_Rep1_R2.fastq.gz\n",
      "Adult_Male_Kidney_Rep2_R2.fastq.gz\n",
      "Adult_Female_Kidney_Rep1_R2.fastq.gz\n",
      "Adult_Female_Kidney_Rep2_R2.fastq.gz\n",
      "Juvenile_Mixture_Liver_Rep1_R2.fastq.gz\n",
      "Juvenile_Mixture_Liver_Rep2_R2.fastq.gz\n",
      "Adult_Male_Liver_Rep1_R2.fastq.gz\n",
      "Adult_Male_Liver_Rep2_R2.fastq.gz\n",
      "Adult_Female_Liver_Rep1_R2.fastq.gz\n",
      "Adult_Female_Liver_Rep2_R2.fastq.gz\n",
      "Juvenile_Mixture_Muscle_Rep1_R2.fastq.gz\n",
      "Juvenile_Mixture_Muscle_Rep2_R2.fastq.gz\n",
      "Adult_Male_Muscle_Rep1_R2.fastq.gz\n",
      "Adult_Male_Muscle_Rep2_R2.fastq.gz\n",
      "Adult_Female_Muscle_Rep1_R2.fastq.gz\n",
      "Adult_Female_Muscle_Rep2_R2.fastq.gz\n",
      "Juvenile_Mixture_Intestine_Rep1_R2.fastq.gz\n",
      "Juvenile_Mixture_Intestine_Rep2_R2.fastq.gz\n",
      "Adult_Male_Intestine_Rep1_R2.fastq.gz\n",
      "Adult_Male_Intestine_Rep2_R2.fastq.gz\n",
      "Adult_Female_Intestine_Rep1_R2.fastq.gz\n",
      "Adult_Female_Intestine_Rep2_R2.fastq.gz\n",
      "Adult_Male_Pituitary_Rep1_R2.fastq.gz\n",
      "Adult_Male_Pituitary_Rep2_R2.fastq.gz\n",
      "Adult_Female_Pituitary_Rep1_R2.fastq.gz\n",
      "Adult_Female_Pituitary_Rep2_R2.fastq.gz\n",
      "Adult_Male_Spleen_Rep1_R2.fastq.gz\n",
      "Adult_Male_Spleen_Rep2_R2.fastq.gz\n",
      "Adult_Female_Spleen_Rep1_R2.fastq.gz\n",
      "Adult_Female_Spleen_Rep2_R2.fastq.gz\n",
      "Adult_Male_Stomach_Rep1_R2.fastq.gz\n",
      "Adult_Male_Stomach_Rep2_R2.fastq.gz\n",
      "Adult_Female_Stomach_Rep1_R2.fastq.gz\n",
      "Adult_Female_Stomach_Rep2_R2.fastq.gz\n"
     ]
    }
   ],
   "source": [
    "r = \"R2\"\n",
    "for sample, tissue, rep, stage, sex in dat.values:    \n",
    "    filename = \"%s_%s_%s_Rep%d_%s.fastq.gz\" % (stage, sex, tissue, rep, r)\n",
    "    print(filename)"
   ]
  },
  {
   "cell_type": "code",
   "execution_count": null,
   "metadata": {},
   "outputs": [],
   "source": []
  }
 ],
 "metadata": {
  "kernelspec": {
   "display_name": "Python 3",
   "language": "python",
   "name": "python3"
  },
  "language_info": {
   "codemirror_mode": {
    "name": "ipython",
    "version": 3
   },
   "file_extension": ".py",
   "mimetype": "text/x-python",
   "name": "python",
   "nbconvert_exporter": "python",
   "pygments_lexer": "ipython3",
   "version": "3.6.13"
  }
 },
 "nbformat": 4,
 "nbformat_minor": 4
}
