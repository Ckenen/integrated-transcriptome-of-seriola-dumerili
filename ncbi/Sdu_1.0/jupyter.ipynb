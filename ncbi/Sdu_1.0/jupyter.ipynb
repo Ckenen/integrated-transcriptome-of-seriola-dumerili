{
 "cells": [
  {
   "cell_type": "markdown",
   "metadata": {},
   "source": [
    "# Other"
   ]
  },
  {
   "cell_type": "code",
   "execution_count": 21,
   "metadata": {},
   "outputs": [],
   "source": [
    "# human (sox9) chr17:72121019-72126416\n",
    "# SOX9\tSOX9\tBestRefSeq\tprotein_coding\tchr17\t72121019\t72126416\t+\tSRY-box transcription factor 9\t\n",
    "\n",
    "import pysam\n",
    "\n",
    "fasta = pysam.FastaFile(\"/home/chenzonggui/labweb/data/genomes/homo_sapiens/genome.fasta\")\n",
    "seq = fasta.fetch(\"chr17\", 72121019, 72126416)\n",
    "fasta.close()"
   ]
  },
  {
   "cell_type": "code",
   "execution_count": 23,
   "metadata": {},
   "outputs": [],
   "source": [
    "with open(\"human.sox9.fasta\", \"w+\") as fw:\n",
    "    fw.write(\">human-sox9\\n\")\n",
    "    fw.write(\"%s\\n\" % seq)"
   ]
  },
  {
   "cell_type": "code",
   "execution_count": null,
   "metadata": {},
   "outputs": [],
   "source": []
  },
  {
   "cell_type": "code",
   "execution_count": 28,
   "metadata": {
    "collapsed": true
   },
   "outputs": [
    {
     "name": "stdout",
     "output_type": "stream",
     "text": [
      "33\n",
      "22\n",
      "34\n",
      "32\n",
      "30\n",
      "36\n",
      "5\n",
      "4\n",
      "4\n",
      "3\n",
      "3\n",
      "6\n",
      "3\n",
      "4\n",
      "5\n",
      "5\n",
      "3\n",
      "3\n",
      "2\n",
      "5\n",
      "4\n",
      "2\n",
      "2\n",
      "2\n",
      "3\n",
      "6\n",
      "6\n",
      "2\n",
      "7\n",
      "2\n"
     ]
    }
   ],
   "source": [
    "with open(\"map_human_sox9.chain\") as f, open(\"map_human_sox9.bed\", \"w+\") as fw:\n",
    "    lines = None\n",
    "    for line in f:\n",
    "        line = line.strip(\"\\n\")\n",
    "        if line.startswith(\"#\"):\n",
    "            continue\n",
    "        if line.startswith(\"chain\"):\n",
    "            lines = [line]\n",
    "        elif line == \"\":\n",
    "            assert len(lines) > 1\n",
    "            chain, score, tname, tsize, tstrand, tstart, tend, qname, qsize, qstrand, qstart, qend, i = lines[0].split(\" \")\n",
    "            print(len(lines))\n",
    "            tstart = int(tstart)\n",
    "            tend = int(tend)\n",
    "            \n",
    "            chrom = tname\n",
    "            start = tstart\n",
    "            end = tend\n",
    "            name = \"homoloy\"\n",
    "            strand = qstrand\n",
    "            score = int(score)\n",
    "            color = \"0,0,255\"\n",
    "            block_sizes = []\n",
    "            block_offsets = []\n",
    "            offset = 0\n",
    "            for l in lines[1:]:\n",
    "                vs = l.split(\"\\t\")\n",
    "                a = int(vs[0])\n",
    "                block_sizes.append(a)\n",
    "                block_offsets.append(offset)\n",
    "                \n",
    "                offset += a\n",
    "                if len(vs) > 1:\n",
    "                    b = int(vs[1])\n",
    "                    offset += b\n",
    "                # print(len(vs))\n",
    "            s1 = \",\".join(map(str, block_sizes)) + \",\"\n",
    "            s2 = \",\".join(map(str, block_offsets)) + \",\"\n",
    "            s3 = \"\\t\".join(map(str, [chrom, start, end, name, score, strand, start, start, color, len(block_sizes), s1, s2]))\n",
    "            # print(s3)\n",
    "            fw.write(s3 + \"\\n\")\n",
    "            \n",
    "                \n",
    "        else:\n",
    "            lines.append(line)\n",
    "        "
   ]
  },
  {
   "cell_type": "code",
   "execution_count": null,
   "metadata": {},
   "outputs": [],
   "source": []
  },
  {
   "cell_type": "code",
   "execution_count": 3,
   "metadata": {},
   "outputs": [],
   "source": [
    "import numpy as np\n",
    "import pandas as pd\n",
    "import matplotlib.pyplot as plt\n",
    "from matplotlib import rcParams\n",
    "import seaborn\n",
    "rcParams[\"font.family\"] = \"arial\""
   ]
  },
  {
   "cell_type": "code",
   "execution_count": 98,
   "metadata": {},
   "outputs": [],
   "source": [
    "dat = pd.read_csv(\"genome.sizes\", sep=\"\\t\", header=None)\n",
    "dat = dat.sort_values(by=1, ascending=False)\n",
    "\n",
    "xs = [78093715, 37502051]\n",
    "colors = [\"orange\", 'orange']\n",
    "yticks = [\"chr4 (Zebrafish)\", \"chr25 (Zebrafish)\"]\n",
    "\n",
    "for name, length in dat.head(10).values:\n",
    "    # print(name, length)\n",
    "    xs.append(length)\n",
    "    yticks.append(name)\n",
    "    colors.append(\"dodgerblue\")\n",
    "    \n",
    "ys = np.arange(len(xs))[::-1]\n",
    "\n",
    "xs = np.array(xs) / 1e6\n",
    "\n",
    "plt.figure(figsize=(4, 3))\n",
    "plt.barh(ys, xs, height=0.8, lw=1, edgecolor=\"black\", color=colors)\n",
    "plt.xlim(0, 100)\n",
    "plt.xlabel(\"Length of refSeq (Mb)\")\n",
    "plt.ylim(-0.5, 11.5)\n",
    "plt.yticks(ys, yticks)\n",
    "plt.gca().spines[\"top\"].set_visible(False)\n",
    "plt.gca().spines[\"right\"].set_visible(False)\n",
    "\n",
    "plt.tight_layout()\n",
    "# plt.show()\n",
    "plt.savefig(\"refSeq.length.png\", dpi=300)\n",
    "plt.close()"
   ]
  },
  {
   "cell_type": "code",
   "execution_count": 8,
   "metadata": {},
   "outputs": [],
   "source": [
    "from collections import Counter"
   ]
  },
  {
   "cell_type": "code",
   "execution_count": 4,
   "metadata": {},
   "outputs": [],
   "source": [
    "dat = pd.read_csv(\"GCF_002260705.1_Sdu_1.0_genomic.tsv\", sep=\"\\t\")\n",
    "tids1 = set(dat[dat[\"BioType\"] == \"protein_coding\"][\"TranscriptID\"].values)\n",
    "tids2 = set(dat[dat[\"BioType\"] == \"lncRNA\"][\"TranscriptID\"].values)"
   ]
  },
  {
   "cell_type": "code",
   "execution_count": 12,
   "metadata": {},
   "outputs": [],
   "source": [
    "from pyBioInfo.IO.File import BedFile"
   ]
  },
  {
   "cell_type": "code",
   "execution_count": 40,
   "metadata": {},
   "outputs": [
    {
     "name": "stdout",
     "output_type": "stream",
     "text": [
      "33024 26818 745 710\n"
     ]
    }
   ],
   "source": [
    "path1 = \"cpat.protein_coding.cds.bed\"\n",
    "path2 = \"cpat.lncRNA.bed\"\n",
    "\n",
    "fw1 = open(path1, \"w+\")\n",
    "fw2 = open(path2, \"w+\")\n",
    "recorder1 = set()\n",
    "recorder2 = set()\n",
    "a, b, c, d = 0, 0, 0, 0\n",
    "with BedFile(\"GCF_002260705.1_Sdu_1.0_genomic.sorted.bed\") as bed:\n",
    "    for obj in bed:\n",
    "        key = (obj.chrom, obj.start, obj.end, obj.strand)\n",
    "        if obj.name in tids1:\n",
    "            a += 1\n",
    "            if obj.thick:\n",
    "                if key in recorder1:\n",
    "                    continue\n",
    "                b += 1\n",
    "                x = obj.clip(obj.thick[0], obj.thick[1])\n",
    "                fw1.write(x.format(\"BED\") + \"\\n\")\n",
    "                recorder1.add(key)\n",
    "        if obj.name in tids2:\n",
    "            c += 1\n",
    "            if key in recorder2:\n",
    "                continue\n",
    "            d += 1\n",
    "            fw2.write(obj.format(\"BED\") + \"\\n\")\n",
    "            recorder2.add(key)\n",
    "fw1.close()\n",
    "fw2.close()\n",
    "print(a, b, c, d)"
   ]
  },
  {
   "cell_type": "code",
   "execution_count": null,
   "metadata": {},
   "outputs": [],
   "source": []
  }
 ],
 "metadata": {
  "kernelspec": {
   "display_name": "Python 3",
   "language": "python",
   "name": "python3"
  },
  "language_info": {
   "codemirror_mode": {
    "name": "ipython",
    "version": 3
   },
   "file_extension": ".py",
   "mimetype": "text/x-python",
   "name": "python",
   "nbconvert_exporter": "python",
   "pygments_lexer": "ipython3",
   "version": "3.6.10"
  }
 },
 "nbformat": 4,
 "nbformat_minor": 4
}
