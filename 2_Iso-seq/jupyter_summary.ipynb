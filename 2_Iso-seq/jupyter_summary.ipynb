{
 "cells": [
  {
   "cell_type": "code",
   "execution_count": 1,
   "metadata": {
    "ExecuteTime": {
     "end_time": "2022-03-16T06:15:15.532027Z",
     "start_time": "2022-03-16T06:15:14.860225Z"
    }
   },
   "outputs": [],
   "source": [
    "import os\n",
    "import json\n",
    "import gzip\n",
    "from pyBioInfo.IO.File import BedFile, GtfFile, GtfGeneBuilder, GtfTranscriptBuilder\n",
    "from pyBioInfo.Utils import ShiftLoader\n",
    "import numpy as np\n",
    "import pandas as pd\n",
    "import pysam\n",
    "from collections import defaultdict, Counter\n",
    "import matplotlib.pyplot as plt\n",
    "import matplotlib.colors as colors\n",
    "from matplotlib import rcParams\n",
    "samples = [\"Ad_Fe\", \"Ad_Ma\", \"Ju_Mi\"]"
   ]
  },
  {
   "cell_type": "markdown",
   "metadata": {},
   "source": [
    "# Subreads"
   ]
  },
  {
   "cell_type": "code",
   "execution_count": 39,
   "metadata": {
    "ExecuteTime": {
     "end_time": "2022-03-16T06:47:07.445586Z",
     "start_time": "2022-03-16T06:46:27.627303Z"
    }
   },
   "outputs": [
    {
     "name": "stdout",
     "output_type": "stream",
     "text": [
      "15.344987979567348\t28.133017426153327\t9.0\n"
     ]
    }
   ],
   "source": [
    "# Ad_Fe\n",
    "counter = defaultdict(int)\n",
    "with open(\"data/rawdata/F20FTSCCKF1558_CIYgikE/GTS-E-14-1A/GTS-E-14-1A_subreads_dis.xls\") as f:\n",
    "    for line in f:\n",
    "        counter[line.split(\"/\")[1]] += 1\n",
    "vs = list(counter.values())\n",
    "print(np.mean(vs), np.std(vs), np.median(vs), sep=\"\\t\")"
   ]
  },
  {
   "cell_type": "code",
   "execution_count": 40,
   "metadata": {
    "ExecuteTime": {
     "end_time": "2022-03-16T06:47:53.900683Z",
     "start_time": "2022-03-16T06:47:15.111707Z"
    }
   },
   "outputs": [
    {
     "name": "stdout",
     "output_type": "stream",
     "text": [
      "15.752177268978274\t25.761194842360247\t9.0\n"
     ]
    }
   ],
   "source": [
    "# Ad_Ma\n",
    "counter = defaultdict(int)\n",
    "with open(\"data/rawdata/F20FTSCCKF0616_SERmjgE_SERsukE/WHPBCDNAPEP00000149/WHPBCDNAPEP00000149_subreads_dis.xls\") as f:\n",
    "    for line in f:\n",
    "        counter[line.split(\"/\")[1]] += 1\n",
    "vs = list(counter.values())\n",
    "print(np.mean(vs), np.std(vs), np.median(vs), sep=\"\\t\")"
   ]
  },
  {
   "cell_type": "code",
   "execution_count": 41,
   "metadata": {
    "ExecuteTime": {
     "end_time": "2022-03-16T06:48:37.499081Z",
     "start_time": "2022-03-16T06:47:53.902280Z"
    }
   },
   "outputs": [
    {
     "name": "stdout",
     "output_type": "stream",
     "text": [
      "14.697232628597908\t24.101903104782103\t7.0\n"
     ]
    }
   ],
   "source": [
    "# Ju_Mi\n",
    "counter = defaultdict(int)\n",
    "with open(\"data/rawdata/F20FTSCCKF0616_SERdweE_SERvxlE/WHPBCDNAPEP00000150/WHPBCDNAPEP00000150_subreads_dis.xls\") as f:\n",
    "    for line in f:\n",
    "        counter[line.split(\"/\")[1]] += 1\n",
    "vs = list(counter.values())\n",
    "print(np.mean(vs), np.std(vs), np.median(vs), sep=\"\\t\")"
   ]
  },
  {
   "cell_type": "markdown",
   "metadata": {},
   "source": [
    "# CCS lengths"
   ]
  },
  {
   "cell_type": "code",
   "execution_count": 20,
   "metadata": {
    "ExecuteTime": {
     "end_time": "2022-03-16T06:30:26.771314Z",
     "start_time": "2022-03-16T06:25:57.466221Z"
    }
   },
   "outputs": [
    {
     "name": "stdout",
     "output_type": "stream",
     "text": [
      "Ju_Mi\t4829.946254855643\t1739.370156067987\t5358.0\t5541\t200\t25638\n",
      "Ad_Fe\t5700.600120896488\t1409.1814635401736\t5887.0\t6031\t200\t27347\n",
      "Ad_Ma\t5115.969669346235\t1380.4876747471856\t5305.0\t5369\t200\t28779\n"
     ]
    }
   ],
   "source": [
    "for name in [\"Ju_Mi\", \"Ad_Fe\", \"Ad_Ma\"]:\n",
    "    path = \"results/isoseq/ccs/%s.bam\" % name\n",
    "    lengths = []\n",
    "    with pysam.AlignmentFile(path, check_sq=False) as f:\n",
    "        for segment in f:\n",
    "            lengths.append(segment.query_length)\n",
    "    vs = list(sorted(lengths, reverse=True))\n",
    "    total = sum(vs)\n",
    "    half = total / 2\n",
    "    tmp = 0\n",
    "    n50 = 0\n",
    "    for v in vs:\n",
    "        tmp += v\n",
    "        if tmp >= half:\n",
    "            n50 = v\n",
    "            break\n",
    "            \n",
    "    print(name, np.mean(vs), np.std(vs), np.median(vs), n50, vs[-1], vs[0], sep=\"\\t\")"
   ]
  },
  {
   "cell_type": "markdown",
   "metadata": {},
   "source": [
    "# High-quality transcripts"
   ]
  },
  {
   "cell_type": "code",
   "execution_count": 28,
   "metadata": {
    "ExecuteTime": {
     "end_time": "2022-03-16T06:35:20.119663Z",
     "start_time": "2022-03-16T06:35:00.620213Z"
    }
   },
   "outputs": [
    {
     "name": "stdout",
     "output_type": "stream",
     "text": [
      "Ju_Mi\t163218\t4896.718002916345\t1550.7981043173784\t5310.0\t5441\t59\t10176\n",
      "Ad_Fe\t189169\t5670.282181541373\t1396.4887086735723\t5798.0\t5939\t52\t12381\n",
      "Ad_Ma\t149716\t4903.359680996019\t1175.5636824919668\t5210.0\t5255\t59\t11121\n"
     ]
    }
   ],
   "source": [
    "from Bio import SeqIO\n",
    "\n",
    "for name in [\"Ju_Mi\", \"Ad_Fe\", \"Ad_Ma\"]:\n",
    "    path = \"results/isoseq/polished/%s.hq.fasta.gz\" % name\n",
    "    lengths = []\n",
    "    with gzip.open(path, \"rt\") as f:\n",
    "        for record in SeqIO.parse(f, \"fasta\"):\n",
    "            lengths.append(len(record))\n",
    "    vs = list(sorted(lengths, reverse=True))\n",
    "    total = sum(vs)\n",
    "    half = total / 2\n",
    "    tmp = 0\n",
    "    n50 = 0\n",
    "    for v in vs:\n",
    "        tmp += v\n",
    "        if tmp >= half:\n",
    "            n50 = v\n",
    "            break\n",
    "    print(name, len(lengths), np.mean(vs), np.std(vs), np.median(vs), n50, vs[-1], vs[0], sep=\"\\t\")"
   ]
  },
  {
   "cell_type": "code",
   "execution_count": null,
   "metadata": {},
   "outputs": [],
   "source": []
  },
  {
   "cell_type": "code",
   "execution_count": 40,
   "metadata": {
    "ExecuteTime": {
     "end_time": "2021-12-27T12:27:26.666111Z",
     "start_time": "2021-12-27T12:27:26.560959Z"
    }
   },
   "outputs": [],
   "source": [
    "array = []\n",
    "for sample in samples:\n",
    "    s = pd.Series(dtype=np.object)\n",
    "    s.name = sample\n",
    "    with open(\"results/isoseq/ccs/%s.ccs_report.txt\" % sample) as f:\n",
    "        for line in f:\n",
    "            line = line.strip(\"\\n\")\n",
    "            if line == \"\" or \":\" not in line:\n",
    "                continue\n",
    "            row = line.split(\":\")\n",
    "            if len(row) != 2:\n",
    "                continue\n",
    "            k = row[0].strip()\n",
    "            v = row[1].strip()\n",
    "            if v == \"\":\n",
    "                continue\n",
    "            s[k] = v\n",
    "            # print(k, v, sep=\"\\t\")\n",
    "    with open(\"results/isoseq/demux/%s.lima.summary\" % sample) as f:\n",
    "        for line in f:\n",
    "            line = line.strip(\"\\n\")\n",
    "            if \":\" not in line:\n",
    "                continue\n",
    "            row = line.split(\":\")\n",
    "            if len(row) != 2:\n",
    "                continue\n",
    "            k, v = row[0].strip(), row[1].strip()\n",
    "            if v == \"\":\n",
    "                continue\n",
    "            s[k] = v\n",
    "    with open(\"results/isoseq/flnc/%s.filter_summary.json\" % sample) as f:\n",
    "        d = json.loads(f.read())\n",
    "        for k, v in d.items():\n",
    "            s[k] = v\n",
    "    array.append(s)\n",
    "    # break"
   ]
  },
  {
   "cell_type": "code",
   "execution_count": 41,
   "metadata": {
    "ExecuteTime": {
     "end_time": "2021-12-27T12:27:27.122125Z",
     "start_time": "2021-12-27T12:27:27.088739Z"
    }
   },
   "outputs": [
    {
     "data": {
      "text/html": [
       "<div>\n",
       "<style scoped>\n",
       "    .dataframe tbody tr th:only-of-type {\n",
       "        vertical-align: middle;\n",
       "    }\n",
       "\n",
       "    .dataframe tbody tr th {\n",
       "        vertical-align: top;\n",
       "    }\n",
       "\n",
       "    .dataframe thead th {\n",
       "        text-align: right;\n",
       "    }\n",
       "</style>\n",
       "<table border=\"1\" class=\"dataframe\">\n",
       "  <thead>\n",
       "    <tr style=\"text-align: right;\">\n",
       "      <th></th>\n",
       "      <th>ZMWs input</th>\n",
       "      <th>ZMWs pass filters</th>\n",
       "      <th>ZMWs fail filters</th>\n",
       "      <th>ZMWs shortcut filters</th>\n",
       "      <th>ZMWs with tandem repeats</th>\n",
       "      <th>Below SNR threshold</th>\n",
       "      <th>Median length filter</th>\n",
       "      <th>Lacking full passes</th>\n",
       "      <th>Heteroduplex insertions</th>\n",
       "      <th>Coverage drops</th>\n",
       "      <th>...</th>\n",
       "      <th>Undesired no hit</th>\n",
       "      <th>With different pair</th>\n",
       "      <th>Coefficient of correlation</th>\n",
       "      <th>Allow diff pair</th>\n",
       "      <th>Allow same pair</th>\n",
       "      <th>Above length</th>\n",
       "      <th>Below length</th>\n",
       "      <th>num_reads_fl</th>\n",
       "      <th>num_reads_flnc</th>\n",
       "      <th>num_reads_flnc_polya</th>\n",
       "    </tr>\n",
       "  </thead>\n",
       "  <tbody>\n",
       "    <tr>\n",
       "      <th>Ad_Fe</th>\n",
       "      <td>5760192</td>\n",
       "      <td>3364862 (58.42%)</td>\n",
       "      <td>2395330 (41.58%)</td>\n",
       "      <td>0 (0.00%)</td>\n",
       "      <td>4351 (0.08%)</td>\n",
       "      <td>107556 (4.49%)</td>\n",
       "      <td>0 (0.00%)</td>\n",
       "      <td>2233973 (93.26%)</td>\n",
       "      <td>7107 (0.30%)</td>\n",
       "      <td>1140 (0.05%)</td>\n",
       "      <td>...</td>\n",
       "      <td>26 (0%)</td>\n",
       "      <td>2424815 (100%)</td>\n",
       "      <td>0%</td>\n",
       "      <td>3364836 (100%)</td>\n",
       "      <td>3364836 (100%)</td>\n",
       "      <td>2424815 (100%)</td>\n",
       "      <td>0 (0%)</td>\n",
       "      <td>2424815</td>\n",
       "      <td>2388600</td>\n",
       "      <td>2381123</td>\n",
       "    </tr>\n",
       "    <tr>\n",
       "      <th>Ad_Ma</th>\n",
       "      <td>5215938</td>\n",
       "      <td>2967394 (56.89%)</td>\n",
       "      <td>2248544 (43.11%)</td>\n",
       "      <td>0 (0.00%)</td>\n",
       "      <td>5996 (0.11%)</td>\n",
       "      <td>184132 (8.19%)</td>\n",
       "      <td>0 (0.00%)</td>\n",
       "      <td>2020953 (89.88%)</td>\n",
       "      <td>6726 (0.30%)</td>\n",
       "      <td>963 (0.04%)</td>\n",
       "      <td>...</td>\n",
       "      <td>13 (0%)</td>\n",
       "      <td>2073557 (100%)</td>\n",
       "      <td>0%</td>\n",
       "      <td>2967381 (100%)</td>\n",
       "      <td>2967381 (100%)</td>\n",
       "      <td>2073557 (100%)</td>\n",
       "      <td>0 (0%)</td>\n",
       "      <td>2073557</td>\n",
       "      <td>1895658</td>\n",
       "      <td>1887924</td>\n",
       "    </tr>\n",
       "    <tr>\n",
       "      <th>Ju_Mi</th>\n",
       "      <td>6433289</td>\n",
       "      <td>3452684 (53.67%)</td>\n",
       "      <td>2980605 (46.33%)</td>\n",
       "      <td>0 (0.00%)</td>\n",
       "      <td>4267 (0.07%)</td>\n",
       "      <td>191504 (6.43%)</td>\n",
       "      <td>0 (0.00%)</td>\n",
       "      <td>2712150 (90.99%)</td>\n",
       "      <td>10232 (0.34%)</td>\n",
       "      <td>1524 (0.05%)</td>\n",
       "      <td>...</td>\n",
       "      <td>29 (0%)</td>\n",
       "      <td>2464758 (100%)</td>\n",
       "      <td>0%</td>\n",
       "      <td>3452655 (100%)</td>\n",
       "      <td>3452655 (100%)</td>\n",
       "      <td>2464758 (100%)</td>\n",
       "      <td>0 (0%)</td>\n",
       "      <td>2464758</td>\n",
       "      <td>2348576</td>\n",
       "      <td>2339901</td>\n",
       "    </tr>\n",
       "  </tbody>\n",
       "</table>\n",
       "<p>3 rows × 42 columns</p>\n",
       "</div>"
      ],
      "text/plain": [
       "      ZMWs input ZMWs pass filters ZMWs fail filters ZMWs shortcut filters  \\\n",
       "Ad_Fe    5760192  3364862 (58.42%)  2395330 (41.58%)             0 (0.00%)   \n",
       "Ad_Ma    5215938  2967394 (56.89%)  2248544 (43.11%)             0 (0.00%)   \n",
       "Ju_Mi    6433289  3452684 (53.67%)  2980605 (46.33%)             0 (0.00%)   \n",
       "\n",
       "      ZMWs with tandem repeats Below SNR threshold Median length filter  \\\n",
       "Ad_Fe             4351 (0.08%)      107556 (4.49%)            0 (0.00%)   \n",
       "Ad_Ma             5996 (0.11%)      184132 (8.19%)            0 (0.00%)   \n",
       "Ju_Mi             4267 (0.07%)      191504 (6.43%)            0 (0.00%)   \n",
       "\n",
       "      Lacking full passes Heteroduplex insertions Coverage drops  ...  \\\n",
       "Ad_Fe    2233973 (93.26%)            7107 (0.30%)   1140 (0.05%)  ...   \n",
       "Ad_Ma    2020953 (89.88%)            6726 (0.30%)    963 (0.04%)  ...   \n",
       "Ju_Mi    2712150 (90.99%)           10232 (0.34%)   1524 (0.05%)  ...   \n",
       "\n",
       "      Undesired no hit With different pair Coefficient of correlation  \\\n",
       "Ad_Fe          26 (0%)      2424815 (100%)                         0%   \n",
       "Ad_Ma          13 (0%)      2073557 (100%)                         0%   \n",
       "Ju_Mi          29 (0%)      2464758 (100%)                         0%   \n",
       "\n",
       "      Allow diff pair Allow same pair    Above length Below length  \\\n",
       "Ad_Fe  3364836 (100%)  3364836 (100%)  2424815 (100%)       0 (0%)   \n",
       "Ad_Ma  2967381 (100%)  2967381 (100%)  2073557 (100%)       0 (0%)   \n",
       "Ju_Mi  3452655 (100%)  3452655 (100%)  2464758 (100%)       0 (0%)   \n",
       "\n",
       "      num_reads_fl num_reads_flnc num_reads_flnc_polya  \n",
       "Ad_Fe      2424815        2388600              2381123  \n",
       "Ad_Ma      2073557        1895658              1887924  \n",
       "Ju_Mi      2464758        2348576              2339901  \n",
       "\n",
       "[3 rows x 42 columns]"
      ]
     },
     "execution_count": 41,
     "metadata": {},
     "output_type": "execute_result"
    }
   ],
   "source": [
    "dat = pd.DataFrame(array)\n",
    "dat"
   ]
  },
  {
   "cell_type": "code",
   "execution_count": null,
   "metadata": {},
   "outputs": [],
   "source": []
  },
  {
   "cell_type": "markdown",
   "metadata": {},
   "source": [
    "# 2021-03-24 Summary"
   ]
  },
  {
   "cell_type": "code",
   "execution_count": 358,
   "metadata": {
    "code_folding": [
     0,
     7,
     14,
     16,
     21,
     28
    ]
   },
   "outputs": [
    {
     "data": {
      "text/html": [
       "<div>\n",
       "<style scoped>\n",
       "    .dataframe tbody tr th:only-of-type {\n",
       "        vertical-align: middle;\n",
       "    }\n",
       "\n",
       "    .dataframe tbody tr th {\n",
       "        vertical-align: top;\n",
       "    }\n",
       "\n",
       "    .dataframe thead th {\n",
       "        text-align: right;\n",
       "    }\n",
       "</style>\n",
       "<table border=\"1\" class=\"dataframe\">\n",
       "  <thead>\n",
       "    <tr style=\"text-align: right;\">\n",
       "      <th></th>\n",
       "      <th>RawRead</th>\n",
       "      <th>CCS</th>\n",
       "      <th>Lima</th>\n",
       "      <th>FLNC</th>\n",
       "      <th>FLNC_polyA</th>\n",
       "      <th>Cluster</th>\n",
       "      <th>Aligned</th>\n",
       "    </tr>\n",
       "    <tr>\n",
       "      <th>Sample</th>\n",
       "      <th></th>\n",
       "      <th></th>\n",
       "      <th></th>\n",
       "      <th></th>\n",
       "      <th></th>\n",
       "      <th></th>\n",
       "      <th></th>\n",
       "    </tr>\n",
       "  </thead>\n",
       "  <tbody>\n",
       "    <tr>\n",
       "      <th>Adult_Female</th>\n",
       "      <td>5759266</td>\n",
       "      <td>3971860</td>\n",
       "      <td>2767549</td>\n",
       "      <td>2725947</td>\n",
       "      <td>2706469</td>\n",
       "      <td>213849</td>\n",
       "      <td>219085</td>\n",
       "    </tr>\n",
       "    <tr>\n",
       "      <th>Adult_Male</th>\n",
       "      <td>5215426</td>\n",
       "      <td>3509670</td>\n",
       "      <td>2364704</td>\n",
       "      <td>2160279</td>\n",
       "      <td>2142476</td>\n",
       "      <td>170298</td>\n",
       "      <td>173656</td>\n",
       "    </tr>\n",
       "    <tr>\n",
       "      <th>Juvenile</th>\n",
       "      <td>6432352</td>\n",
       "      <td>4133860</td>\n",
       "      <td>2821785</td>\n",
       "      <td>2691254</td>\n",
       "      <td>2666770</td>\n",
       "      <td>188165</td>\n",
       "      <td>190721</td>\n",
       "    </tr>\n",
       "  </tbody>\n",
       "</table>\n",
       "</div>"
      ],
      "text/plain": [
       "              RawRead      CCS     Lima     FLNC  FLNC_polyA  Cluster  Aligned\n",
       "Sample                                                                        \n",
       "Adult_Female  5759266  3971860  2767549  2725947     2706469   213849   219085\n",
       "Adult_Male    5215426  3509670  2364704  2160279     2142476   170298   173656\n",
       "Juvenile      6432352  4133860  2821785  2691254     2666770   188165   190721"
      ]
     },
     "execution_count": 358,
     "metadata": {},
     "output_type": "execute_result"
    }
   ],
   "source": [
    "def get_raw_read(sample):\n",
    "    path = \"results/isoseq/ccs/%s.ccs_report.txt\" % sample\n",
    "    with open(path) as f:\n",
    "        for line in f:\n",
    "            if \"ZMWs input\" in line:\n",
    "                return int(line.strip(\"\\n\").split()[-1])\n",
    "            \n",
    "def get_ccs_read(sample):\n",
    "    path = \"results/isoseq/ccs/%s.ccs_report.txt\" % sample\n",
    "    with open(path) as f:\n",
    "        for line in f:\n",
    "            if \"ZMWs pass filters\" in line:\n",
    "                return int(line.strip(\"\\n\").split()[-2])\n",
    "\n",
    "def get_lima_read(sample):\n",
    "    path = \"results/isoseq/demux/%s.lima.summary\" % sample\n",
    "    with open(path) as f:\n",
    "        for line in f:\n",
    "            if \"ZMWs above all thresholds\" in line:\n",
    "                return int(line.strip(\"\\n\").split()[-2])\n",
    "    \n",
    "def get_flnc_read(sample):\n",
    "    path = \"results/isoseq/flnc/%s.filter_summary.json\" % sample\n",
    "    with open(path) as f:\n",
    "        for line in f:\n",
    "            js = json.loads(line)\n",
    "            return js[\"num_reads_flnc\"]\n",
    "        \n",
    "def get_flnc_polya_read(sample):\n",
    "    path = \"results/isoseq/flnc/%s.filter_summary.json\" % sample\n",
    "    with open(path) as f:\n",
    "        for line in f:\n",
    "            js = json.loads(line)\n",
    "            return js[\"num_reads_flnc_polya\"]\n",
    "        \n",
    "def get_cluster(sample):\n",
    "    path = \"results/isoseq/clustered/%s.cluster_report.csv\" % sample\n",
    "    # return 0\n",
    "    array = []\n",
    "    with open(path) as f:\n",
    "        for i, line in enumerate(f):\n",
    "            if i == 0:\n",
    "                continue\n",
    "            array.append(line.strip(\"\\n\").split(\",\")[0])\n",
    "    return len(set(array))\n",
    "\n",
    "def get_aligned(sample):\n",
    "    path = \"results/isoseq/aligned/%s.stats\" % sample\n",
    "    with open(path) as f:\n",
    "        for line in f:\n",
    "            if \"Total reads:\" in line:\n",
    "                return int(line.strip(\"\\n\").split()[-1])\n",
    "    \n",
    "dat = pd.DataFrame(index=pd.Index(samples, name=\"Sample\"))\n",
    "dat[\"RawRead\"] = list(map(get_raw_read, samples))\n",
    "dat[\"CCS\"] = list(map(get_ccs_read, samples))\n",
    "dat[\"Lima\"] = list(map(get_lima_read, samples))\n",
    "dat[\"FLNC\"] = list(map(get_flnc_read, samples))\n",
    "dat[\"FLNC_polyA\"] = list(map(get_flnc_polya_read, samples))\n",
    "dat[\"Cluster\"] = list(map(get_cluster, samples))\n",
    "dat[\"Aligned\"] = list(map(get_aligned, samples))\n",
    "dat"
   ]
  },
  {
   "cell_type": "code",
   "execution_count": 359,
   "metadata": {},
   "outputs": [],
   "source": [
    "dat.to_csv(\"summary.tsv\", sep=\"\\t\")"
   ]
  },
  {
   "cell_type": "markdown",
   "metadata": {},
   "source": [
    "# 2021-03-24 Cluster profile"
   ]
  },
  {
   "cell_type": "code",
   "execution_count": 354,
   "metadata": {},
   "outputs": [],
   "source": [
    "for sample in samples:\n",
    "    counter = defaultdict(int)\n",
    "    with open(\"results/isoseq/clustered/%s.cluster_report.csv\" % sample) as f:\n",
    "        for i, line in enumerate(f):\n",
    "            if i == 0:\n",
    "                continue\n",
    "            name = line.strip(\"\\n\").split(\",\")[0]\n",
    "            counter[name] += 1\n",
    "    counter = Counter(counter.values())\n",
    "    \n",
    "    xs = np.arange(0, 20)\n",
    "    ys = [counter[x] for x in xs]\n",
    "    ys = np.array(ys) / 1000\n",
    "    \n",
    "    plt.figure(figsize=(3, 3))\n",
    "    plt.bar(xs, ys, width=0.8, color=\"dodgerblue\")\n",
    "    plt.xlim(0, 20)\n",
    "    plt.xlabel(\"FLNC per cluster\")\n",
    "    plt.ylim(0, 120)\n",
    "    plt.ylabel(\"Number (x10$^3$)\")\n",
    "    plt.gca().spines[\"top\"].set_visible(False)\n",
    "    plt.gca().spines[\"right\"].set_visible(False)\n",
    "    plt.tight_layout()\n",
    "    # plt.show()\n",
    "    plt.savefig(\"figures/cluster.profile.%s.png\" % sample, dpi=300)\n",
    "    plt.close()"
   ]
  },
  {
   "cell_type": "markdown",
   "metadata": {},
   "source": [
    "# 2021-03-24 Plot length distribution"
   ]
  },
  {
   "cell_type": "code",
   "execution_count": 4,
   "metadata": {
    "code_folding": [
     0
    ]
   },
   "outputs": [],
   "source": [
    "def run(path1, path2, prefix):\n",
    "    polymerase_lengths = dict()\n",
    "    with open(path1) as f:\n",
    "        for i, line in enumerate(f):\n",
    "            if i == 0:\n",
    "                continue\n",
    "            name, length = line.strip(\"\\n\").split(\"\\t\")\n",
    "            polymerase_lengths[name] = int(length)\n",
    "\n",
    "    rows = []\n",
    "    with open(path2) as f:\n",
    "        for line in f:\n",
    "            v1, v2, v3 = line.strip(\"\\n\").split(\"\\t\")\n",
    "            v2 = int(v2)\n",
    "            rows.append([v1, v2])\n",
    "\n",
    "    container = defaultdict(list)\n",
    "    for v1, v2 in rows:\n",
    "        name = v1.split(\"/\")[1]\n",
    "        container[name].append(v2)\n",
    "\n",
    "    matrix = []\n",
    "    for zmw, values in container.items():\n",
    "        pl = polymerase_lengths[zmw]\n",
    "        sl = np.median(values)\n",
    "        n = len(values)\n",
    "        matrix.append([pl, sl, n])\n",
    "\n",
    "    temp = matrix\n",
    "    vs1 = np.log10([vs[0] for vs in temp]) # polymerase\n",
    "    vs2 = np.log10([vs[1] for vs in temp]) # subreads\n",
    "    vs3 = np.log2([vs[2]for vs in temp])   # subread count\n",
    "    \n",
    "    m = np.zeros((600, 600))\n",
    "    for x, y in zip(vs1, vs2):\n",
    "        i = int(x * 100)\n",
    "        j = int(y * 100)\n",
    "        if i < 600 and j < 600:\n",
    "            m[i][j] += 1\n",
    "    plt.figure(figsize=(3, 3))\n",
    "    plt.hist2d(vs1, vs2, bins=(600, 600), cmap=\"Reds\", norm=colors.LogNorm(1, m.max()))\n",
    "    plt.xlim(0, 6)\n",
    "    plt.xlabel(\"Polymerase length\")\n",
    "    xs = [0, 1, 2, 3, 4, 5, 6]\n",
    "    plt.xticks(xs, [\"10$^{%d}$\" % x for x in xs])\n",
    "    plt.ylim(0, 6)\n",
    "    ys = [0, 1, 2, 3, 4, 5, 6]\n",
    "    plt.yticks(ys, [\"10$^{%d}$\" % y for y in ys])\n",
    "    plt.ylabel(\"Subread length\")\n",
    "    plt.tight_layout()\n",
    "    # plt.show()\n",
    "    plt.savefig(prefix + \".1.png\", dpi=300)\n",
    "    plt.close()\n",
    "    \n",
    "    m = np.zeros((600, 1000))\n",
    "    for x, y in zip(vs1, vs3):\n",
    "        i = int(x * 100)\n",
    "        j = int(y * 100)\n",
    "        if i < 600 and j < 1000:\n",
    "            m[i][j] += 1\n",
    "    plt.figure(figsize=(3, 3))\n",
    "    plt.hist2d(vs1, vs3, bins=(600, 1000), cmap=\"Reds\", norm=colors.LogNorm(1, m.max()))\n",
    "    plt.xlim(0, 6)\n",
    "    plt.xlabel(\"Polymerase length\")\n",
    "    xs = [0, 1, 2, 3, 4, 5, 6]\n",
    "    plt.xticks(xs, [\"10$^{%d}$\" % x for x in xs])\n",
    "    plt.ylim(-1, 10)\n",
    "    ys = np.arange(0, 11, 2)\n",
    "    plt.yticks(ys, [2 ** y for y in ys])\n",
    "    plt.ylabel(\"Subread count\")\n",
    "    # plt.yticks([0, 2, 4, 6])\n",
    "    plt.tight_layout()\n",
    "    # plt.show()\n",
    "    plt.savefig(prefix + \".2.png\", dpi=300)\n",
    "    plt.close()\n",
    "    \n",
    "    m = np.zeros((600, 1000))\n",
    "    for x, y in zip(vs2, vs3):\n",
    "        i = int(x * 100)\n",
    "        j = int(y * 100)\n",
    "        if i < 600 and j < 1000:\n",
    "            m[i][j] += 1\n",
    "    plt.figure(figsize=(3, 3))\n",
    "    plt.hist2d(vs2, vs3, bins=(600, 1000), cmap=\"Reds\", norm=colors.LogNorm(1, m.max()))\n",
    "    plt.xlim(0, 6)\n",
    "    plt.xlabel(\"Subread length\")\n",
    "    xs = [0, 1, 2, 3, 4, 5, 6]\n",
    "    plt.xticks(xs, [\"10$^{%d}$\" % x for x in xs])\n",
    "    plt.ylim(-1, 10)\n",
    "    ys = np.arange(0, 11, 2)\n",
    "    plt.yticks(ys, [2 ** y for y in ys])\n",
    "    plt.ylabel(\"Subread count (median)\")\n",
    "    # plt.yticks([0, 2, 4, 6])\n",
    "    plt.tight_layout()\n",
    "    # plt.show()\n",
    "    plt.savefig(prefix + \".3.png\", dpi=300)\n",
    "    plt.close()\n",
    "\n",
    "    xs = np.arange(100)\n",
    "    ys = np.zeros(100)\n",
    "    for row in matrix:\n",
    "        i = int(row[0] / 1000)\n",
    "        if i < 100:\n",
    "            ys[i] += 1\n",
    "    m1 = np.mean([vs[0] for vs in matrix])\n",
    "    m2 = np.median([vs[0] for vs in matrix])\n",
    "    ys = ys / 1000\n",
    "    plt.figure(figsize=(3, 3))\n",
    "    plt.bar(xs + 0.5, ys, width=1, color=\"dodgerblue\")\n",
    "    plt.text(20, 180, \"width = 1000bp\")\n",
    "    plt.text(20, 160, \"mean = %.2fkb\" % (m1 / 1000))\n",
    "    plt.text(20, 140, \"median = %.2fkb\" % (m2 / 1000))\n",
    "    plt.xlim(0, 100)\n",
    "    vs = [0, 20, 40, 60, 80, 100]\n",
    "    plt.xticks(vs)\n",
    "    plt.xlabel(\"Polymerase length (kb)\")\n",
    "    plt.ylim(0, 200)\n",
    "    plt.yticks([0, 50, 100, 150, 200])\n",
    "    plt.ylabel(\"Number (x10$^3$)\")\n",
    "    plt.gca().spines[\"top\"].set_visible(False)\n",
    "    plt.gca().spines[\"right\"].set_visible(False)\n",
    "    plt.tight_layout()\n",
    "    # plt.show()\n",
    "    plt.savefig(prefix + \".4.png\", dpi=300)\n",
    "    plt.close()\n",
    "\n",
    "    xs = np.arange(100)\n",
    "    ys = np.zeros(100)\n",
    "    for row in matrix:\n",
    "        i = int(row[1] / 100)\n",
    "        if i < 100:\n",
    "            ys[i] += 1\n",
    "    ys = ys / 1000\n",
    "    m1 = np.mean([vs[1] for vs in matrix])\n",
    "    m2 = np.median([vs[1] for vs in matrix])\n",
    "    plt.figure(figsize=(3, 3))\n",
    "    plt.bar(xs + 0.5, ys, width=1, color=\"dodgerblue\")\n",
    "    plt.text(10, 380, \"width = 100bp\")\n",
    "    plt.text(10, 345, \"mean = %.2fkb\" % (m1 / 1000))\n",
    "    plt.text(10, 310, \"median = %.2fkb\" % (m2 / 1000))\n",
    "    plt.xlim(0, 100)\n",
    "    vs = [0, 20, 40, 60, 80, 100]\n",
    "    plt.xticks(vs, [int(v / 10) for v in vs])\n",
    "    plt.xlabel(\"Subread length (kb)\")\n",
    "    plt.ylim(0, 400)\n",
    "    plt.yticks([0, 100, 200, 300, 400])\n",
    "    plt.ylabel(\"Number (x10$^3$)\")\n",
    "    plt.gca().spines[\"top\"].set_visible(False)\n",
    "    plt.gca().spines[\"right\"].set_visible(False)\n",
    "    plt.tight_layout()\n",
    "    # plt.show()\n",
    "    plt.savefig(prefix + \".5.png\", dpi=300)\n",
    "    plt.close()\n",
    "\n",
    "    xs = np.arange(20)\n",
    "    ys = np.zeros(20)\n",
    "    for row in matrix:\n",
    "        i = row[2]\n",
    "        if i < 20:\n",
    "            ys[i] += 1\n",
    "    ys = ys / 1000000\n",
    "    plt.figure(figsize=(3, 3))\n",
    "    plt.bar(xs, ys, width=0.8, color=\"dodgerblue\")\n",
    "    # plt.text(10, 380, \"width = 100bp\")\n",
    "    # plt.text(10, 345, \"mean = %.2fkb\" % (m1 / 1000))\n",
    "    # plt.text(10, 310, \"median = %.2fkb\" % (m2 / 1000))\n",
    "    plt.xlim(0, 20)\n",
    "    # vs = [0, 20, 40, 60, 80, 100]\n",
    "    # plt.xticks(vs, [int(v / 10) for v in vs])\n",
    "    plt.xlabel(\"Subread number\")\n",
    "    plt.ylim(0, 1.6)\n",
    "    plt.yticks([0, 0.4, 0.8, 1.2, 1.6])\n",
    "    plt.ylabel(\"Number (x10$^6$)\")\n",
    "    plt.gca().spines[\"top\"].set_visible(False)\n",
    "    plt.gca().spines[\"right\"].set_visible(False)\n",
    "    plt.tight_layout()\n",
    "    # plt.show()\n",
    "    plt.savefig(prefix + \".6.png\", dpi=300)\n",
    "    plt.close()"
   ]
  },
  {
   "cell_type": "code",
   "execution_count": 5,
   "metadata": {},
   "outputs": [],
   "source": [
    "path1 = \"data/datasets/F20FTSCCKF1558_CIYgikE/GTS-E-14-1A/GTS-E-14-1A.polymerreads_dis.xls\"\n",
    "path2 = \"data/datasets/F20FTSCCKF1558_CIYgikE/GTS-E-14-1A/GTS-E-14-1A_subreads_dis.xls\"\n",
    "prefix = \"figures/length.dis.adult.female\"\n",
    "run(path1, path2, prefix)"
   ]
  },
  {
   "cell_type": "code",
   "execution_count": 7,
   "metadata": {},
   "outputs": [],
   "source": [
    "path1 = \"data/datasets/F20FTSCCKF0616_SERmjgE_SERsukE/WHPBCDNAPEP00000149/WHPBCDNAPEP00000149.polymerreads_dis.xls\"\n",
    "path2 = \"data/datasets/F20FTSCCKF0616_SERmjgE_SERsukE/WHPBCDNAPEP00000149/WHPBCDNAPEP00000149_subreads_dis.xls\"\n",
    "prefix = \"figures/length.dis.adult.male\"\n",
    "run(path1, path2, prefix)"
   ]
  },
  {
   "cell_type": "code",
   "execution_count": 8,
   "metadata": {},
   "outputs": [],
   "source": [
    "path1 = \"data/datasets/F20FTSCCKF0616_SERdweE_SERvxlE/WHPBCDNAPEP00000150/WHPBCDNAPEP00000150.polymerreads_dis.xls\"\n",
    "path2 = \"data/datasets/F20FTSCCKF0616_SERdweE_SERvxlE/WHPBCDNAPEP00000150/WHPBCDNAPEP00000150_subreads_dis.xls\"\n",
    "prefix = \"figures/length.dis.juvenile\"\n",
    "run(path1, path2, prefix)"
   ]
  },
  {
   "cell_type": "code",
   "execution_count": 11,
   "metadata": {},
   "outputs": [],
   "source": [
    "# 2021-03-24 "
   ]
  },
  {
   "cell_type": "code",
   "execution_count": 16,
   "metadata": {},
   "outputs": [],
   "source": [
    "from pyBioInfo.IO.File import GtfFile, GtfTranscriptBuilder, GtfGeneBuilder"
   ]
  },
  {
   "cell_type": "code",
   "execution_count": 36,
   "metadata": {
    "scrolled": true
   },
   "outputs": [
    {
     "name": "stdout",
     "output_type": "stream",
     "text": [
      "1.458123399686132\n"
     ]
    }
   ],
   "source": [
    "path = \"data/genome/annotation.gtf\"\n",
    "with GtfFile(path) as f:\n",
    "    records = [x for x in f] \n",
    "genes = list(GtfGeneBuilder(records))\n",
    "counter = Counter([len(gene.transcripts) for gene in genes])\n",
    "# for i in range(0, 50):\n",
    "#     print(i, counter[i])\n",
    "print(np.mean([len(gene.transcripts) for gene in genes]))"
   ]
  },
  {
   "cell_type": "code",
   "execution_count": 34,
   "metadata": {
    "scrolled": true
   },
   "outputs": [
    {
     "name": "stdout",
     "output_type": "stream",
     "text": [
      "0 0\n",
      "1 12789\n",
      "2 5582\n",
      "3 3440\n",
      "4 2372\n",
      "5 1747\n",
      "6 1427\n",
      "7 1158\n",
      "8 953\n",
      "9 762\n",
      "10 652\n",
      "11 557\n",
      "12 540\n",
      "13 429\n",
      "14 371\n",
      "15 319\n",
      "16 297\n",
      "17 264\n",
      "18 210\n",
      "19 209\n",
      "20 187\n",
      "21 160\n",
      "22 149\n",
      "23 145\n",
      "24 121\n",
      "25 108\n",
      "26 82\n",
      "27 99\n",
      "28 85\n",
      "29 79\n",
      "30 83\n",
      "31 64\n",
      "32 59\n",
      "33 57\n",
      "34 41\n",
      "35 54\n",
      "36 51\n",
      "37 34\n",
      "38 37\n",
      "39 45\n",
      "40 43\n",
      "41 29\n",
      "42 25\n",
      "43 24\n",
      "44 32\n",
      "45 34\n",
      "46 26\n",
      "47 14\n",
      "48 28\n",
      "49 15\n"
     ]
    }
   ],
   "source": [
    "path = \"results/cupcake/chain/all_samples.chained.gtf.gz\"\n",
    "with GtfFile(path) as f:\n",
    "    records = [x for x in f] \n",
    "genes = list(GtfGeneBuilder(records))\n",
    "counter = Counter([len(gene.transcripts) for gene in genes])\n",
    "for i in range(0, 50):\n",
    "    print(i, counter[i])"
   ]
  },
  {
   "cell_type": "code",
   "execution_count": 35,
   "metadata": {},
   "outputs": [
    {
     "name": "stdout",
     "output_type": "stream",
     "text": [
      "5.948429815644147\n"
     ]
    }
   ],
   "source": [
    "print(np.mean([len(gene.transcripts) for gene in genes]))"
   ]
  },
  {
   "cell_type": "code",
   "execution_count": null,
   "metadata": {},
   "outputs": [],
   "source": []
  },
  {
   "cell_type": "code",
   "execution_count": null,
   "metadata": {},
   "outputs": [],
   "source": []
  },
  {
   "cell_type": "markdown",
   "metadata": {},
   "source": [
    "# 2021-03-24 CCS and lima report"
   ]
  },
  {
   "cell_type": "code",
   "execution_count": 315,
   "metadata": {
    "collapsed": true
   },
   "outputs": [
    {
     "name": "stdout",
     "output_type": "stream",
     "text": [
      "results/isoseq/ccs/Adult_Female.ccs_report.txt\n",
      "5759266\n",
      "3971860 (68.96%)\n",
      "1787406 (31.04%)\n",
      "0 (0.00%)\n",
      "10137 (0.18%)\n",
      "107556 (6.02%)\n",
      "0 (0.00%)\n",
      "1426910 (79.83%)\n",
      "16073 (0.90%)\n",
      "1382 (0.08%)\n",
      "184282 (10.31%)\n",
      "1 (0.00%)\n",
      "51179 (2.86%)\n",
      "926 (0.05%)\n",
      "23 (0.00%)\n",
      "0 (0.00%)\n",
      "0 (0.00%)\n",
      "0 (0.00%)\n",
      "0 (0.00%)\n",
      "0 (0.00%)\n",
      "results/isoseq/ccs/Adult_Male.ccs_report.txt\n",
      "5215426\n",
      "3509670 (67.29%)\n",
      "1705756 (32.71%)\n",
      "0 (0.00%)\n",
      "11358 (0.22%)\n",
      "184132 (10.79%)\n",
      "0 (0.00%)\n",
      "1310618 (76.84%)\n",
      "14550 (0.85%)\n",
      "1115 (0.07%)\n",
      "156561 (9.18%)\n",
      "0 (0.00%)\n",
      "38760 (2.27%)\n",
      "512 (0.03%)\n",
      "20 (0.00%)\n",
      "0 (0.00%)\n",
      "0 (0.00%)\n",
      "0 (0.00%)\n",
      "0 (0.00%)\n",
      "0 (0.00%)\n",
      "results/isoseq/ccs/Juvenile.ccs_report.txt\n",
      "6432352\n",
      "4133860 (64.27%)\n",
      "2298492 (35.73%)\n",
      "0 (0.00%)\n",
      "11022 (0.17%)\n",
      "191504 (8.33%)\n",
      "0 (0.00%)\n",
      "1772906 (77.13%)\n",
      "22851 (0.99%)\n",
      "1758 (0.08%)\n",
      "237562 (10.34%)\n",
      "2 (0.00%)\n",
      "71812 (3.12%)\n",
      "937 (0.04%)\n",
      "97 (0.00%)\n",
      "0 (0.00%)\n",
      "0 (0.00%)\n",
      "0 (0.00%)\n",
      "0 (0.00%)\n",
      "0 (0.00%)\n"
     ]
    }
   ],
   "source": [
    "for sample in [\"Adult_Female\", \"Adult_Male\", \"Juvenile\"]:\n",
    "    path = \"results/isoseq/ccs/%s.ccs_report.txt\" % sample\n",
    "    print(path)\n",
    "    with open(path) as f:\n",
    "        for line in f:\n",
    "            if \":\" not in line:\n",
    "                continue\n",
    "            v1, v2 = line.strip(\"\\n\").split(\":\")\n",
    "            v1 = v1.strip()\n",
    "            v2 = v2.strip()\n",
    "            if v2 == \"\":\n",
    "                continue\n",
    "            print(v2)"
   ]
  },
  {
   "cell_type": "code",
   "execution_count": 318,
   "metadata": {
    "collapsed": true
   },
   "outputs": [
    {
     "name": "stdout",
     "output_type": "stream",
     "text": [
      "results/isoseq/demux/Adult_Female.lima.summary\n",
      "3971860\n",
      "2767549 (70%)\n",
      "1204311 (30%)\n",
      "68 (0%)\n",
      "0 (0%)\n",
      "219872 (18%)\n",
      "61 (0%)\n",
      "0 (0%)\n",
      "259986 (22%)\n",
      "61 (0%)\n",
      "382455 (32%)\n",
      "662511 (55%)\n",
      "61 (0%)\n",
      "2767549 (100%)\n",
      "0%\n",
      "3971799 (100%)\n",
      "3971799 (100%)\n",
      "2767549 (100%)\n",
      "0 (0%)\n",
      "results/isoseq/demux/Adult_Male.lima.summary\n",
      "3509670\n",
      "2364704 (67%)\n",
      "1144966 (33%)\n",
      "155 (0%)\n",
      "0 (0%)\n",
      "202707 (18%)\n",
      "120 (0%)\n",
      "0 (0%)\n",
      "226676 (20%)\n",
      "120 (0%)\n",
      "395688 (35%)\n",
      "609201 (53%)\n",
      "120 (0%)\n",
      "2364704 (100%)\n",
      "0%\n",
      "3509550 (100%)\n",
      "3509550 (100%)\n",
      "2364704 (100%)\n",
      "0 (0%)\n",
      "results/isoseq/demux/Juvenile.lima.summary\n",
      "4133860\n",
      "2821785 (68%)\n",
      "1312075 (32%)\n",
      "143 (0%)\n",
      "0 (0%)\n",
      "300944 (23%)\n",
      "128 (0%)\n",
      "0 (0%)\n",
      "324391 (25%)\n",
      "128 (0%)\n",
      "460864 (35%)\n",
      "641491 (49%)\n",
      "128 (0%)\n",
      "2821785 (100%)\n",
      "0%\n",
      "4133732 (100%)\n",
      "4133732 (100%)\n",
      "2821785 (100%)\n",
      "0 (0%)\n"
     ]
    }
   ],
   "source": [
    "for sample in [\"Adult_Female\", \"Adult_Male\", \"Juvenile\"]:\n",
    "    path = \"results/isoseq/demux/%s.lima.summary\" % sample\n",
    "    print(path)\n",
    "    with open(path) as f:\n",
    "        for line in f:\n",
    "            if \":\" not in line:\n",
    "                continue\n",
    "            v1, v2 = line.strip(\"\\n\").split(\":\")\n",
    "            v1 = v1.strip()\n",
    "            v2 = v2.strip()\n",
    "            if v2 == \"\":\n",
    "                continue\n",
    "            print(v2)"
   ]
  },
  {
   "cell_type": "markdown",
   "metadata": {
    "heading_collapsed": true
   },
   "source": [
    "# 2021-03-25 Cupcake report"
   ]
  },
  {
   "cell_type": "code",
   "execution_count": 15,
   "metadata": {
    "hidden": true
   },
   "outputs": [],
   "source": [
    "data = dict()\n",
    "for sample in samples:\n",
    "    data[sample] = dict()\n",
    "    # raw\n",
    "    path = \"results/cupcake/collapsed/%s/out.collapsed.sorted.gtf.gz\" % sample\n",
    "    with GtfFile(path) as f:\n",
    "        records = [x for x in f]\n",
    "    genes = list(GtfGeneBuilder(records))\n",
    "    data[sample][\"raw\"] = genes\n",
    "    # filtered\n",
    "    path = \"results/cupcake/collapsed/%s/out.collapsed.filtered.sorted.gtf.gz\" % sample\n",
    "    with GtfFile(path) as f:\n",
    "        records = [x for x in f]\n",
    "    genes = list(GtfGeneBuilder(records))\n",
    "    data[sample][\"filtered\"] = genes"
   ]
  },
  {
   "cell_type": "code",
   "execution_count": 18,
   "metadata": {
    "hidden": true
   },
   "outputs": [],
   "source": [
    "rows = []\n",
    "for sample in samples:\n",
    "    values = []\n",
    "    genes = data[sample][\"raw\"]\n",
    "    values.append(len(genes))\n",
    "    values.append(sum([len(g.transcripts) for g in genes]))\n",
    "    exon_count = 0\n",
    "    for g in genes:\n",
    "        for t in g.transcripts:\n",
    "            exon_count += len(t.blocks)\n",
    "    values.append(exon_count)\n",
    "    counts = [len(g.transcripts) for g in genes]\n",
    "    values.append(np.mean(counts))\n",
    "    values.append(np.median(counts))\n",
    "    \n",
    "    genes = data[sample][\"filtered\"]\n",
    "    values.append(len(genes))\n",
    "    values.append(sum([len(g.transcripts) for g in genes]))\n",
    "    exon_count = 0\n",
    "    for g in genes:\n",
    "        for t in g.transcripts:\n",
    "            exon_count += len(t.blocks)\n",
    "    values.append(exon_count)\n",
    "    counts = [len(g.transcripts) for g in genes]\n",
    "    values.append(np.mean(counts))\n",
    "    values.append(np.median(counts))\n",
    " \n",
    "    rows.append(values)"
   ]
  },
  {
   "cell_type": "code",
   "execution_count": 22,
   "metadata": {
    "hidden": true
   },
   "outputs": [],
   "source": [
    "columns = [\n",
    "    \"Gene_Raw\", \"Transcript_Raw\", \"Exon_Raw\", \"TranNum_Mean_Raw\", \"TranNum_Median_Raw\",\n",
    "    \"Gene_Filtered\", \"Transcript_Filtered\", \"Exon_Filtered\", \"TranNum_Mean_Filtered\", \"TranNum_Median_Filtered\"\n",
    "]\n",
    "dat = pd.DataFrame(rows, index=pd.Index(samples, name=\"Sample\"), columns=columns)\n",
    "dat.to_csv(\"cupcake.report.tsv\", sep=\"\\t\")"
   ]
  },
  {
   "cell_type": "code",
   "execution_count": 26,
   "metadata": {
    "hidden": true
   },
   "outputs": [
    {
     "data": {
      "text/plain": [
       "Sample\n",
       "Adult_Female    74.833222\n",
       "Adult_Male      75.626835\n",
       "Juvenile        69.308592\n",
       "dtype: float64"
      ]
     },
     "execution_count": 26,
     "metadata": {},
     "output_type": "execute_result"
    }
   ],
   "source": [
    "dat[\"Transcript_Filtered\"] / dat[\"Transcript_Raw\"] * 100"
   ]
  },
  {
   "cell_type": "code",
   "execution_count": 47,
   "metadata": {
    "hidden": true
   },
   "outputs": [],
   "source": [
    "plt.figure(figsize=(6, 3))\n",
    "for i, sample in enumerate(samples):\n",
    "    counts = [len(g.transcripts) for g in data[sample][\"filtered\"]]\n",
    "    counter = Counter(counts)\n",
    "    xs = np.arange(10)\n",
    "    ys = [counter[x] for x in xs]\n",
    "    ys.append(len(counts) - sum(ys))\n",
    "    xs = np.arange(len(xs) + 1)\n",
    "    ys = np.array(ys) / len(counts) * 100\n",
    "    plt.bar(xs + (i - 1) * 0.2, ys, width=0.2, label=sample + \" (%.2f)\" % np.mean(counts))\n",
    "plt.xlim(0.5, 10.5)\n",
    "plt.xticks(np.arange(1, 11))\n",
    "plt.xlabel(\"transcripts per gene\")\n",
    "plt.ylim(0, 50)\n",
    "plt.ylabel(\"Percentage (%)\")\n",
    "plt.legend()\n",
    "plt.tight_layout()\n",
    "if False:\n",
    "    plt.show()\n",
    "else:\n",
    "    plt.savefig(\"figures/cupcake.summary.png\", dpi=300)\n",
    "plt.close()"
   ]
  },
  {
   "cell_type": "code",
   "execution_count": null,
   "metadata": {
    "hidden": true
   },
   "outputs": [],
   "source": [
    "# "
   ]
  },
  {
   "cell_type": "code",
   "execution_count": 10,
   "metadata": {
    "hidden": true
   },
   "outputs": [],
   "source": [
    "names = [\"cupcake\", \"tama\"]\n",
    "data = dict()\n",
    "for name in names:\n",
    "    counts = []\n",
    "    path = \"results/collect/%s.isoform.txt\" % name\n",
    "    with open(path) as f:\n",
    "        for line in f:\n",
    "            gid, count = line.strip(\"\\n\").split(\"\\t\")\n",
    "            count = int(count)\n",
    "            counts.append(count)\n",
    "    data[name] = counts\n",
    "    "
   ]
  },
  {
   "cell_type": "code",
   "execution_count": 44,
   "metadata": {
    "hidden": true
   },
   "outputs": [
    {
     "data": {
      "text/plain": [
       "(216505, 214112, 12.83372851215175, 8.0, 9.908464065898468, 3.0)"
      ]
     },
     "execution_count": 44,
     "metadata": {},
     "output_type": "execute_result"
    }
   ],
   "source": [
    "s1 = np.sum(data[\"cupcake\"])\n",
    "s2 = np.sum(data[\"tama\"])\n",
    "mean1 = np.mean(data[\"cupcake\"])\n",
    "median1 = np.median(data[\"cupcake\"])\n",
    "mean2 = np.mean(data[\"tama\"])\n",
    "median2 = np.median(data[\"tama\"])\n",
    "s1, s2, mean1, median1, mean2, median2"
   ]
  },
  {
   "cell_type": "code",
   "execution_count": 49,
   "metadata": {
    "hidden": true
   },
   "outputs": [],
   "source": [
    "plt.figure(figsize=(7, 4))\n",
    "for i, name in enumerate(names):\n",
    "    counts = data[name]\n",
    "    counter = Counter(counts)\n",
    "    xs = np.arange(1, 31)\n",
    "    xticks = [str(x) for x in xs]\n",
    "    xticks[-1] = \">29\"\n",
    "    ys = [counter[x] for x in range(1, 30)]\n",
    "    ys.append(len(counts) - sum(ys))\n",
    "    ys = np.array(ys) / 1000\n",
    "    plt.bar(xs + (i - 0.5) * 0.4, ys, width=0.4, label=name)\n",
    "    # break\n",
    "plt.xlim(0, 31)\n",
    "plt.ylim(0, 10)\n",
    "plt.text(5, 10 * 0.85, \"isoform = %d\" % s1, color=\"steelblue\")\n",
    "plt.text(5, 10 * 0.80, \"mean = %.2f\" % mean1, color=\"steelblue\")\n",
    "plt.text(5, 10 * 0.75, \"median = %.2f\" % median1, color=\"steelblue\")\n",
    "plt.text(5, 10 * 0.70, \"isoform = %d\" % s2, color=\"orange\")\n",
    "plt.text(5, 10 * 0.65, \"mean = %.2f\" % mean2, color=\"orange\")\n",
    "plt.text(5, 10 * 0.60, \"median = %.2f\" % median2, color=\"orange\")\n",
    "plt.xlabel(\"Isoform per gene\")\n",
    "plt.xticks(xs, xticks)\n",
    "plt.ylabel(\"Gene number (x10$^3$)\")\n",
    "plt.legend()\n",
    "plt.tight_layout()\n",
    "if False:\n",
    "    plt.show()\n",
    "else:\n",
    "    plt.savefig(\"figures/stats.isoform.count.png\", dpi=300)\n",
    "plt.close()"
   ]
  },
  {
   "cell_type": "code",
   "execution_count": null,
   "metadata": {
    "hidden": true
   },
   "outputs": [],
   "source": []
  },
  {
   "cell_type": "code",
   "execution_count": null,
   "metadata": {
    "hidden": true
   },
   "outputs": [],
   "source": []
  },
  {
   "cell_type": "code",
   "execution_count": null,
   "metadata": {
    "hidden": true
   },
   "outputs": [],
   "source": []
  },
  {
   "cell_type": "code",
   "execution_count": 106,
   "metadata": {
    "hidden": true
   },
   "outputs": [],
   "source": [
    "from pyBioInfo.IO.File import GtfFile, GtfTranscriptBuilder\n",
    "from pyBioInfo.Utils import BlockTools"
   ]
  },
  {
   "cell_type": "code",
   "execution_count": 100,
   "metadata": {
    "hidden": true
   },
   "outputs": [],
   "source": [
    "sites = []"
   ]
  },
  {
   "cell_type": "code",
   "execution_count": 101,
   "metadata": {
    "hidden": true
   },
   "outputs": [],
   "source": [
    "with GtfFile(\"data/genome/annotation.gtf.gz\") as f:\n",
    "    records = [x for x in f]"
   ]
  },
  {
   "cell_type": "code",
   "execution_count": 103,
   "metadata": {
    "hidden": true
   },
   "outputs": [],
   "source": [
    "transcripts = list(GtfTranscriptBuilder(records))"
   ]
  },
  {
   "cell_type": "code",
   "execution_count": 105,
   "metadata": {
    "hidden": true
   },
   "outputs": [
    {
     "name": "stdout",
     "output_type": "stream",
     "text": [
      "35307\n"
     ]
    }
   ],
   "source": [
    "print(len(transcripts))"
   ]
  },
  {
   "cell_type": "code",
   "execution_count": 122,
   "metadata": {
    "hidden": true
   },
   "outputs": [],
   "source": [
    "sites1 = []\n",
    "for transcript in transcripts:\n",
    "    for start, end in  BlockTools.gaps(transcript.blocks):\n",
    "        site = (transcript.chrom, start, end, transcript.strand)\n",
    "        sites1.append(site)\n",
    "sites1 = set(sites1)"
   ]
  },
  {
   "cell_type": "code",
   "execution_count": 125,
   "metadata": {
    "hidden": true
   },
   "outputs": [
    {
     "data": {
      "text/plain": [
       "235083"
      ]
     },
     "execution_count": 125,
     "metadata": {},
     "output_type": "execute_result"
    }
   ],
   "source": [
    "len(sites1)"
   ]
  },
  {
   "cell_type": "code",
   "execution_count": 150,
   "metadata": {
    "hidden": true
   },
   "outputs": [
    {
     "data": {
      "text/plain": [
       "1078503"
      ]
     },
     "execution_count": 150,
     "metadata": {},
     "output_type": "execute_result"
    }
   ],
   "source": [
    "sites2 = []\n",
    "with open(\"../1_ngs/results/mapping/all.2nd.SJ.out.tab\") as f:\n",
    "    for line in f:\n",
    "        chrom, start, end, strand, motif, annotate, uniq, multi, overhang = line.strip(\"\\n\").split(\"\\t\")\n",
    "        start = int(start) - 1\n",
    "        end = int(end)\n",
    "        if strand == \"1\":\n",
    "            strand = \"+\"\n",
    "        elif strand == \"2\":\n",
    "            strand = \"-\"\n",
    "        else:\n",
    "            strand = \".\"\n",
    "        site = (chrom, start, end, strand)\n",
    "        uniq = int(uniq)\n",
    "        if uniq >= 1:\n",
    "            site = (chrom, start, end, strand)\n",
    "            sites2.append(site)\n",
    "sites2 = set(sites2)\n",
    "len(sites2)"
   ]
  },
  {
   "cell_type": "code",
   "execution_count": 151,
   "metadata": {
    "hidden": true
   },
   "outputs": [],
   "source": [
    "sites = sites1 | sites2"
   ]
  },
  {
   "cell_type": "code",
   "execution_count": 152,
   "metadata": {
    "hidden": true
   },
   "outputs": [
    {
     "data": {
      "text/plain": [
       "1084630"
      ]
     },
     "execution_count": 152,
     "metadata": {},
     "output_type": "execute_result"
    }
   ],
   "source": [
    "len(sites)"
   ]
  },
  {
   "cell_type": "code",
   "execution_count": 136,
   "metadata": {
    "hidden": true
   },
   "outputs": [],
   "source": [
    "with GtfFile(\"results/cupcake/chain/cupcake.gtf.gz\") as f:\n",
    "    records = [x for x in f]"
   ]
  },
  {
   "cell_type": "code",
   "execution_count": 139,
   "metadata": {
    "hidden": true
   },
   "outputs": [
    {
     "data": {
      "text/plain": [
       "156798"
      ]
     },
     "execution_count": 139,
     "metadata": {},
     "output_type": "execute_result"
    }
   ],
   "source": [
    "transcripts = list(GtfTranscriptBuilder(records))\n",
    "len(transcripts)"
   ]
  },
  {
   "cell_type": "code",
   "execution_count": 153,
   "metadata": {
    "hidden": true
   },
   "outputs": [],
   "source": [
    "for transcript in transcripts:\n",
    "    introns = BlockTools.gaps(transcript.blocks)\n",
    "    flags = []\n",
    "    for intron in introns:\n",
    "        site = (transcript.chrom, intron[0], intron[1], transcript.strand)\n",
    "        flags.append(site in sites)\n",
    "    transcript.flags = flags"
   ]
  },
  {
   "cell_type": "code",
   "execution_count": 161,
   "metadata": {
    "hidden": true
   },
   "outputs": [
    {
     "name": "stdout",
     "output_type": "stream",
     "text": [
      "147966 8832\n"
     ]
    }
   ],
   "source": [
    "array1 = []\n",
    "array2 = []\n",
    "for transcript in transcripts:\n",
    "    flags = transcript.flags\n",
    "    m = sum(flags)\n",
    "    n = len(flags)\n",
    "    if m == n or m / n > 0.8:\n",
    "        array1.append(transcript)\n",
    "    else:\n",
    "        array2.append(transcript)\n",
    "print(len(array1), len(array2))"
   ]
  },
  {
   "cell_type": "code",
   "execution_count": 160,
   "metadata": {
    "hidden": true
   },
   "outputs": [],
   "source": [
    "with open(\"splice.junction.bed\", \"w+\") as fw:\n",
    "    for transcript in array1:\n",
    "        fw.write(transcript.format(\"BED\") + \"\\n\")\n",
    "assert os.system(\"bgzip -f splice.junction.bed\") == 0\n",
    "assert os.system(\"tabix -p bed -f splice.junction.bed.gz\") == 0"
   ]
  },
  {
   "cell_type": "code",
   "execution_count": 158,
   "metadata": {
    "hidden": true
   },
   "outputs": [],
   "source": [
    "with open(\"no.splice.junction.bed\", \"w+\") as fw:\n",
    "    for transcript in array2:\n",
    "        fw.write(transcript.format(\"BED\") + \"\\n\")\n",
    "assert os.system(\"bgzip -f no.splice.junction.bed\") == 0\n",
    "assert os.system(\"tabix -p bed -f no.splice.junction.bed.gz\") == 0"
   ]
  },
  {
   "cell_type": "code",
   "execution_count": null,
   "metadata": {
    "hidden": true
   },
   "outputs": [],
   "source": []
  }
 ],
 "metadata": {
  "kernelspec": {
   "display_name": "Python 3",
   "language": "python",
   "name": "python3"
  },
  "language_info": {
   "codemirror_mode": {
    "name": "ipython",
    "version": 3
   },
   "file_extension": ".py",
   "mimetype": "text/x-python",
   "name": "python",
   "nbconvert_exporter": "python",
   "pygments_lexer": "ipython3",
   "version": "3.6.10"
  }
 },
 "nbformat": 4,
 "nbformat_minor": 4
}
