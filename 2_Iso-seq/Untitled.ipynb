{
 "cells": [
  {
   "cell_type": "code",
   "execution_count": 2,
   "metadata": {
    "ExecuteTime": {
     "end_time": "2022-03-22T06:45:52.919768Z",
     "start_time": "2022-03-22T06:45:35.267882Z"
    }
   },
   "outputs": [],
   "source": [
    "import gzip\n",
    "from Bio import SeqIO\n",
    "import matplotlib.pyplot as plt"
   ]
  },
  {
   "cell_type": "markdown",
   "metadata": {},
   "source": [
    "# Mapping summary"
   ]
  },
  {
   "cell_type": "code",
   "execution_count": 11,
   "metadata": {
    "ExecuteTime": {
     "end_time": "2022-03-22T06:50:44.926321Z",
     "start_time": "2022-03-22T06:50:05.514131Z"
    }
   },
   "outputs": [
    {
     "name": "stdout",
     "output_type": "stream",
     "text": [
      "Ju_Mi\t163218\t166293\t166280\t13\t0.9999203519219694\n",
      "Ad_Fe\t189169\t194724\t194622\t102\t0.9994607996024719\n",
      "Ad_Ma\t149716\t153617\t153588\t29\t0.9998062999278634\n"
     ]
    }
   ],
   "source": [
    "for name in [\"Ju_Mi\", \"Ad_Fe\", \"Ad_Ma\"]:\n",
    "    num1 = 0\n",
    "    with gzip.open(\"results/isoseq/polished/%s.hq.fasta.gz\" % name, \"rt\") as f:\n",
    "        for read in SeqIO.parse(f, \"fasta\"):\n",
    "            num1 += 1\n",
    "    num2 = 0\n",
    "    num3 = 0\n",
    "    with open(\"results/mapping/mapped/%s.stats\" % name) as f:\n",
    "        for line in f:\n",
    "            if \"Total reads:\" in line:\n",
    "                num2 = int(line.strip(\"\\n\").split()[-1])\n",
    "            if \"Mapped reads:\" in line:\n",
    "                num3 = int(line.strip(\"\\n\").split()[-2])\n",
    "    num4 = num2 - num3\n",
    "    ratio = 1 - num4 / num1\n",
    "    print(name, num1, num2, num3, num4, ratio, sep=\"\\t\")"
   ]
  },
  {
   "cell_type": "markdown",
   "metadata": {},
   "source": [
    "# Internal primming"
   ]
  },
  {
   "cell_type": "code",
   "execution_count": null,
   "metadata": {},
   "outputs": [],
   "source": []
  }
 ],
 "metadata": {
  "kernelspec": {
   "display_name": "Python 3",
   "language": "python",
   "name": "python3"
  },
  "language_info": {
   "codemirror_mode": {
    "name": "ipython",
    "version": 3
   },
   "file_extension": ".py",
   "mimetype": "text/x-python",
   "name": "python",
   "nbconvert_exporter": "python",
   "pygments_lexer": "ipython3",
   "version": "3.6.10"
  }
 },
 "nbformat": 4,
 "nbformat_minor": 4
}
