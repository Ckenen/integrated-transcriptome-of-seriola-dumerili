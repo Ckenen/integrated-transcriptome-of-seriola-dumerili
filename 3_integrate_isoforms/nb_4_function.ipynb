{
 "cells": [
  {
   "cell_type": "code",
   "execution_count": 1,
   "metadata": {
    "ExecuteTime": {
     "end_time": "2023-10-20T01:44:16.288500Z",
     "start_time": "2023-10-20T01:44:12.242944Z"
    }
   },
   "outputs": [],
   "source": [
    "from collections import defaultdict\n",
    "import numpy as np\n",
    "import pandas as pd\n",
    "import matplotlib.pyplot as plt\n",
    "from matplotlib_venn import *\n",
    "from pyBioInfo.IO.File import GtfFile, GtfGeneBuilder"
   ]
  },
  {
   "cell_type": "markdown",
   "metadata": {},
   "source": [
    "# Make info.tsv"
   ]
  },
  {
   "cell_type": "code",
   "execution_count": 2,
   "metadata": {
    "ExecuteTime": {
     "end_time": "2023-10-20T01:44:16.297054Z",
     "start_time": "2023-10-20T01:44:16.292575Z"
    }
   },
   "outputs": [],
   "source": [
    "f_gtf = \"results/assembly/asm.final.sorted.gtf.gz\"\n",
    "f_ngs_tsv = \"results/function/eggnog/ngs.emapper.annotations\"\n",
    "f_tgs_tsv = \"results/function/eggnog/tgs.emapper.annotations\"\n",
    "f_out = \"results/function/info.tsv\""
   ]
  },
  {
   "cell_type": "code",
   "execution_count": 3,
   "metadata": {
    "ExecuteTime": {
     "end_time": "2023-10-20T01:45:01.248469Z",
     "start_time": "2023-10-20T01:44:16.303166Z"
    }
   },
   "outputs": [],
   "source": [
    "with GtfFile(f_gtf) as f:\n",
    "    records = [r for r in f]\n",
    "genes = [g for g in GtfGeneBuilder(records)]"
   ]
  },
  {
   "cell_type": "code",
   "execution_count": 4,
   "metadata": {
    "ExecuteTime": {
     "end_time": "2023-10-20T01:47:08.080808Z",
     "start_time": "2023-10-20T01:45:01.251012Z"
    }
   },
   "outputs": [
    {
     "name": "stdout",
     "output_type": "stream",
     "text": [
      "74245 127421\n"
     ]
    }
   ],
   "source": [
    "def load_eggnog_annotation(path):\n",
    "    with open(path) as f:\n",
    "        for line in f:\n",
    "            if line.startswith(\"#query\"):\n",
    "                header = line[1:-1].split(\"\\t\")\n",
    "                break\n",
    "    anno = pd.read_csv(path, sep=\"\\t\", header=None, comment=\"#\")\n",
    "    anno.columns = header\n",
    "    anno[\"isoform\"] = [q.split(\"_\")[1].split(\":\")[0] for q in anno[\"query\"]]\n",
    "    array = []\n",
    "    for isoform, tmp in anno.groupby(by=\"isoform\"):\n",
    "        row = tmp.sort_values(by=\"evalue\").iloc[0]\n",
    "        array.append(row)\n",
    "    tmp = pd.DataFrame(array)\n",
    "    return tmp\n",
    "\n",
    "anno1 = load_eggnog_annotation(f_ngs_tsv)\n",
    "anno2 = load_eggnog_annotation(f_tgs_tsv)\n",
    "print(len(anno1), len(anno2))\n",
    "\n",
    "anno = pd.concat([anno1, anno2])\n",
    "anno.index = [i for i in range(len(anno))]\n",
    "anno.index.name = None"
   ]
  },
  {
   "cell_type": "code",
   "execution_count": 5,
   "metadata": {
    "ExecuteTime": {
     "end_time": "2023-10-20T01:47:08.623559Z",
     "start_time": "2023-10-20T01:47:08.082739Z"
    }
   },
   "outputs": [],
   "source": [
    "rows = []\n",
    "for g in genes:\n",
    "    for t in g.transcripts:\n",
    "        record = t.records[\"exon\"][0]\n",
    "        gid = record.attributes[\"gene_id\"]\n",
    "        tid = record.attributes[\"transcript_id\"]\n",
    "        row = [gid, tid]\n",
    "        rows.append(row)\n",
    "dat = pd.DataFrame(rows, columns=[\"gene\", \"isoform\"])"
   ]
  },
  {
   "cell_type": "code",
   "execution_count": 6,
   "metadata": {
    "ExecuteTime": {
     "end_time": "2023-10-20T01:47:09.123637Z",
     "start_time": "2023-10-20T01:47:08.625150Z"
    }
   },
   "outputs": [],
   "source": [
    "info = dat.merge(anno, left_on=\"isoform\", right_on=\"isoform\", how=\"left\")"
   ]
  },
  {
   "cell_type": "code",
   "execution_count": 7,
   "metadata": {
    "ExecuteTime": {
     "end_time": "2023-10-20T01:47:13.413527Z",
     "start_time": "2023-10-20T01:47:09.125503Z"
    }
   },
   "outputs": [],
   "source": [
    "info.to_csv(f_out, sep=\"\\t\", index=False)"
   ]
  },
  {
   "cell_type": "markdown",
   "metadata": {},
   "source": [
    "# Analysis of genotype, go term and kegg"
   ]
  },
  {
   "cell_type": "code",
   "execution_count": 9,
   "metadata": {
    "ExecuteTime": {
     "end_time": "2023-10-20T02:01:48.852500Z",
     "start_time": "2023-10-20T02:01:46.977009Z"
    }
   },
   "outputs": [],
   "source": [
    "info = pd.read_csv(\"results/function/info.tsv\", sep=\"\\t\")"
   ]
  },
  {
   "cell_type": "code",
   "execution_count": 10,
   "metadata": {
    "ExecuteTime": {
     "end_time": "2023-10-20T02:01:59.425783Z",
     "start_time": "2023-10-20T02:01:48.854119Z"
    }
   },
   "outputs": [
    {
     "name": "stdout",
     "output_type": "stream",
     "text": [
      "protein coding: 24801 0.7433684021221113\n",
      "ncRNA: 8562\n"
     ]
    }
   ],
   "source": [
    "protein_coding_genes = []\n",
    "for gene, tmp in info.groupby(by=\"gene\"):\n",
    "    if sum(~tmp[\"query\"].isna()) > 0:\n",
    "        protein_coding_genes.append(gene)\n",
    "\n",
    "v1 = len(protein_coding_genes)\n",
    "v2 = len(set(info[\"gene\"])) - v1\n",
    "print(\"protein coding:\", v1, v1 / (v1 + v2))\n",
    "print(\"ncRNA:\", v2)"
   ]
  },
  {
   "cell_type": "code",
   "execution_count": 11,
   "metadata": {
    "ExecuteTime": {
     "end_time": "2023-10-20T02:01:59.576364Z",
     "start_time": "2023-10-20T02:01:59.427534Z"
    }
   },
   "outputs": [
    {
     "data": {
      "image/png": "[encoded data removed]",
      "text/plain": [
       "<Figure size 216x216 with 1 Axes>"
      ]
     },
     "metadata": {},
     "output_type": "display_data"
    }
   ],
   "source": [
    "plt.figure(figsize=(3, 3))\n",
    "plt.pie([v1, v2], labels=[\"protein coding\", \"others\"])\n",
    "plt.tight_layout()\n",
    "plt.savefig(\"figures/protein_coding.pie.pdf\", dpi=300)"
   ]
  },
  {
   "cell_type": "code",
   "execution_count": 12,
   "metadata": {
    "ExecuteTime": {
     "end_time": "2023-10-20T02:02:27.337245Z",
     "start_time": "2023-10-20T02:01:59.577965Z"
    }
   },
   "outputs": [
    {
     "name": "stdout",
     "output_type": "stream",
     "text": [
      "Total genes: 33363\n",
      "GO term genes: 16902 0.6815047780331438\n"
     ]
    }
   ],
   "source": [
    "gene_go_terms = dict()\n",
    "for gene, tmp in info.groupby(by=\"gene\"):\n",
    "    tmp = tmp[~tmp[\"query\"].isna()]\n",
    "    vs = []\n",
    "    for gos in tmp[\"GOs\"]:\n",
    "        for go in gos.split(\",\"):\n",
    "            if go.startswith(\"GO:\"):\n",
    "                vs.append(go)\n",
    "    vs = set(vs)\n",
    "    gene_go_terms[gene]  = vs\n",
    "    \n",
    "n = 0\n",
    "for k, v in gene_go_terms.items():\n",
    "    if len(v) > 0:\n",
    "        n += 1\n",
    "print(\"Total genes:\", len(gene_go_terms))\n",
    "print(\"GO term genes:\", n, n / v1)"
   ]
  },
  {
   "cell_type": "code",
   "execution_count": 13,
   "metadata": {
    "ExecuteTime": {
     "end_time": "2023-10-20T02:02:49.892228Z",
     "start_time": "2023-10-20T02:02:27.338973Z"
    }
   },
   "outputs": [
    {
     "name": "stdout",
     "output_type": "stream",
     "text": [
      "Total genes: 33363\n",
      "KEGG genes: 10366 0.4179670174589734\n"
     ]
    }
   ],
   "source": [
    "gene_keggs = dict()\n",
    "for gene, tmp in info.groupby(by=\"gene\"):\n",
    "    tmp = tmp[~tmp[\"query\"].isna()]\n",
    "    vs = []\n",
    "    for ks in tmp[\"KEGG_Pathway\"]:\n",
    "        for k in ks.split(\",\"):\n",
    "            if k != \"-\":\n",
    "                vs.append(k)\n",
    "    vs = set(vs)\n",
    "    gene_keggs[gene]  = vs\n",
    "    \n",
    "n = 0\n",
    "for k, v in gene_keggs.items():\n",
    "    if len(v) > 0:\n",
    "        n += 1\n",
    "print(\"Total genes:\", len(gene_keggs))\n",
    "print(\"KEGG genes:\", n, n / v1)"
   ]
  },
  {
   "cell_type": "code",
   "execution_count": 14,
   "metadata": {
    "ExecuteTime": {
     "end_time": "2023-10-20T02:03:11.804771Z",
     "start_time": "2023-10-20T02:02:49.893999Z"
    }
   },
   "outputs": [],
   "source": [
    "list1 = set()\n",
    "list2 = set()\n",
    "list3 = set()\n",
    "for g in info[\"gene\"]:\n",
    "    if g in protein_coding_genes:\n",
    "        list1.add(g)\n",
    "    if len(gene_go_terms[g]) > 0:\n",
    "        list2.add(g)\n",
    "    if len(gene_keggs[g]) > 0:\n",
    "        list3.add(g)"
   ]
  },
  {
   "cell_type": "code",
   "execution_count": 15,
   "metadata": {
    "ExecuteTime": {
     "end_time": "2023-10-20T02:03:11.885814Z",
     "start_time": "2023-10-20T02:03:11.807417Z"
    }
   },
   "outputs": [
    {
     "data": {
      "image/png": "[encoded data removed]",
      "text/plain": [
       "<Figure size 252x180 with 1 Axes>"
      ]
     },
     "metadata": {},
     "output_type": "display_data"
    }
   ],
   "source": [
    "plt.figure(figsize=(3.5, 2.5))\n",
    "ret = venn3([list1, list2, list3], \n",
    "    set_labels=[\"Protein coding\\ngenes\", \"Genes with\\nGO term\", \"Genes with KEGG pathway\"], \n",
    "    set_colors=[\"C0\", \"C1\", \"C2\"])\n",
    "for item in ret.subset_labels:\n",
    "    if item is None:\n",
    "        continue\n",
    "    item.set_text(format(int(item.get_text()), \",\"))\n",
    "plt.tight_layout()\n",
    "plt.show()"
   ]
  },
  {
   "cell_type": "code",
   "execution_count": 41,
   "metadata": {
    "ExecuteTime": {
     "end_time": "2023-10-20T02:10:02.115411Z",
     "start_time": "2023-10-20T02:10:01.863885Z"
    }
   },
   "outputs": [
    {
     "data": {
      "image/png": "[encoded data removed]",
      "text/plain": [
       "<Figure size 252x180 with 1 Axes>"
      ]
     },
     "metadata": {},
     "output_type": "display_data"
    }
   ],
   "source": [
    "plt.figure(figsize=(3.5, 2.5))\n",
    "ret = venn3([list1, list2, list3], \n",
    "    set_labels=[\"Protein coding\\ngenes\", \"Genes with\\nGO term\", \"Genes with KEGG pathway\"], \n",
    "    set_colors=[\"C0\", \"C1\", \"C2\"])\n",
    "for item in ret.subset_labels:\n",
    "    if item is None:\n",
    "        continue\n",
    "    item.set_text(format(int(item.get_text()), \",\"))\n",
    "    # item.set_text(None)\n",
    "\n",
    "    \n",
    "ret.subset_labels[0].set_text(None)\n",
    "ax = plt.gca()\n",
    "ax.annotate('6,024', xy=(-0.45, 0.2), xytext=(-0.9, 0.3), arrowprops=dict(facecolor='black', arrowstyle=\"-\"),)\n",
    "\n",
    "\n",
    "plt.tight_layout()\n",
    "plt.savefig(\"figures/function_annotation.pdf\", dpi=300)"
   ]
  },
  {
   "cell_type": "markdown",
   "metadata": {},
   "source": [
    "## GO term"
   ]
  },
  {
   "cell_type": "code",
   "execution_count": 42,
   "metadata": {
    "ExecuteTime": {
     "end_time": "2023-10-20T02:12:42.786537Z",
     "start_time": "2023-10-20T02:12:40.816373Z"
    },
    "code_folding": [
     1,
     7,
     26
    ]
   },
   "outputs": [
    {
     "data": {
      "text/plain": [
       "50653"
      ]
     },
     "execution_count": 42,
     "metadata": {},
     "output_type": "execute_result"
    }
   ],
   "source": [
    "lines = []\n",
    "with open(\"../common/goterm/go-basic.obo\") as f:\n",
    "    for line in f:\n",
    "        lines.append(line.strip(\"\\n\"))\n",
    "        \n",
    "terms = []\n",
    "i = 0\n",
    "while i < len(lines) :\n",
    "    line = lines[i]\n",
    "    if line == \"[Term]\":\n",
    "        term = defaultdict(list)\n",
    "        j = i + 1\n",
    "        while True:\n",
    "            line1 = lines[j]\n",
    "            if line1 == \"\":\n",
    "                i = j + 1\n",
    "                terms.append(term)\n",
    "                break\n",
    "            else:\n",
    "                k = line1.find(\":\")\n",
    "                term[line1[:k]].append(line1[k+2:])\n",
    "            j += 1\n",
    "    else:\n",
    "        i += 1\n",
    "        \n",
    "term_dict = dict()\n",
    "for term in terms:\n",
    "    vs1 = term[\"id\"]\n",
    "    vs2 = term[\"alt_id\"]\n",
    "    for v in vs1:\n",
    "        assert v not in term_dict\n",
    "        term_dict[v] = term\n",
    "    for v in vs2:\n",
    "        assert v not in term_dict\n",
    "        term_dict[v] = term\n",
    "\n",
    "len(term_dict)"
   ]
  },
  {
   "cell_type": "code",
   "execution_count": 43,
   "metadata": {
    "ExecuteTime": {
     "end_time": "2023-10-20T02:12:45.442252Z",
     "start_time": "2023-10-20T02:12:42.789202Z"
    }
   },
   "outputs": [],
   "source": [
    "s1 = set()\n",
    "s2 = set()\n",
    "s3 = set()\n",
    "for g, gos in gene_go_terms.items():\n",
    "    if len(gos) == 0:\n",
    "        continue\n",
    "    terms = [term_dict[go] for go in gos]\n",
    "    namespaces = set()\n",
    "    biological_process = False\n",
    "    cellular_component = False\n",
    "    molecular_function = False\n",
    "    for t in terms:\n",
    "        namespaces.add(t[\"namespace\"][0])\n",
    "    if \"biological_process\" in namespaces:\n",
    "        s1.add(g)\n",
    "    if \"cellular_component\" in namespaces:\n",
    "        s2.add(g)\n",
    "    if \"molecular_function\" in namespaces:\n",
    "        s3.add(g)"
   ]
  },
  {
   "cell_type": "code",
   "execution_count": 44,
   "metadata": {
    "ExecuteTime": {
     "end_time": "2023-10-20T02:13:38.351774Z",
     "start_time": "2023-10-20T02:13:38.160595Z"
    }
   },
   "outputs": [
    {
     "data": {
      "image/png": "[encoded data removed]",
      "text/plain": [
       "<Figure size 252x180 with 1 Axes>"
      ]
     },
     "metadata": {},
     "output_type": "display_data"
    }
   ],
   "source": [
    "plt.figure(figsize=(3.5, 2.5))\n",
    "ret = venn3([s1, s2, s3], \n",
    "      set_labels=[\"Biological\\nprocess (BP)\", \"Cellular\\ncomponent (CC)\", \"Molecular function (MF)\"], \n",
    "      set_colors=[\"C0\", \"C1\", \"C2\"])\n",
    "for item in ret.subset_labels:\n",
    "    if item is None:\n",
    "        continue\n",
    "    item.set_text(format(int(item.get_text()), \",\"))\n",
    "plt.tight_layout()\n",
    "plt.show()"
   ]
  },
  {
   "cell_type": "code",
   "execution_count": 82,
   "metadata": {
    "ExecuteTime": {
     "end_time": "2023-10-20T02:20:43.064112Z",
     "start_time": "2023-10-20T02:20:42.819857Z"
    }
   },
   "outputs": [
    {
     "data": {
      "image/png": "[encoded data removed]",
      "text/plain": [
       "<Figure size 252x180 with 1 Axes>"
      ]
     },
     "metadata": {},
     "output_type": "display_data"
    }
   ],
   "source": [
    "plt.figure(figsize=(3.5, 2.5))\n",
    "ret = venn3([s1, s2, s3], \n",
    "      set_labels=[\"Biological\\nprocess (BP)\", \"Cellular\\ncomponent (CC)\", \"Molecular function (MF)\"], \n",
    "      set_colors=[\"C0\", \"C1\", \"C2\"])\n",
    "for item in ret.subset_labels:\n",
    "    if item is None:\n",
    "        continue\n",
    "    item.set_text(format(int(item.get_text()), \",\"))\n",
    "\n",
    "if False:\n",
    "    ret.subset_labels[0].set_text(None)\n",
    "    ret.subset_labels[1].set_text(None)\n",
    "    ret.subset_labels[2].set_text(None)\n",
    "    ret.subset_labels[3].set_text(None)\n",
    "    ret.subset_labels[4].set_text(None)\n",
    "    ret.subset_labels[5].set_text(None)\n",
    "    ax = plt.gca()\n",
    "    ax.annotate('321', xy=(-0.49, 0.2), xytext=(-0.8, 0.3), arrowprops=dict(facecolor='black', arrowstyle=\"-\"),)\n",
    "    ax.annotate('1,806', xy=(0, 0.51), xytext=(-0.12, 0.7), arrowprops=dict(facecolor='black', arrowstyle=\"-\"),)\n",
    "    ax.annotate('549', xy=(0.54, 0.0), xytext=(0.7, 0), arrowprops=dict(facecolor='black', arrowstyle=\"-\"),)\n",
    "\n",
    "plt.tight_layout()\n",
    "plt.show()\n",
    "# plt.savefig(\"figures/goterm_types.pdf\", dpi=300)"
   ]
  },
  {
   "cell_type": "code",
   "execution_count": 91,
   "metadata": {
    "ExecuteTime": {
     "end_time": "2023-10-20T02:22:12.483718Z",
     "start_time": "2023-10-20T02:22:12.269282Z"
    }
   },
   "outputs": [
    {
     "data": {
      "image/png": "[encoded data removed]",
      "text/plain": [
       "<Figure size 252x180 with 1 Axes>"
      ]
     },
     "metadata": {},
     "output_type": "display_data"
    }
   ],
   "source": [
    "plt.figure(figsize=(3.5, 2.5))\n",
    "ret = venn3([1, 1, 1, 1, 1, 1, 1], \n",
    "      set_labels=[\"Biological\\nprocess (BP)\", \"Cellular\\ncomponent (CC)\", \"Molecular function (MF)\"], \n",
    "      set_colors=[\"C0\", \"C1\", \"C2\"])\n",
    "\n",
    "ret.subset_labels[0].set_text(\"321\")\n",
    "ret.subset_labels[1].set_text(\"549\")\n",
    "ret.subset_labels[2].set_text(\"1,806\")\n",
    "ret.subset_labels[3].set_text(\"65\")\n",
    "ret.subset_labels[4].set_text(\"381\")\n",
    "ret.subset_labels[5].set_text(\"172\")\n",
    "ret.subset_labels[6].set_text(\"13,608\")\n",
    "\n",
    "plt.tight_layout()\n",
    "plt.savefig(\"figures/goterm_types.pdf\", dpi=300)"
   ]
  },
  {
   "cell_type": "code",
   "execution_count": 93,
   "metadata": {
    "ExecuteTime": {
     "end_time": "2023-10-20T02:23:57.538894Z",
     "start_time": "2023-10-20T02:23:47.710502Z"
    }
   },
   "outputs": [],
   "source": [
    "rows = []\n",
    "for g, gos in gene_go_terms.items():\n",
    "    for go in gos:\n",
    "        rows.append([go, g])\n",
    "tmp = pd.DataFrame(rows)\n",
    "tmp.to_csv(\"results/function/goterm/term2gene.tsv\", sep=\"\\t\", header=False, index=False)"
   ]
  },
  {
   "cell_type": "code",
   "execution_count": 94,
   "metadata": {
    "ExecuteTime": {
     "end_time": "2023-10-20T02:23:58.444630Z",
     "start_time": "2023-10-20T02:23:57.542390Z"
    }
   },
   "outputs": [],
   "source": [
    "rows = []\n",
    "for goid, term in term_dict.items():\n",
    "    rows.append([goid, term[\"name\"][0]])\n",
    "tmp = pd.DataFrame(rows)\n",
    "tmp.to_csv(\"results/function/goterm/term2name.tsv\", sep=\"\\t\", index=False, header=False)"
   ]
  }
 ],
 "metadata": {
  "kernelspec": {
   "display_name": "Python 3",
   "language": "python",
   "name": "python3"
  },
  "language_info": {
   "codemirror_mode": {
    "name": "ipython",
    "version": 3
   },
   "file_extension": ".py",
   "mimetype": "text/x-python",
   "name": "python",
   "nbconvert_exporter": "python",
   "pygments_lexer": "ipython3",
   "version": "3.6.13"
  }
 },
 "nbformat": 4,
 "nbformat_minor": 4
}
